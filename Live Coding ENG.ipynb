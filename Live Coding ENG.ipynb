{
 "cells": [
  {
   "cell_type": "markdown",
   "id": "b35fe87b",
   "metadata": {},
   "source": [
    "# Rock - Paper - Scissors - Lizard - Spock\n",
    "\n",
    "Welcome to [Pycon 23](https://pycon.it/) Beginners'Day! In this workshop you will learn the basics of programming in the Python language by developing several versions of the classic Rock-Paper-Scissors game from scratch. From the classic version to the **top** version in which through Machine Learning our program will recognize our move from the webcam, everything is at your fingertips."
   ]
  },
  {
   "cell_type": "markdown",
   "id": "78e5f376",
   "metadata": {},
   "source": [
    "## Task 1\n",
    "\n",
    "In the next cell we will study:\n",
    "\n",
    "* what is a variable in Python\n",
    "* what are the types of variables you can have in Python\n",
    "* how it is possible to take input from the user\n",
    "* how it is possible to create a list with the possible game choices\n",
    "* how it is possible to generate the computer's move randomly"
   ]
  },
  {
   "cell_type": "code",
   "execution_count": null,
   "id": "6cfa68db",
   "metadata": {
    "pycharm": {
     "is_executing": true
    }
   },
   "outputs": [],
   "source": []
  },
  {
   "cell_type": "markdown",
   "id": "f9faebb5",
   "metadata": {},
   "source": [
    "## Task 2\n",
    "\n",
    "In this cell we will compare the moves of the computer and the player to figure out **who won** and display an appropriate message"
   ]
  },
  {
   "cell_type": "code",
   "execution_count": null,
   "id": "90af3eea",
   "metadata": {},
   "outputs": [],
   "source": []
  },
  {
   "cell_type": "markdown",
   "id": "f9182a9f",
   "metadata": {},
   "source": [
    "### Task 2a - We repeat the game rounds to make a real game\n",
    "\n",
    "In this cell we will use a Python **loop** (specifically a `while` loop) to **play an indefinite number of rounds**. In particular we will repeat inside the `while` loop everything we have done so far for the single run:\n",
    "- take a choice as input from the user\n",
    "- generate the computer move\n",
    "- compare moves\n",
    "- show an output\n",
    "\n",
    "We will add one to these operations: **we ask the user if he wants to play again and, if not, we exit the game loop**."
   ]
  },
  {
   "cell_type": "code",
   "execution_count": null,
   "id": "47580fd9",
   "metadata": {},
   "outputs": [],
   "source": []
  },
  {
   "cell_type": "markdown",
   "id": "dd16cb05",
   "metadata": {},
   "source": [
    "## Task 3: Optimizations in the code\n",
    "\n",
    "Now that we have a basic version of the game where we can play against the computer and also increase the length of a game, let's be a little more **pro**.\n",
    "\n",
    "We will go in the next cells to implement a series of optimizations that will serve to make our code more maintainable and readable."
   ]
  },
  {
   "cell_type": "markdown",
   "id": "2dfe73b6",
   "metadata": {},
   "source": [
    "### Task 3a: Let's create an enum\n",
    "\n",
    "In this cell we are going to generalize the concept of \"action\" by creating a class that **inherits** the behavior of Python's `IntEnum`"
   ]
  },
  {
   "cell_type": "code",
   "execution_count": null,
   "id": "0ec721b6",
   "metadata": {},
   "outputs": [],
   "source": []
  },
  {
   "cell_type": "markdown",
   "id": "92eea47a",
   "metadata": {},
   "source": [
    "### Task 3b: Let's use functions to optimize the code\n",
    "\n",
    "Through the use of functions we divide our main program into \"blocks\" of code that can be called at any time we need them. In particular, our game can be divided into 3 phases:\n",
    "\n",
    "- Play user -> `get_user_selection()`\n",
    "- Let the computer play -> `get_computer_selection()`\n",
    "- Decide who won -> `determine_winner(user_selection, computer_selection)`"
   ]
  },
  {
   "cell_type": "code",
   "execution_count": null,
   "id": "08c5263b",
   "metadata": {},
   "outputs": [],
   "source": []
  },
  {
   "cell_type": "markdown",
   "id": "4ca7428d",
   "metadata": {},
   "source": [
    "Once these functions have been created, we can create a single one that contains all the game logic that we can invoke (or call) every time we want to start a new game:\n",
    "\n",
    "- `start_game()`\n"
   ]
  },
  {
   "cell_type": "code",
   "execution_count": null,
   "id": "8ebfa484",
   "metadata": {},
   "outputs": [],
   "source": []
  },
  {
   "cell_type": "markdown",
   "id": "6955e8bc",
   "metadata": {},
   "source": [
    "### Task 3c: Let's create a dictionary with the winning moves\n",
    "\n",
    "Let's create a dictionary where we will have a key/value pair for every possible move. In particular:\n",
    "- the **key** will be the action specified in our `Action` class\n",
    "- the **value** will be **a list** containing the actions of class `Action` that *lose* against the move specified as key"
   ]
  },
  {
   "cell_type": "code",
   "execution_count": null,
   "id": "96893f8d",
   "metadata": {},
   "outputs": [],
   "source": []
  },
  {
   "cell_type": "markdown",
   "id": "c3205d3c",
   "metadata": {},
   "source": [
    "### Task 3d: Let's use the dictionary and the `in` operator to simplify the checks"
   ]
  },
  {
   "cell_type": "code",
   "execution_count": null,
   "id": "dce77a8a",
   "metadata": {},
   "outputs": [],
   "source": []
  },
  {
   "cell_type": "markdown",
   "id": "ee1b1835",
   "metadata": {},
   "source": [
    "### Task 3e: Let's add the other moves: `lizard` and `spock`\n",
    "\n",
    "It is important to note that thanks to the optimizations already done **adding new moves comes to us *almost* free!**"
   ]
  },
  {
   "cell_type": "code",
   "execution_count": null,
   "id": "60f6e2d5",
   "metadata": {},
   "outputs": [],
   "source": []
  },
  {
   "cell_type": "markdown",
   "id": "67881ce8",
   "metadata": {},
   "source": [
    "### Task 3f: Let's make the game more *catchy* via ASCII art\n",
    "\n",
    "We will create two new dictionaries:\n",
    "- in `ascii_action` we will put the ascii art of the moves\n",
    "- in `ascii_results` we will put the ascii art of the possible results"
   ]
  },
  {
   "cell_type": "code",
   "execution_count": null,
   "id": "4422813d",
   "metadata": {},
   "outputs": [],
   "source": []
  },
  {
   "cell_type": "markdown",
   "id": "75f2c6d5",
   "metadata": {},
   "source": [
    "After that we will create two functions to easily display actions and results in ASCII art:\n",
    "- `display_action`\n",
    "- `display_results`"
   ]
  },
  {
   "cell_type": "code",
   "execution_count": null,
   "id": "c96921e2",
   "metadata": {},
   "outputs": [],
   "source": []
  },
  {
   "cell_type": "markdown",
   "id": "c1b643e3",
   "metadata": {},
   "source": [
    "To use these functions we will also need to modify the `determine_winner` function"
   ]
  },
  {
   "cell_type": "code",
   "execution_count": null,
   "id": "252c6e45",
   "metadata": {},
   "outputs": [],
   "source": []
  },
  {
   "cell_type": "markdown",
   "id": "5e478a36",
   "metadata": {},
   "source": [
    "### We keep the scores obtained in each game by users\n",
    "\n",
    "We will no longer be satisfied with just the single heat victory messages. We really want to play a game to understand who wins between user and computer after N rounds. Now we can have a real game against the computer and decide when to finish it!"
   ]
  },
  {
   "cell_type": "code",
   "execution_count": null,
   "id": "ec5766f6",
   "metadata": {},
   "outputs": [],
   "source": []
  },
  {
   "cell_type": "markdown",
   "id": "aae3e00d",
   "metadata": {},
   "source": [
    "### We use a graphical interface!\n",
    "\n",
    "In the next cell we're going to use a Jupyter feature that allows us to create a drop-down menu on the fly (after all, this is an HTML page, isn't it?) and to associate a behavior with the choice of item from the menu!\n",
    "\n",
    "Related concepts:\n",
    "- list comprehension\n",
    "- `widgets.Dropdown`"
   ]
  },
  {
   "cell_type": "code",
   "execution_count": null,
   "id": "a6b41097",
   "metadata": {},
   "outputs": [],
   "source": []
  },
  {
   "cell_type": "markdown",
   "id": "d95e966e",
   "metadata": {},
   "source": [
    "## Time to use ML!\n",
    "\n",
    "In the following cells we will use Machine Learning to train a predictive model capable of deducing the user's move starting from the shot of the hand obtained with the webcam.\n",
    "\n",
    "Let's install the necessary libraries and import them:"
   ]
  },
  {
   "cell_type": "markdown",
   "id": "2065bc78",
   "metadata": {},
   "source": []
  },
  {
   "cell_type": "code",
   "execution_count": null,
   "id": "735944ea",
   "metadata": {},
   "outputs": [],
   "source": []
  }
 ],
 "metadata": {
  "kernelspec": {
   "display_name": "Python 3.8.16 64-bit ('3.8.16')",
   "language": "python",
   "name": "python3"
  },
  "language_info": {
   "codemirror_mode": {
    "name": "ipython",
    "version": 3
   },
   "file_extension": ".py",
   "mimetype": "text/x-python",
   "name": "python",
   "nbconvert_exporter": "python",
   "pygments_lexer": "ipython3",
   "version": "3.8.16"
  },
  "vscode": {
   "interpreter": {
    "hash": "a868160dc497589bad58e6ca4f95a34f6f09fb234f71a91b012eccf9b5d92496"
   }
  }
 },
 "nbformat": 4,
 "nbformat_minor": 5
}
