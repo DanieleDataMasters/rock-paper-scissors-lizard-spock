{
 "cells": [
  {
   "cell_type": "markdown",
   "id": "b35fe87b",
   "metadata": {},
   "source": [
    "# Rock - Paper - Scissors - Lizard - Spock\n",
    "\n",
    "Benvenuto al Beginners'Day del [Pycon 23](https://pycon.it/)! In questo workshop imparerai le basi della programmazione con il linguaggio Python sviluppando da zero svariate versioni del classico gioco Sasso-Carta-Forbice. Dalla versione classica alla version **top** in cui tramite Machine Learning il nostro programma riconoscerà da webcam la nostra mossa, tutto è a portata di mano."
   ]
  },
  {
   "cell_type": "markdown",
   "id": "78e5f376",
   "metadata": {},
   "source": [
    "## Task 1\n",
    "\n",
    "Nella prossima cella studieremo:\n",
    "\n",
    "*   cos'è una variabile in Python\n",
    "*   quali sono i tipi di variabile che è possibile avere in Python\n",
    "*   come è possible prendere un input da parte dell'utente\n",
    "*   come è possibile creare una lista con le possibili scelte di gioco\n",
    "*   come è possibile generare la mossa del computer in maniera casuale"
   ]
  },
  {
   "cell_type": "code",
   "execution_count": null,
   "id": "6cfa68db",
   "metadata": {},
   "outputs": [],
   "source": []
  },
  {
   "cell_type": "markdown",
   "id": "f9faebb5",
   "metadata": {},
   "source": [
    "## Task 2\n",
    "\n",
    "In questa cella confronteremo le mosse del computer e del giocatore per capire **chi ha vinto** e mostrare un messaggio adeguato"
   ]
  },
  {
   "cell_type": "code",
   "execution_count": null,
   "id": "90af3eea",
   "metadata": {},
   "outputs": [],
   "source": []
  },
  {
   "cell_type": "markdown",
   "id": "f9182a9f",
   "metadata": {},
   "source": [
    "### Task 2a - Ripetiamo le manche di gioco per fare una partita vera e propria\n",
    "\n",
    "In questa cella useremo un **loop** Python (in particolare un ciclo `while`) per **giocare un numero indefinito di manche**. In particolare andremo a ripetere all'interno del ciclo `while` tutto quello che abbiamo fatto finora per la singola manche: \n",
    "- prendere in input dall'utente una scelta\n",
    "- generare la mossa del computer\n",
    "- confrontare le mosse\n",
    "- mostrare un output\n",
    "\n",
    "A queste operazioni ne aggiungeremo una: **chiediamo all'utente se vuole giocare ancora e, in caso negativo, usciamo dal loop di gioco**."
   ]
  },
  {
   "cell_type": "code",
   "execution_count": null,
   "id": "47580fd9",
   "metadata": {},
   "outputs": [],
   "source": []
  },
  {
   "cell_type": "markdown",
   "id": "371b2add",
   "metadata": {},
   "source": [
    "### Task 2b - Conserviamo i punteggi ottenuti manche per manche dagli utenti\n",
    "\n",
    "Non ci accontenteremo più solo dei messaggi di vittoria della singola manche. Vogliamo proprio fare una partita per capire chi vince fra utente e computer dopo N manche. Ora possiamo fare una vera e propria partita contro il computer e decidere quando finirla! "
   ]
  },
  {
   "cell_type": "code",
   "execution_count": null,
   "id": "4aa749f3",
   "metadata": {},
   "outputs": [],
   "source": []
  }
 ],
 "metadata": {
  "kernelspec": {
   "display_name": "Python 3 (ipykernel)",
   "language": "python",
   "name": "python3"
  },
  "language_info": {
   "codemirror_mode": {
    "name": "ipython",
    "version": 3
   },
   "file_extension": ".py",
   "mimetype": "text/x-python",
   "name": "python",
   "nbconvert_exporter": "python",
   "pygments_lexer": "ipython3",
   "version": "3.10.0"
  }
 },
 "nbformat": 4,
 "nbformat_minor": 5
}
