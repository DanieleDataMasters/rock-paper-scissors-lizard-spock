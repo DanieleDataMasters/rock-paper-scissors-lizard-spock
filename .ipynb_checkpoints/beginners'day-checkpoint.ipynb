{
 "cells": [
  {
   "cell_type": "markdown",
   "metadata": {},
   "source": [
    "# Rock-Paper-Scissors Game"
   ]
  },
  {
   "cell_type": "markdown",
   "metadata": {},
   "source": [
    "## Let's start with a simple version of the game"
   ]
  },
  {
   "cell_type": "markdown",
   "metadata": {},
   "source": [
    "### first imports"
   ]
  },
  {
   "cell_type": "code",
   "execution_count": 1,
   "metadata": {
    "ExecuteTime": {
     "end_time": "2023-04-28T18:02:31.532124Z",
     "start_time": "2023-04-28T18:02:31.505492Z"
    }
   },
   "outputs": [],
   "source": [
    "import random\n"
   ]
  },
  {
   "cell_type": "markdown",
   "metadata": {},
   "source": [
    "### let's define the possible actions"
   ]
  },
  {
   "cell_type": "code",
   "execution_count": 2,
   "metadata": {
    "ExecuteTime": {
     "end_time": "2023-04-27T18:27:59.071337Z",
     "start_time": "2023-04-27T18:27:57.859156Z"
    }
   },
   "outputs": [],
   "source": [
    "possible_actions = [\"rock\", \"paper\", \"scissors\"]"
   ]
  },
  {
   "cell_type": "markdown",
   "metadata": {},
   "source": [
    "### let's define the user action"
   ]
  },
  {
   "cell_type": "code",
   "execution_count": 3,
   "metadata": {
    "ExecuteTime": {
     "end_time": "2023-04-27T18:28:05.159222Z",
     "start_time": "2023-04-27T18:27:57.881771Z"
    }
   },
   "outputs": [
    {
     "name": "stdout",
     "output_type": "stream",
     "text": [
      "Enter a choice (rock, paper, scissors): rock\n"
     ]
    }
   ],
   "source": [
    "user_action = input(\"Enter a choice (rock, paper, scissors): \")\n"
   ]
  },
  {
   "cell_type": "markdown",
   "metadata": {},
   "source": [
    "### let's define the computer action"
   ]
  },
  {
   "cell_type": "code",
   "execution_count": 4,
   "metadata": {
    "ExecuteTime": {
     "end_time": "2023-04-27T18:28:05.159222Z",
     "start_time": "2023-04-27T18:28:04.076409Z"
    }
   },
   "outputs": [],
   "source": [
    "computer_action = random.choice(possible_actions)"
   ]
  },
  {
   "cell_type": "markdown",
   "metadata": {},
   "source": [
    "### let's print the user and computer actions"
   ]
  },
  {
   "cell_type": "code",
   "execution_count": 5,
   "metadata": {
    "ExecuteTime": {
     "end_time": "2023-04-27T18:28:05.169734Z",
     "start_time": "2023-04-27T18:28:04.089926Z"
    }
   },
   "outputs": [
    {
     "name": "stdout",
     "output_type": "stream",
     "text": [
      "\n",
      "You chose rock, computer chose scissors.\n",
      "\n"
     ]
    }
   ],
   "source": [
    "print(f\"\\nYou chose {user_action}, computer chose {computer_action}.\\n\")\n"
   ]
  },
  {
   "cell_type": "markdown",
   "metadata": {},
   "source": [
    "### let's define the game rules"
   ]
  },
  {
   "cell_type": "code",
   "execution_count": 6,
   "metadata": {
    "ExecuteTime": {
     "end_time": "2023-04-27T18:28:05.172244Z",
     "start_time": "2023-04-27T18:28:04.108574Z"
    }
   },
   "outputs": [
    {
     "name": "stdout",
     "output_type": "stream",
     "text": [
      "Rock smashes scissors! You win!\n"
     ]
    }
   ],
   "source": [
    "if user_action == computer_action:\n",
    "    print(f\"Both players selected {user_action}. It's a tie!\")\n",
    "elif user_action == \"rock\":\n",
    "    if computer_action == \"scissors\":\n",
    "        print(\"Rock smashes scissors! You win!\")\n",
    "    else:\n",
    "        print(\"Paper covers rock! You lose.\")\n",
    "elif user_action == \"paper\":\n",
    "    if computer_action == \"rock\":\n",
    "        print(\"Paper covers rock! You win!\")\n",
    "    else:\n",
    "        print(\"Scissors cuts paper! You lose.\")\n",
    "elif user_action == \"scissors\":\n",
    "    if computer_action == \"paper\":\n",
    "        print(\"Scissors cuts paper! You win!\")\n",
    "    else:\n",
    "        print(\"Rock smashes scissors! You lose.\")"
   ]
  },
  {
   "cell_type": "markdown",
   "metadata": {},
   "source": [
    "###  ask the user if he wants to play again"
   ]
  },
  {
   "cell_type": "code",
   "execution_count": 7,
   "metadata": {
    "ExecuteTime": {
     "end_time": "2023-04-27T18:28:11.834196Z",
     "start_time": "2023-04-27T18:28:04.128167Z"
    }
   },
   "outputs": [
    {
     "name": "stdout",
     "output_type": "stream",
     "text": [
      "Enter a choice (rock, paper, scissors): rock\n",
      "\n",
      "You chose rock, computer chose rock.\n",
      "\n",
      "Both players selected rock. It's a tie!\n",
      "Play again? (y/n): n\n"
     ]
    }
   ],
   "source": [
    "while True:\n",
    "    user_action = input(\"Enter a choice (rock, paper, scissors): \")\n",
    "    possible_actions = [\"rock\", \"paper\", \"scissors\"]\n",
    "    computer_action = random.choice(possible_actions)\n",
    "    print(f\"\\nYou chose {user_action}, computer chose {computer_action}.\\n\")\n",
    "\n",
    "    if user_action == computer_action:\n",
    "        print(f\"Both players selected {user_action}. It's a tie!\")\n",
    "    elif user_action == \"rock\":\n",
    "        if computer_action == \"scissors\":\n",
    "            print(\"Rock smashes scissors! You win!\")\n",
    "        else:\n",
    "            print(\"Paper covers rock! You lose.\")\n",
    "    elif user_action == \"paper\":\n",
    "        if computer_action == \"rock\":\n",
    "            print(\"Paper covers rock! You win!\")\n",
    "        else:\n",
    "            print(\"Scissors cuts paper! You lose.\")\n",
    "    elif user_action == \"scissors\":\n",
    "        if computer_action == \"paper\":\n",
    "            print(\"Scissors cuts paper! You win!\")\n",
    "        else:\n",
    "            print(\"Rock smashes scissors! You lose.\")\n",
    "\n",
    "    play_again = input(\"Play again? (y/n): \")\n",
    "    if play_again.lower() != \"y\":\n",
    "        break"
   ]
  },
  {
   "cell_type": "code",
   "execution_count": 8,
   "metadata": {
    "ExecuteTime": {
     "end_time": "2023-04-27T18:28:11.859621Z",
     "start_time": "2023-04-27T18:28:11.762090Z"
    }
   },
   "outputs": [
    {
     "name": "stdout",
     "output_type": "stream",
     "text": [
      "play_again == \"n\" False\n",
      "play_again != \"y\" True\n"
     ]
    }
   ],
   "source": [
    "play_again = \"yes\"\n",
    "print('play_again == \"n\"',play_again == \"n\")\n",
    "print('play_again != \"y\"',play_again != \"y\")"
   ]
  },
  {
   "cell_type": "markdown",
   "metadata": {},
   "source": [
    "## Let's improve the game"
   ]
  },
  {
   "cell_type": "markdown",
   "metadata": {},
   "source": [
    "### let's define the possible actions\n",
    "\n",
    "*N.B. le due celle (9) e (10) forse le possiamo eliminare per andare direttamente sull'enum.*"
   ]
  },
  {
   "cell_type": "code",
   "execution_count": 9,
   "metadata": {
    "ExecuteTime": {
     "end_time": "2023-04-27T18:28:11.861212Z",
     "start_time": "2023-04-27T18:28:11.778633Z"
    }
   },
   "outputs": [],
   "source": [
    "ROCK_ACTION = 0\n",
    "PAPER_ACTION = 1\n",
    "SCISSORS_ACTION = 2"
   ]
  },
  {
   "cell_type": "markdown",
   "metadata": {},
   "source": [
    "### let's define the user action"
   ]
  },
  {
   "cell_type": "code",
   "execution_count": 10,
   "metadata": {
    "ExecuteTime": {
     "end_time": "2023-04-27T18:28:13.439171Z",
     "start_time": "2023-04-27T18:28:11.794516Z"
    }
   },
   "outputs": [
    {
     "name": "stdout",
     "output_type": "stream",
     "text": [
      "Enter a choice (rock[0], paper[1], scissors[2]): 0\n",
      "You chose rock.\n"
     ]
    }
   ],
   "source": [
    "user_input = input(\"Enter a choice (rock[0], paper[1], scissors[2]): \")\n",
    "user_action = int(user_input)\n",
    "if user_action == ROCK_ACTION:\n",
    "    print(\"You chose rock.\")\n",
    "elif user_action == PAPER_ACTION:\n",
    "    print(\"You chose paper.\")\n",
    "elif user_action == SCISSORS_ACTION:\n",
    "    print(\"You chose scissors.\")"
   ]
  },
  {
   "cell_type": "markdown",
   "metadata": {},
   "source": [
    "### let's define Action as IntEnum"
   ]
  },
  {
   "cell_type": "code",
   "execution_count": 11,
   "metadata": {
    "ExecuteTime": {
     "end_time": "2023-04-27T18:28:13.439171Z",
     "start_time": "2023-04-27T18:28:13.345195Z"
    }
   },
   "outputs": [],
   "source": [
    "from enum import IntEnum\n",
    "\n",
    "class Action(IntEnum):\n",
    "    Rock = 0\n",
    "    Paper = 1\n",
    "    Scissors = 2"
   ]
  },
  {
   "cell_type": "code",
   "execution_count": 12,
   "metadata": {
    "ExecuteTime": {
     "end_time": "2023-04-27T18:28:13.439171Z",
     "start_time": "2023-04-27T18:28:13.362234Z"
    }
   },
   "outputs": [
    {
     "name": "stdout",
     "output_type": "stream",
     "text": [
      "Action.Rock == Action.Rock True\n",
      "Action.Rock == Action(0) True\n",
      "Action(0) Action.Rock\n"
     ]
    }
   ],
   "source": [
    "print('Action.Rock == Action.Rock',Action.Rock == Action.Rock)\n",
    "print('Action.Rock == Action(0)',Action.Rock == Action(0))\n",
    "print('Action(0)',Action(0))"
   ]
  },
  {
   "cell_type": "markdown",
   "metadata": {},
   "source": [
    "### let's define a function to get the user action"
   ]
  },
  {
   "cell_type": "code",
   "execution_count": 13,
   "metadata": {
    "ExecuteTime": {
     "end_time": "2023-04-27T18:28:13.440172Z",
     "start_time": "2023-04-27T18:28:13.377049Z"
    }
   },
   "outputs": [],
   "source": [
    "def get_user_selection():\n",
    "    user_input = input(\"Enter a choice (rock[0], paper[1], scissors[2]): \")\n",
    "    selection = int(user_input)\n",
    "    action = Action(selection)\n",
    "    return action"
   ]
  },
  {
   "cell_type": "code",
   "execution_count": 14,
   "metadata": {
    "ExecuteTime": {
     "end_time": "2023-04-27T18:28:14.324319Z",
     "start_time": "2023-04-27T18:28:13.396118Z"
    }
   },
   "outputs": [
    {
     "name": "stdout",
     "output_type": "stream",
     "text": [
      "Enter a choice (rock[0], paper[1], scissors[2]): 0\n"
     ]
    },
    {
     "data": {
      "text/plain": [
       "<Action.Rock: 0>"
      ]
     },
     "execution_count": 14,
     "metadata": {},
     "output_type": "execute_result"
    }
   ],
   "source": [
    "get_user_selection()"
   ]
  },
  {
   "cell_type": "markdown",
   "metadata": {},
   "source": [
    "### let's define a function to get the computer action"
   ]
  },
  {
   "cell_type": "code",
   "execution_count": 15,
   "metadata": {
    "ExecuteTime": {
     "end_time": "2023-04-27T18:28:14.326317Z",
     "start_time": "2023-04-27T18:28:14.109125Z"
    }
   },
   "outputs": [],
   "source": [
    "def get_computer_selection():\n",
    "    selection = random.randint(0, len(Action) - 1)\n",
    "    action = Action(selection)\n",
    "    return action"
   ]
  },
  {
   "cell_type": "code",
   "execution_count": 16,
   "metadata": {
    "ExecuteTime": {
     "end_time": "2023-04-27T18:28:14.326317Z",
     "start_time": "2023-04-27T18:28:14.124714Z"
    }
   },
   "outputs": [
    {
     "data": {
      "text/plain": [
       "<Action.Rock: 0>"
      ]
     },
     "execution_count": 16,
     "metadata": {},
     "output_type": "execute_result"
    }
   ],
   "source": [
    "get_computer_selection()"
   ]
  },
  {
   "cell_type": "markdown",
   "metadata": {},
   "source": [
    "### let's define a function to determine the winner"
   ]
  },
  {
   "cell_type": "code",
   "execution_count": 17,
   "metadata": {
    "ExecuteTime": {
     "end_time": "2023-04-27T18:28:14.327314Z",
     "start_time": "2023-04-27T18:28:14.142344Z"
    }
   },
   "outputs": [],
   "source": [
    "def determine_winner(user_action, computer_action):\n",
    "    if user_action == computer_action:\n",
    "        print(f\"Both players selected {user_action.name}. It's a tie!\")\n",
    "    elif user_action == Action.Rock:\n",
    "        if computer_action == Action.Scissors:\n",
    "            print(\"Rock smashes scissors! You win!\")\n",
    "        else:\n",
    "            print(\"Paper covers rock! You lose.\")\n",
    "    elif user_action == Action.Paper:\n",
    "        if computer_action == Action.Rock:\n",
    "            print(\"Paper covers rock! You win!\")\n",
    "        else:\n",
    "            print(\"Scissors cuts paper! You lose.\")\n",
    "    elif user_action == Action.Scissors:\n",
    "        if computer_action == Action.Paper:\n",
    "            print(\"Scissors cuts paper! You win!\")\n",
    "        else:\n",
    "            print(\"Rock smashes scissors! You lose.\")"
   ]
  },
  {
   "cell_type": "code",
   "execution_count": 18,
   "metadata": {
    "ExecuteTime": {
     "end_time": "2023-04-27T18:28:14.327314Z",
     "start_time": "2023-04-27T18:28:14.154874Z"
    }
   },
   "outputs": [
    {
     "name": "stdout",
     "output_type": "stream",
     "text": [
      "Rock smashes scissors! You win!\n"
     ]
    }
   ],
   "source": [
    "determine_winner(Action.Rock, Action.Scissors)"
   ]
  },
  {
   "cell_type": "markdown",
   "metadata": {},
   "source": [
    "### what happens if we pass an invalid action?"
   ]
  },
  {
   "cell_type": "code",
   "execution_count": 19,
   "metadata": {
    "ExecuteTime": {
     "end_time": "2023-04-27T18:28:14.348389Z",
     "start_time": "2023-04-27T18:28:14.169399Z"
    }
   },
   "outputs": [
    {
     "name": "stdout",
     "output_type": "stream",
     "text": [
      "3 is not a valid Action\n"
     ]
    }
   ],
   "source": [
    "try:\n",
    "    Action(3)\n",
    "except Exception as e:\n",
    "    print(e)"
   ]
  },
  {
   "cell_type": "markdown",
   "metadata": {},
   "source": [
    "### let's define a function to start the game"
   ]
  },
  {
   "cell_type": "code",
   "execution_count": 20,
   "metadata": {
    "ExecuteTime": {
     "end_time": "2023-04-27T18:28:16.313576Z",
     "start_time": "2023-04-27T18:28:14.184475Z"
    }
   },
   "outputs": [
    {
     "name": "stdout",
     "output_type": "stream",
     "text": [
      "Enter a choice (rock[0], paper[1], scissors[2]): 0\n",
      "Rock smashes scissors! You win!\n",
      "Play again? (y/n): n\n"
     ]
    }
   ],
   "source": [
    "while True:\n",
    "    try:\n",
    "        user_action = get_user_selection()\n",
    "    except ValueError as e:\n",
    "        range_str = f\"[0, {len(Action) - 1}]\"\n",
    "        print(f\"Invalid selection. Enter a value in range {range_str}\")\n",
    "        continue\n",
    "\n",
    "    computer_action = get_computer_selection()\n",
    "    determine_winner(user_action, computer_action)\n",
    "\n",
    "    play_again = input(\"Play again? (y/n): \")\n",
    "    if play_again.lower() != \"y\":\n",
    "        break"
   ]
  },
  {
   "cell_type": "code",
   "execution_count": 21,
   "metadata": {
    "ExecuteTime": {
     "end_time": "2023-04-27T18:28:16.336225Z",
     "start_time": "2023-04-27T18:28:16.294508Z"
    }
   },
   "outputs": [],
   "source": [
    "def start_game():\n",
    "    while True:\n",
    "        try:\n",
    "            user_action = get_user_selection()\n",
    "        except ValueError as e:\n",
    "            range_str = f\"[0, {len(Action) - 1}]\"\n",
    "            print(f\"Invalid selection. Enter a value in range {range_str}\")\n",
    "            continue\n",
    "\n",
    "        computer_action = get_computer_selection()\n",
    "        determine_winner(user_action, computer_action)\n",
    "\n",
    "        play_again = input(\"Play again? (y/n): \")\n",
    "        if play_again.lower() != \"y\":\n",
    "            break"
   ]
  },
  {
   "cell_type": "code",
   "execution_count": 22,
   "metadata": {},
   "outputs": [
    {
     "name": "stdout",
     "output_type": "stream",
     "text": [
      "Enter a choice (rock[0], paper[1], scissors[2]): 0\n",
      "Both players selected Rock. It's a tie!\n",
      "Play again? (y/n): y\n",
      "Enter a choice (rock[0], paper[1], scissors[2]): 2\n",
      "Scissors cuts paper! You win!\n",
      "Play again? (y/n): n\n"
     ]
    }
   ],
   "source": [
    "start_game()"
   ]
  },
  {
   "cell_type": "markdown",
   "metadata": {},
   "source": [
    "## Let's improve the game"
   ]
  },
  {
   "cell_type": "markdown",
   "metadata": {},
   "source": [
    "### time to generalize get_user_selection"
   ]
  },
  {
   "cell_type": "code",
   "execution_count": 23,
   "metadata": {
    "ExecuteTime": {
     "end_time": "2023-04-27T18:28:16.338150Z",
     "start_time": "2023-04-27T18:28:16.310023Z"
    }
   },
   "outputs": [],
   "source": [
    "def get_user_selection():\n",
    "    choices = [f\"{action.name}[{action.value}]\" for action in Action]\n",
    "    choices_str = \", \".join(choices)\n",
    "    selection = int(input(f\"Enter a choice ({choices_str}): \"))\n",
    "    action = Action(selection)\n",
    "    return action\n",
    "\n"
   ]
  },
  {
   "cell_type": "code",
   "execution_count": 24,
   "metadata": {
    "ExecuteTime": {
     "end_time": "2023-04-27T18:28:17.497587Z",
     "start_time": "2023-04-27T18:28:16.330615Z"
    }
   },
   "outputs": [
    {
     "name": "stdout",
     "output_type": "stream",
     "text": [
      "Enter a choice (Rock[0], Paper[1], Scissors[2]): 0\n"
     ]
    },
    {
     "data": {
      "text/plain": [
       "<Action.Rock: 0>"
      ]
     },
     "execution_count": 24,
     "metadata": {},
     "output_type": "execute_result"
    }
   ],
   "source": [
    "get_user_selection()"
   ]
  },
  {
   "cell_type": "markdown",
   "metadata": {},
   "source": [
    "### time to generalize determine_winner"
   ]
  },
  {
   "cell_type": "markdown",
   "metadata": {},
   "source": [
    "### time to map what beats what"
   ]
  },
  {
   "cell_type": "code",
   "execution_count": 25,
   "metadata": {
    "ExecuteTime": {
     "end_time": "2023-04-27T18:28:17.499595Z",
     "start_time": "2023-04-27T18:28:17.398790Z"
    }
   },
   "outputs": [],
   "source": [
    "victories = {\n",
    "    Action.Rock: [Action.Scissors],  # Rock beats scissors\n",
    "    Action.Paper: [Action.Rock],  # Paper beats rock\n",
    "    Action.Scissors: [Action.Paper]  # Scissors beats paper\n",
    "}"
   ]
  },
  {
   "cell_type": "code",
   "execution_count": 26,
   "metadata": {
    "ExecuteTime": {
     "end_time": "2023-04-27T18:28:17.501229Z",
     "start_time": "2023-04-27T18:28:17.414836Z"
    }
   },
   "outputs": [],
   "source": [
    "def determine_winner(user_action, computer_action):\n",
    "    print(f\"You chose {user_action.name}. The computer chose {computer_action.name}.\")\n",
    "    defeats = victories[user_action]\n",
    "    if user_action == computer_action:\n",
    "        print(f\"Both players selected {user_action.name}. It's a tie!\")\n",
    "    elif computer_action in defeats:\n",
    "        print(f\"{user_action.name} beats {computer_action.name}! You win!\")\n",
    "    else:\n",
    "        print(f\"{computer_action.name} beats {user_action.name}! You lose.\")"
   ]
  },
  {
   "cell_type": "code",
   "execution_count": 27,
   "metadata": {
    "ExecuteTime": {
     "end_time": "2023-04-27T18:28:17.501229Z",
     "start_time": "2023-04-27T18:28:17.431380Z"
    }
   },
   "outputs": [
    {
     "name": "stdout",
     "output_type": "stream",
     "text": [
      "You chose Rock. The computer chose Scissors.\n",
      "Rock beats Scissors! You win!\n"
     ]
    }
   ],
   "source": [
    "determine_winner(Action.Rock, Action.Scissors)\n"
   ]
  },
  {
   "cell_type": "code",
   "execution_count": 28,
   "metadata": {
    "ExecuteTime": {
     "end_time": "2023-04-27T18:28:18.763049Z",
     "start_time": "2023-04-27T18:28:17.448883Z"
    }
   },
   "outputs": [
    {
     "name": "stdout",
     "output_type": "stream",
     "text": [
      "Enter a choice (Rock[0], Paper[1], Scissors[2]): 0\n",
      "You chose Rock. The computer chose Scissors.\n",
      "Rock beats Scissors! You win!\n",
      "Play again? (y/n): n\n"
     ]
    }
   ],
   "source": [
    "start_game()"
   ]
  },
  {
   "cell_type": "markdown",
   "metadata": {},
   "source": [
    "## Let's improve the game Time for Rock Paper Scissors Lizard Spock"
   ]
  },
  {
   "cell_type": "markdown",
   "metadata": {},
   "source": [
    "\n"
   ]
  },
  {
   "cell_type": "markdown",
   "metadata": {},
   "source": [
    "### let's define the new possible actions"
   ]
  },
  {
   "cell_type": "code",
   "execution_count": 29,
   "metadata": {
    "ExecuteTime": {
     "end_time": "2023-04-27T18:28:18.775289Z",
     "start_time": "2023-04-27T18:28:18.692256Z"
    }
   },
   "outputs": [],
   "source": [
    "class Action(IntEnum):\n",
    "    Rock = 0\n",
    "    Paper = 1\n",
    "    Scissors = 2\n",
    "    Lizard = 3\n",
    "    Spock = 4\n",
    "\n",
    "victories = {\n",
    "    Action.Scissors: [Action.Lizard, Action.Paper],\n",
    "    Action.Paper: [Action.Spock, Action.Rock],\n",
    "    Action.Rock: [Action.Lizard, Action.Scissors],\n",
    "    Action.Lizard: [Action.Spock, Action.Paper],\n",
    "    Action.Spock: [Action.Scissors, Action.Rock]\n",
    "}\n"
   ]
  },
  {
   "cell_type": "code",
   "execution_count": 30,
   "metadata": {
    "ExecuteTime": {
     "end_time": "2023-04-27T18:28:20.639547Z",
     "start_time": "2023-04-27T18:28:18.709812Z"
    }
   },
   "outputs": [
    {
     "name": "stdout",
     "output_type": "stream",
     "text": [
      "Enter a choice (Rock[0], Paper[1], Scissors[2], Lizard[3], Spock[4]): 0\n",
      "You chose Rock. The computer chose Rock.\n",
      "Both players selected Rock. It's a tie!\n",
      "Play again? (y/n): n\n"
     ]
    }
   ],
   "source": [
    "start_game()"
   ]
  },
  {
   "cell_type": "markdown",
   "metadata": {},
   "source": [
    "### let's define the ascii art"
   ]
  },
  {
   "cell_type": "code",
   "execution_count": 31,
   "metadata": {
    "ExecuteTime": {
     "end_time": "2023-04-27T18:28:20.653574Z",
     "start_time": "2023-04-27T18:28:20.578750Z"
    }
   },
   "outputs": [],
   "source": [
    "ascii_action = {\n",
    "    Action.Scissors: r\"\"\"\n",
    "     _____      _\n",
    "    /  ___|    (_)\n",
    "    \\ `--.  ___ _ ___ ___  ___  _ __ ___\n",
    "     `--. \\/ __| / __/ __|/ _ \\| '__/ __|\n",
    "    /\\__/ / (__| \\__ \\__ \\ (_) | |  \\__ \\\\\n",
    "    \\____/ \\___|_|___/___/\\___/|_|  |___/\n",
    "    \"\"\",\n",
    "    Action.Paper: r\"\"\"\n",
    "    ______\n",
    "    | ___ \\\n",
    "    | |_/ /_ _ _ __   ___ _ __\n",
    "    |  __/ _` | '_ \\ / _ \\ '__|\n",
    "    | | | (_| | |_) |  __/ |\n",
    "    \\_|  \\__,_| .__/ \\___|_|\n",
    "              | |\n",
    "              |_|\n",
    "     \"\"\",\n",
    "    Action.Rock: r\"\"\"\n",
    "    ______           _\n",
    "    | ___ \\         | |\n",
    "    | |_/ /___   ___| | __\n",
    "    |    // _ \\ / __| |/ /\n",
    "    | |\\ \\ (_) | (__|   <\n",
    "    \\_| \\_\\___/ \\___|_|\\_\\\n",
    "\n",
    "     \"\"\",\n",
    "    Action.Lizard: r\"\"\"\n",
    "     _     _                      _\n",
    "    | |   (_)                    | |\n",
    "    | |    _ __________ _ _ __ __| |\n",
    "    | |   | |_  /_  / _` | '__/ _` |\n",
    "    | |___| |/ / / / (_| | | | (_| |\n",
    "    \\_____/_/___/___\\__,_|_|  \\__,_|\n",
    "     \"\"\",\n",
    "    Action.Spock: r\"\"\"\n",
    "     _____                  _\n",
    "    /  ___|                | |\n",
    "    \\ `--. _ __   ___   ___| | __\n",
    "     `--. \\ '_ \\ / _ \\ / __| |/ /\n",
    "    /\\__/ / |_) | (_) | (__|   <\n",
    "    \\____/| .__/ \\___/ \\___|_|\\_\\\\\n",
    "          | |\n",
    "          |_|\n",
    "    \"\"\"\n",
    "}\n",
    "\n",
    "COMPUTER_WIN=-1\n",
    "HUMAN_WIN=1\n",
    "DROW=0\n",
    "ascii_result = {\n",
    "    COMPUTER_WIN: r\"\"\"\n",
    " _____ ________  _________ _   _ _____ ___________\n",
    "/  __ \\  _  |  \\/  || ___ \\ | | |_   _|  ___| ___ \\\\\n",
    "| /  \\/ | | | .  . || |_/ / | | | | | | |__ | |_/ /\n",
    "| |   | | | | |\\/| ||  __/| | | | | | |  __||    /\n",
    "| \\__/\\ \\_/ / |  | || |   | |_| | | | | |___| |\\ \\\n",
    " \\____/\\___/\\_|  |_/\\_|    \\___/  \\_/ \\____/\\_| \\_|\n",
    "\n",
    "\n",
    " _    _ _____ _   _  _____   _ _ _\n",
    "| |  | |_   _| \\ | |/  ___| | | | |\n",
    "| |  | | | | |  \\| |\\ `--.  | | | |\n",
    "| |/\\| | | | | . ` | `--. \\ | | | |\n",
    "\\  /\\  /_| |_| |\\  |/\\__/ / |_|_|_|\n",
    " \\/  \\/ \\___/\\_| \\_/\\____/  (_|_|_)\n",
    "\n",
    "                                                   \"\"\",\n",
    "    HUMAN_WIN: r\"\"\"\n",
    " _   _ _   ____  ___  ___   _   _\n",
    "| | | | | | |  \\/  | / _ \\ | \\ | |\n",
    "| |_| | | | | .  . |/ /_\\ \\|  \\| |\n",
    "|  _  | | | | |\\/| ||  _  || . ` |\n",
    "| | | | |_| | |  | || | | || |\\  |\n",
    "\\_| |_/\\___/\\_|  |_/\\_| |_/\\_| \\_/\n",
    "\n",
    "\n",
    " _    _ _____ _   _  _____   _ _ _\n",
    "| |  | |_   _| \\ | |/  ___| | | | |\n",
    "| |  | | | | |  \\| |\\ `--.  | | | |\n",
    "| |/\\| | | | | . ` | `--. \\ | | | |\n",
    "\\  /\\  /_| |_| |\\  |/\\__/ / |_|_|_|\n",
    " \\/  \\/ \\___/\\_| \\_/\\____/  (_|_|_)\n",
    "\n",
    "\n",
    "        __\n",
    "       / _|\n",
    "      | |_ ___  _ __   _ __   _____      __\n",
    "      |  _/ _ \\| '__| | '_ \\ / _ \\ \\ /\\ / /\n",
    " _ _ _| || (_) | |    | | | | (_) \\ V  V /   _ _ _\n",
    "(_|_|_)_| \\___/|_|    |_| |_|\\___/ \\_/\\_/   (_|_|_)\n",
    "\n",
    "                                                   \"\"\",\n",
    "    DROW: r\"\"\"\n",
    "         _   _          _\n",
    "        | | (_)        | |\n",
    "  __ _  | |_ _  ___  __| |   __ _  __ _ _ __ ___   ___\n",
    " / _` | | __| |/ _ \\/ _` |  / _` |/ _` | '_ ` _ \\ / _ \\\\\n",
    "| (_| | | |_| |  __/ (_| | | (_| | (_| | | | | | |  __/\n",
    " \\__,_|  \\__|_|\\___|\\__,_|  \\__, |\\__,_|_| |_| |_|\\___|\n",
    "                             __/ |\n",
    "                            |___/\n",
    "  ___                     _                _            __\n",
    " / / |                   | |              (_)           \\ \\\\\n",
    "| || |__   _____      __ | |__   ___  _ __ _ _ __   __ _ | |\n",
    "| || '_ \\ / _ \\ \\ /\\ / / | '_ \\ / _ \\| '__| | '_ \\ / _` || |\n",
    "| || | | | (_) \\ V  V /  | |_) | (_) | |  | | | | | (_| || |\n",
    "| ||_| |_|\\___/ \\_/\\_/   |_.__/ \\___/|_|  |_|_| |_|\\__, || |\n",
    " \\_\\                                                __/ /_/\n",
    "                                                   |___/    \"\"\"\n",
    "}"
   ]
  },
  {
   "cell_type": "markdown",
   "metadata": {},
   "source": [
    "### Let's create two new fuctions for a better GUI"
   ]
  },
  {
   "cell_type": "code",
   "execution_count": 32,
   "metadata": {
    "ExecuteTime": {
     "end_time": "2023-04-27T18:28:20.655576Z",
     "start_time": "2023-04-27T18:28:20.585262Z"
    }
   },
   "outputs": [],
   "source": [
    "def display_action(action):\n",
    "    print(ascii_action[action])\n",
    "\n",
    "def display_result(result):\n",
    "    print(ascii_result[result])"
   ]
  },
  {
   "cell_type": "code",
   "execution_count": 33,
   "metadata": {
    "ExecuteTime": {
     "end_time": "2023-04-27T18:28:20.657579Z",
     "start_time": "2023-04-27T18:28:20.600390Z"
    }
   },
   "outputs": [
    {
     "name": "stdout",
     "output_type": "stream",
     "text": [
      "\n",
      "     _____                  _\n",
      "    /  ___|                | |\n",
      "    \\ `--. _ __   ___   ___| | __\n",
      "     `--. \\ '_ \\ / _ \\ / __| |/ /\n",
      "    /\\__/ / |_) | (_) | (__|   <\n",
      "    \\____/| .__/ \\___/ \\___|_|\\_\\\\\n",
      "          | |\n",
      "          |_|\n",
      "    \n"
     ]
    }
   ],
   "source": [
    "display_action(Action.Spock)"
   ]
  },
  {
   "cell_type": "code",
   "execution_count": 34,
   "metadata": {
    "ExecuteTime": {
     "end_time": "2023-04-27T18:28:20.658577Z",
     "start_time": "2023-04-27T18:28:20.616352Z"
    }
   },
   "outputs": [
    {
     "name": "stdout",
     "output_type": "stream",
     "text": [
      "\n",
      "         _   _          _\n",
      "        | | (_)        | |\n",
      "  __ _  | |_ _  ___  __| |   __ _  __ _ _ __ ___   ___\n",
      " / _` | | __| |/ _ \\/ _` |  / _` |/ _` | '_ ` _ \\ / _ \\\\\n",
      "| (_| | | |_| |  __/ (_| | | (_| | (_| | | | | | |  __/\n",
      " \\__,_|  \\__|_|\\___|\\__,_|  \\__, |\\__,_|_| |_| |_|\\___|\n",
      "                             __/ |\n",
      "                            |___/\n",
      "  ___                     _                _            __\n",
      " / / |                   | |              (_)           \\ \\\\\n",
      "| || |__   _____      __ | |__   ___  _ __ _ _ __   __ _ | |\n",
      "| || '_ \\ / _ \\ \\ /\\ / / | '_ \\ / _ \\| '__| | '_ \\ / _` || |\n",
      "| || | | | (_) \\ V  V /  | |_) | (_) | |  | | | | | (_| || |\n",
      "| ||_| |_|\\___/ \\_/\\_/   |_.__/ \\___/|_|  |_|_| |_|\\__, || |\n",
      " \\_\\                                                __/ /_/\n",
      "                                                   |___/    \n"
     ]
    }
   ],
   "source": [
    "display_result(DROW)"
   ]
  },
  {
   "cell_type": "markdown",
   "metadata": {},
   "source": [
    "### Let's Modify the determine_winner function"
   ]
  },
  {
   "cell_type": "code",
   "execution_count": 35,
   "metadata": {
    "ExecuteTime": {
     "end_time": "2023-04-27T18:28:20.689470Z",
     "start_time": "2023-04-27T18:28:20.629026Z"
    }
   },
   "outputs": [],
   "source": [
    "def determine_winner(user_action, computer_action):\n",
    "    print(f\"You chose\")\n",
    "    display_action(user_action)\n",
    "    print(f\"The computer chose\")\n",
    "    display_action(computer_action)\n",
    "    defeats = victories[user_action]\n",
    "    if user_action == computer_action:\n",
    "        display_result(DROW)\n",
    "        return DROW\n",
    "    elif computer_action in defeats:\n",
    "       display_result(HUMAN_WIN)\n",
    "       return HUMAN_WIN\n",
    "    else:\n",
    "       display_result(COMPUTER_WIN)\n",
    "       return COMPUTER_WIN\n"
   ]
  },
  {
   "cell_type": "code",
   "execution_count": 36,
   "metadata": {
    "ExecuteTime": {
     "end_time": "2023-04-27T18:28:22.345200Z",
     "start_time": "2023-04-27T18:28:20.647070Z"
    }
   },
   "outputs": [
    {
     "name": "stdout",
     "output_type": "stream",
     "text": [
      "Enter a choice (Rock[0], Paper[1], Scissors[2], Lizard[3], Spock[4]): 0\n",
      "You chose\n",
      "\n",
      "    ______           _\n",
      "    | ___ \\         | |\n",
      "    | |_/ /___   ___| | __\n",
      "    |    // _ \\ / __| |/ /\n",
      "    | |\\ \\ (_) | (__|   <\n",
      "    \\_| \\_\\___/ \\___|_|\\_\\\n",
      "\n",
      "     \n",
      "The computer chose\n",
      "\n",
      "    ______           _\n",
      "    | ___ \\         | |\n",
      "    | |_/ /___   ___| | __\n",
      "    |    // _ \\ / __| |/ /\n",
      "    | |\\ \\ (_) | (__|   <\n",
      "    \\_| \\_\\___/ \\___|_|\\_\\\n",
      "\n",
      "     \n",
      "\n",
      "         _   _          _\n",
      "        | | (_)        | |\n",
      "  __ _  | |_ _  ___  __| |   __ _  __ _ _ __ ___   ___\n",
      " / _` | | __| |/ _ \\/ _` |  / _` |/ _` | '_ ` _ \\ / _ \\\\\n",
      "| (_| | | |_| |  __/ (_| | | (_| | (_| | | | | | |  __/\n",
      " \\__,_|  \\__|_|\\___|\\__,_|  \\__, |\\__,_|_| |_| |_|\\___|\n",
      "                             __/ |\n",
      "                            |___/\n",
      "  ___                     _                _            __\n",
      " / / |                   | |              (_)           \\ \\\\\n",
      "| || |__   _____      __ | |__   ___  _ __ _ _ __   __ _ | |\n",
      "| || '_ \\ / _ \\ \\ /\\ / / | '_ \\ / _ \\| '__| | '_ \\ / _` || |\n",
      "| || | | | (_) \\ V  V /  | |_) | (_) | |  | | | | | (_| || |\n",
      "| ||_| |_|\\___/ \\_/\\_/   |_.__/ \\___/|_|  |_|_| |_|\\__, || |\n",
      " \\_\\                                                __/ /_/\n",
      "                                                   |___/    \n",
      "Play again? (y/n): n\n"
     ]
    }
   ],
   "source": [
    "start_game()"
   ]
  },
  {
   "cell_type": "markdown",
   "metadata": {},
   "source": [
    "### Let's add a new function to print the game results"
   ]
  },
  {
   "cell_type": "code",
   "execution_count": 37,
   "metadata": {
    "ExecuteTime": {
     "end_time": "2023-04-27T18:28:22.357744Z",
     "start_time": "2023-04-27T18:28:22.275975Z"
    }
   },
   "outputs": [],
   "source": [
    "def print_game_results(game_results):\n",
    "    num_tied = game_results.count(DROW)/len(game_results)*100\n",
    "    num_player_wins = game_results.count(HUMAN_WIN)/len(game_results)*100\n",
    "    num_computer_wins =game_results.count(COMPUTER_WIN)/len(game_results)*100\n",
    "\n",
    "    print( 'There were ', num_tied, '% tied games', \"\\nthe player won \", num_player_wins, '% of games\\nthe computer won ', num_computer_wins, '% of games\\nin a total of ', len(game_results), ' games')"
   ]
  },
  {
   "cell_type": "markdown",
   "metadata": {},
   "source": [
    "### Let's add a new function to start the game and memorize all games"
   ]
  },
  {
   "cell_type": "code",
   "execution_count": 38,
   "metadata": {
    "ExecuteTime": {
     "end_time": "2023-04-27T18:28:22.358746Z",
     "start_time": "2023-04-27T18:28:22.291505Z"
    }
   },
   "outputs": [],
   "source": [
    "def start_game(num_games=1):\n",
    "    game_results=[]\n",
    "    counter=0\n",
    "    while True:\n",
    "        try:\n",
    "            user_action = get_user_selection()\n",
    "        except ValueError as e:\n",
    "            range_str = f\"[0, {len(Action) - 1}]\"\n",
    "            print(f\"Invalid selection. Enter a value in range {range_str}\")\n",
    "            continue\n",
    "\n",
    "        computer_action = get_computer_selection()\n",
    "        game_results.append(determine_winner(user_action, computer_action))\n",
    "        counter+=1\n",
    "\n",
    "        if counter>=num_games:\n",
    "            break\n",
    "    print_game_results(game_results)\n",
    "    return game_results"
   ]
  },
  {
   "cell_type": "code",
   "execution_count": 39,
   "metadata": {
    "ExecuteTime": {
     "end_time": "2023-04-27T18:28:26.427768Z",
     "start_time": "2023-04-27T18:28:22.307285Z"
    }
   },
   "outputs": [
    {
     "name": "stdout",
     "output_type": "stream",
     "text": [
      "Enter a choice (Rock[0], Paper[1], Scissors[2], Lizard[3], Spock[4]): 0\n",
      "You chose\n",
      "\n",
      "    ______           _\n",
      "    | ___ \\         | |\n",
      "    | |_/ /___   ___| | __\n",
      "    |    // _ \\ / __| |/ /\n",
      "    | |\\ \\ (_) | (__|   <\n",
      "    \\_| \\_\\___/ \\___|_|\\_\\\n",
      "\n",
      "     \n",
      "The computer chose\n",
      "\n",
      "    ______\n",
      "    | ___ \\\n",
      "    | |_/ /_ _ _ __   ___ _ __\n",
      "    |  __/ _` | '_ \\ / _ \\ '__|\n",
      "    | | | (_| | |_) |  __/ |\n",
      "    \\_|  \\__,_| .__/ \\___|_|\n",
      "              | |\n",
      "              |_|\n",
      "     \n",
      "\n",
      " _____ ________  _________ _   _ _____ ___________\n",
      "/  __ \\  _  |  \\/  || ___ \\ | | |_   _|  ___| ___ \\\\\n",
      "| /  \\/ | | | .  . || |_/ / | | | | | | |__ | |_/ /\n",
      "| |   | | | | |\\/| ||  __/| | | | | | |  __||    /\n",
      "| \\__/\\ \\_/ / |  | || |   | |_| | | | | |___| |\\ \\\n",
      " \\____/\\___/\\_|  |_/\\_|    \\___/  \\_/ \\____/\\_| \\_|\n",
      "\n",
      "\n",
      " _    _ _____ _   _  _____   _ _ _\n",
      "| |  | |_   _| \\ | |/  ___| | | | |\n",
      "| |  | | | | |  \\| |\\ `--.  | | | |\n",
      "| |/\\| | | | | . ` | `--. \\ | | | |\n",
      "\\  /\\  /_| |_| |\\  |/\\__/ / |_|_|_|\n",
      " \\/  \\/ \\___/\\_| \\_/\\____/  (_|_|_)\n",
      "\n",
      "                                                   \n",
      "Enter a choice (Rock[0], Paper[1], Scissors[2], Lizard[3], Spock[4]): n\n",
      "Invalid selection. Enter a value in range [0, 4]\n",
      "Enter a choice (Rock[0], Paper[1], Scissors[2], Lizard[3], Spock[4]): 0\n",
      "You chose\n",
      "\n",
      "    ______           _\n",
      "    | ___ \\         | |\n",
      "    | |_/ /___   ___| | __\n",
      "    |    // _ \\ / __| |/ /\n",
      "    | |\\ \\ (_) | (__|   <\n",
      "    \\_| \\_\\___/ \\___|_|\\_\\\n",
      "\n",
      "     \n",
      "The computer chose\n",
      "\n",
      "     _____                  _\n",
      "    /  ___|                | |\n",
      "    \\ `--. _ __   ___   ___| | __\n",
      "     `--. \\ '_ \\ / _ \\ / __| |/ /\n",
      "    /\\__/ / |_) | (_) | (__|   <\n",
      "    \\____/| .__/ \\___/ \\___|_|\\_\\\\\n",
      "          | |\n",
      "          |_|\n",
      "    \n",
      "\n",
      " _____ ________  _________ _   _ _____ ___________\n",
      "/  __ \\  _  |  \\/  || ___ \\ | | |_   _|  ___| ___ \\\\\n",
      "| /  \\/ | | | .  . || |_/ / | | | | | | |__ | |_/ /\n",
      "| |   | | | | |\\/| ||  __/| | | | | | |  __||    /\n",
      "| \\__/\\ \\_/ / |  | || |   | |_| | | | | |___| |\\ \\\n",
      " \\____/\\___/\\_|  |_/\\_|    \\___/  \\_/ \\____/\\_| \\_|\n",
      "\n",
      "\n",
      " _    _ _____ _   _  _____   _ _ _\n",
      "| |  | |_   _| \\ | |/  ___| | | | |\n",
      "| |  | | | | |  \\| |\\ `--.  | | | |\n",
      "| |/\\| | | | | . ` | `--. \\ | | | |\n",
      "\\  /\\  /_| |_| |\\  |/\\__/ / |_|_|_|\n",
      " \\/  \\/ \\___/\\_| \\_/\\____/  (_|_|_)\n",
      "\n",
      "                                                   \n",
      "Enter a choice (Rock[0], Paper[1], Scissors[2], Lizard[3], Spock[4]): 0\n",
      "You chose\n",
      "\n",
      "    ______           _\n",
      "    | ___ \\         | |\n",
      "    | |_/ /___   ___| | __\n",
      "    |    // _ \\ / __| |/ /\n",
      "    | |\\ \\ (_) | (__|   <\n",
      "    \\_| \\_\\___/ \\___|_|\\_\\\n",
      "\n",
      "     \n",
      "The computer chose\n",
      "\n",
      "     _____      _\n",
      "    /  ___|    (_)\n",
      "    \\ `--.  ___ _ ___ ___  ___  _ __ ___\n",
      "     `--. \\/ __| / __/ __|/ _ \\| '__/ __|\n",
      "    /\\__/ / (__| \\__ \\__ \\ (_) | |  \\__ \\\\\n",
      "    \\____/ \\___|_|___/___/\\___/|_|  |___/\n",
      "    \n",
      "\n",
      " _   _ _   ____  ___  ___   _   _\n",
      "| | | | | | |  \\/  | / _ \\ | \\ | |\n",
      "| |_| | | | | .  . |/ /_\\ \\|  \\| |\n",
      "|  _  | | | | |\\/| ||  _  || . ` |\n",
      "| | | | |_| | |  | || | | || |\\  |\n",
      "\\_| |_/\\___/\\_|  |_/\\_| |_/\\_| \\_/\n",
      "\n",
      "\n",
      " _    _ _____ _   _  _____   _ _ _\n",
      "| |  | |_   _| \\ | |/  ___| | | | |\n",
      "| |  | | | | |  \\| |\\ `--.  | | | |\n",
      "| |/\\| | | | | . ` | `--. \\ | | | |\n",
      "\\  /\\  /_| |_| |\\  |/\\__/ / |_|_|_|\n",
      " \\/  \\/ \\___/\\_| \\_/\\____/  (_|_|_)\n",
      "\n",
      "\n",
      "        __\n",
      "       / _|\n",
      "      | |_ ___  _ __   _ __   _____      __\n",
      "      |  _/ _ \\| '__| | '_ \\ / _ \\ \\ /\\ / /\n",
      " _ _ _| || (_) | |    | | | | (_) \\ V  V /   _ _ _\n",
      "(_|_|_)_| \\___/|_|    |_| |_|\\___/ \\_/\\_/   (_|_|_)\n",
      "\n",
      "                                                   \n",
      "Enter a choice (Rock[0], Paper[1], Scissors[2], Lizard[3], Spock[4]): 0\n",
      "You chose\n",
      "\n",
      "    ______           _\n",
      "    | ___ \\         | |\n",
      "    | |_/ /___   ___| | __\n",
      "    |    // _ \\ / __| |/ /\n",
      "    | |\\ \\ (_) | (__|   <\n",
      "    \\_| \\_\\___/ \\___|_|\\_\\\n",
      "\n",
      "     \n",
      "The computer chose\n",
      "\n",
      "     _____      _\n",
      "    /  ___|    (_)\n",
      "    \\ `--.  ___ _ ___ ___  ___  _ __ ___\n",
      "     `--. \\/ __| / __/ __|/ _ \\| '__/ __|\n",
      "    /\\__/ / (__| \\__ \\__ \\ (_) | |  \\__ \\\\\n",
      "    \\____/ \\___|_|___/___/\\___/|_|  |___/\n",
      "    \n",
      "\n",
      " _   _ _   ____  ___  ___   _   _\n",
      "| | | | | | |  \\/  | / _ \\ | \\ | |\n",
      "| |_| | | | | .  . |/ /_\\ \\|  \\| |\n",
      "|  _  | | | | |\\/| ||  _  || . ` |\n",
      "| | | | |_| | |  | || | | || |\\  |\n",
      "\\_| |_/\\___/\\_|  |_/\\_| |_/\\_| \\_/\n",
      "\n",
      "\n",
      " _    _ _____ _   _  _____   _ _ _\n",
      "| |  | |_   _| \\ | |/  ___| | | | |\n",
      "| |  | | | | |  \\| |\\ `--.  | | | |\n",
      "| |/\\| | | | | . ` | `--. \\ | | | |\n",
      "\\  /\\  /_| |_| |\\  |/\\__/ / |_|_|_|\n",
      " \\/  \\/ \\___/\\_| \\_/\\____/  (_|_|_)\n",
      "\n",
      "\n",
      "        __\n",
      "       / _|\n",
      "      | |_ ___  _ __   _ __   _____      __\n",
      "      |  _/ _ \\| '__| | '_ \\ / _ \\ \\ /\\ / /\n",
      " _ _ _| || (_) | |    | | | | (_) \\ V  V /   _ _ _\n",
      "(_|_|_)_| \\___/|_|    |_| |_|\\___/ \\_/\\_/   (_|_|_)\n",
      "\n",
      "                                                   \n",
      "Enter a choice (Rock[0], Paper[1], Scissors[2], Lizard[3], Spock[4]): 0\n",
      "You chose\n",
      "\n",
      "    ______           _\n",
      "    | ___ \\         | |\n",
      "    | |_/ /___   ___| | __\n",
      "    |    // _ \\ / __| |/ /\n",
      "    | |\\ \\ (_) | (__|   <\n",
      "    \\_| \\_\\___/ \\___|_|\\_\\\n",
      "\n",
      "     \n",
      "The computer chose\n",
      "\n",
      "     _     _                      _\n",
      "    | |   (_)                    | |\n",
      "    | |    _ __________ _ _ __ __| |\n",
      "    | |   | |_  /_  / _` | '__/ _` |\n",
      "    | |___| |/ / / / (_| | | | (_| |\n",
      "    \\_____/_/___/___\\__,_|_|  \\__,_|\n",
      "     \n",
      "\n",
      " _   _ _   ____  ___  ___   _   _\n",
      "| | | | | | |  \\/  | / _ \\ | \\ | |\n",
      "| |_| | | | | .  . |/ /_\\ \\|  \\| |\n",
      "|  _  | | | | |\\/| ||  _  || . ` |\n",
      "| | | | |_| | |  | || | | || |\\  |\n",
      "\\_| |_/\\___/\\_|  |_/\\_| |_/\\_| \\_/\n",
      "\n",
      "\n",
      " _    _ _____ _   _  _____   _ _ _\n",
      "| |  | |_   _| \\ | |/  ___| | | | |\n",
      "| |  | | | | |  \\| |\\ `--.  | | | |\n",
      "| |/\\| | | | | . ` | `--. \\ | | | |\n",
      "\\  /\\  /_| |_| |\\  |/\\__/ / |_|_|_|\n",
      " \\/  \\/ \\___/\\_| \\_/\\____/  (_|_|_)\n",
      "\n",
      "\n",
      "        __\n",
      "       / _|\n",
      "      | |_ ___  _ __   _ __   _____      __\n",
      "      |  _/ _ \\| '__| | '_ \\ / _ \\ \\ /\\ / /\n",
      " _ _ _| || (_) | |    | | | | (_) \\ V  V /   _ _ _\n",
      "(_|_|_)_| \\___/|_|    |_| |_|\\___/ \\_/\\_/   (_|_|_)\n",
      "\n",
      "                                                   \n",
      "There were  0.0 % tied games \n",
      "the player won  60.0 % of games\n",
      "the computer won  40.0 % of games\n",
      "in a total of  5  games\n"
     ]
    }
   ],
   "source": [
    "game_results=start_game(5)"
   ]
  },
  {
   "cell_type": "markdown",
   "metadata": {},
   "source": [
    "### Let's modify the function to display the game results"
   ]
  },
  {
   "cell_type": "code",
   "execution_count": 40,
   "metadata": {
    "ExecuteTime": {
     "end_time": "2023-04-27T18:28:26.427768Z",
     "start_time": "2023-04-27T18:28:26.389688Z"
    }
   },
   "outputs": [],
   "source": [
    "from IPython.display import display,Image\n",
    "\n",
    "def display_action(action):\n",
    "    print(f\"./data/images/{action.name}.png\")\n",
    "    display(Image(f\"data/images/{action.name}.png\"))\n",
    "\n",
    "\n",
    "# def display_result(result):\n",
    "#     print(ascii_result[result])"
   ]
  },
  {
   "cell_type": "code",
   "execution_count": 41,
   "metadata": {
    "ExecuteTime": {
     "end_time": "2023-04-27T18:28:27.163120Z",
     "start_time": "2023-04-27T18:28:26.408736Z"
    }
   },
   "outputs": [
    {
     "name": "stdout",
     "output_type": "stream",
     "text": [
      "Enter a choice (Rock[0], Paper[1], Scissors[2], Lizard[3], Spock[4]): 0\n",
      "You chose\n",
      "./data/images/Rock.png\n"
     ]
    },
    {
     "data": {
      "image/png": "[encoded data removed]",
      "text/plain": [
       "<IPython.core.display.Image object>"
      ]
     },
     "metadata": {},
     "output_type": "display_data"
    },
    {
     "name": "stdout",
     "output_type": "stream",
     "text": [
      "The computer chose\n",
      "./data/images/Lizard.png\n"
     ]
    },
    {
     "data": {
      "image/png": "[encoded data removed]",
      "text/plain": [
       "<IPython.core.display.Image object>"
      ]
     },
     "metadata": {},
     "output_type": "display_data"
    },
    {
     "name": "stdout",
     "output_type": "stream",
     "text": [
      "\n",
      " _   _ _   ____  ___  ___   _   _\n",
      "| | | | | | |  \\/  | / _ \\ | \\ | |\n",
      "| |_| | | | | .  . |/ /_\\ \\|  \\| |\n",
      "|  _  | | | | |\\/| ||  _  || . ` |\n",
      "| | | | |_| | |  | || | | || |\\  |\n",
      "\\_| |_/\\___/\\_|  |_/\\_| |_/\\_| \\_/\n",
      "\n",
      "\n",
      " _    _ _____ _   _  _____   _ _ _\n",
      "| |  | |_   _| \\ | |/  ___| | | | |\n",
      "| |  | | | | |  \\| |\\ `--.  | | | |\n",
      "| |/\\| | | | | . ` | `--. \\ | | | |\n",
      "\\  /\\  /_| |_| |\\  |/\\__/ / |_|_|_|\n",
      " \\/  \\/ \\___/\\_| \\_/\\____/  (_|_|_)\n",
      "\n",
      "\n",
      "        __\n",
      "       / _|\n",
      "      | |_ ___  _ __   _ __   _____      __\n",
      "      |  _/ _ \\| '__| | '_ \\ / _ \\ \\ /\\ / /\n",
      " _ _ _| || (_) | |    | | | | (_) \\ V  V /   _ _ _\n",
      "(_|_|_)_| \\___/|_|    |_| |_|\\___/ \\_/\\_/   (_|_|_)\n",
      "\n",
      "                                                   \n",
      "There were  0.0 % tied games \n",
      "the player won  100.0 % of games\n",
      "the computer won  0.0 % of games\n",
      "in a total of  1  games\n"
     ]
    }
   ],
   "source": [
    "game_results=start_game(1)"
   ]
  },
  {
   "cell_type": "markdown",
   "metadata": {},
   "source": [
    "# Let's Create a GUI"
   ]
  },
  {
   "cell_type": "code",
   "execution_count": null,
   "metadata": {
    "ExecuteTime": {
     "end_time": "2023-04-27T18:28:27.361465Z",
     "start_time": "2023-04-27T18:28:27.121239Z"
    }
   },
   "outputs": [],
   "source": [
    "\n",
    "import ipywidgets as widgets"
   ]
  },
  {
   "cell_type": "code",
   "execution_count": null,
   "metadata": {
    "ExecuteTime": {
     "end_time": "2023-04-27T18:28:27.377877Z",
     "start_time": "2023-04-27T18:28:27.262195Z"
    }
   },
   "outputs": [],
   "source": [
    "def display_action(action):\n",
    "    print(ascii_action[action])\n",
    "\n"
   ]
  },
  {
   "cell_type": "code",
   "execution_count": 44,
   "metadata": {
    "ExecuteTime": {
     "end_time": "2023-04-27T18:28:27.378883Z",
     "start_time": "2023-04-27T18:28:27.280406Z"
    }
   },
   "outputs": [
    {
     "data": {
      "application/vnd.jupyter.widget-view+json": {
       "model_id": "26180a7d7b9c4abe8ef6f6f79300003d",
       "version_major": 2,
       "version_minor": 0
      },
      "text/plain": [
       "VBox(children=(Dropdown(description='Chose:', options=(('Rock', 0), ('Paper', 1), ('Scissors', 2), ('Lizard', …"
      ]
     },
     "metadata": {},
     "output_type": "display_data"
    }
   ],
   "source": [
    "options=[(action.name,action.value) for action in Action]\n",
    "menu = widgets.Dropdown(\n",
    "       options=options ,\n",
    "       description='Chose:')\n",
    "output = widgets.Output(layout={'border': '1px solid black'})\n",
    "\n",
    "def on_button_clicked(b):\n",
    "    output.clear_output()\n",
    "    with output:\n",
    "        computer_action = get_computer_selection()\n",
    "        determine_winner(Action(menu.value), computer_action)\n",
    "\n",
    "button = widgets.Button(description=\"Play!\", button_style='success', icon='check')\n",
    "button.on_click(on_button_clicked)\n",
    "box = widgets.VBox([menu, button, output])\n",
    "\n",
    "display(box)"
   ]
  },
  {
   "cell_type": "markdown",
   "metadata": {},
   "source": [
    "# Time to add a little bit of AI"
   ]
  },
  {
   "cell_type": "code",
   "execution_count": 53,
   "metadata": {
    "ExecuteTime": {
     "end_time": "2023-04-27T18:28:37.672879Z",
     "start_time": "2023-04-27T18:28:27.311208Z"
    }
   },
   "outputs": [
    {
     "name": "stdout",
     "output_type": "stream",
     "text": [
      "Requirement already satisfied: numpy in /Users/giumast/.pyenv/versions/3.10.0/lib/python3.10/site-packages (1.22.3)\n",
      "\u001b[33mWARNING: You are using pip version 21.2.3; however, version 23.1.2 is available.\n",
      "You should consider upgrading via the '/Users/giumast/.pyenv/versions/3.10.0/bin/python3.10 -m pip install --upgrade pip' command.\u001b[0m\n",
      "Requirement already satisfied: opencv-python in /Users/giumast/.pyenv/versions/3.10.0/lib/python3.10/site-packages (4.7.0.72)\n",
      "Requirement already satisfied: numpy>=1.17.3 in /Users/giumast/.pyenv/versions/3.10.0/lib/python3.10/site-packages (from opencv-python) (1.22.3)\n",
      "\u001b[33mWARNING: You are using pip version 21.2.3; however, version 23.1.2 is available.\n",
      "You should consider upgrading via the '/Users/giumast/.pyenv/versions/3.10.0/bin/python3.10 -m pip install --upgrade pip' command.\u001b[0m\n",
      "Requirement already satisfied: mediapipe in /Users/giumast/.pyenv/versions/3.10.0/lib/python3.10/site-packages (0.10.0)\n",
      "Requirement already satisfied: absl-py in /Users/giumast/.pyenv/versions/3.10.0/lib/python3.10/site-packages (from mediapipe) (1.2.0)\n",
      "Requirement already satisfied: opencv-contrib-python in /Users/giumast/.pyenv/versions/3.10.0/lib/python3.10/site-packages (from mediapipe) (4.7.0.72)\n",
      "Requirement already satisfied: protobuf<4,>=3.11 in /Users/giumast/.pyenv/versions/3.10.0/lib/python3.10/site-packages (from mediapipe) (3.20.1)\n",
      "Requirement already satisfied: numpy in /Users/giumast/.pyenv/versions/3.10.0/lib/python3.10/site-packages (from mediapipe) (1.22.3)\n",
      "Requirement already satisfied: attrs>=19.1.0 in /Users/giumast/.pyenv/versions/3.10.0/lib/python3.10/site-packages (from mediapipe) (21.4.0)\n",
      "Requirement already satisfied: flatbuffers>=2.0 in /Users/giumast/.pyenv/versions/3.10.0/lib/python3.10/site-packages (from mediapipe) (2.0)\n",
      "Requirement already satisfied: matplotlib in /Users/giumast/.pyenv/versions/3.10.0/lib/python3.10/site-packages (from mediapipe) (3.5.2)\n",
      "Requirement already satisfied: sounddevice>=0.4.4 in /Users/giumast/.pyenv/versions/3.10.0/lib/python3.10/site-packages (from mediapipe) (0.4.6)\n",
      "Requirement already satisfied: CFFI>=1.0 in /Users/giumast/.pyenv/versions/3.10.0/lib/python3.10/site-packages (from sounddevice>=0.4.4->mediapipe) (1.15.0)\n",
      "Requirement already satisfied: pycparser in /Users/giumast/.pyenv/versions/3.10.0/lib/python3.10/site-packages (from CFFI>=1.0->sounddevice>=0.4.4->mediapipe) (2.21)\n",
      "Requirement already satisfied: kiwisolver>=1.0.1 in /Users/giumast/.pyenv/versions/3.10.0/lib/python3.10/site-packages (from matplotlib->mediapipe) (1.4.4)\n",
      "Requirement already satisfied: python-dateutil>=2.7 in /Users/giumast/.pyenv/versions/3.10.0/lib/python3.10/site-packages (from matplotlib->mediapipe) (2.8.2)\n",
      "Requirement already satisfied: cycler>=0.10 in /Users/giumast/.pyenv/versions/3.10.0/lib/python3.10/site-packages (from matplotlib->mediapipe) (0.11.0)\n",
      "Requirement already satisfied: pillow>=6.2.0 in /Users/giumast/.pyenv/versions/3.10.0/lib/python3.10/site-packages (from matplotlib->mediapipe) (9.1.0)\n",
      "Requirement already satisfied: fonttools>=4.22.0 in /Users/giumast/.pyenv/versions/3.10.0/lib/python3.10/site-packages (from matplotlib->mediapipe) (4.34.4)\n",
      "Requirement already satisfied: packaging>=20.0 in /Users/giumast/.pyenv/versions/3.10.0/lib/python3.10/site-packages (from matplotlib->mediapipe) (21.3)\n",
      "Requirement already satisfied: pyparsing>=2.2.1 in /Users/giumast/.pyenv/versions/3.10.0/lib/python3.10/site-packages (from matplotlib->mediapipe) (3.0.9)\n",
      "Requirement already satisfied: six>=1.5 in /Users/giumast/.pyenv/versions/3.10.0/lib/python3.10/site-packages (from python-dateutil>=2.7->matplotlib->mediapipe) (1.16.0)\n",
      "\u001b[33mWARNING: You are using pip version 21.2.3; however, version 23.1.2 is available.\n",
      "You should consider upgrading via the '/Users/giumast/.pyenv/versions/3.10.0/bin/python3.10 -m pip install --upgrade pip' command.\u001b[0m\n"
     ]
    }
   ],
   "source": [
    "!pip install numpy\n",
    "!pip install opencv-python\n",
    "!pip install mediapipe\n"
   ]
  },
  {
   "cell_type": "code",
   "execution_count": 54,
   "metadata": {
    "ExecuteTime": {
     "end_time": "2023-04-27T18:28:40.434740Z",
     "start_time": "2023-04-27T18:28:37.663347Z"
    }
   },
   "outputs": [],
   "source": [
    "import cv2\n",
    "\n",
    "import numpy as np\n",
    "import mediapipe as mp"
   ]
  },
  {
   "cell_type": "code",
   "execution_count": 55,
   "metadata": {
    "ExecuteTime": {
     "end_time": "2023-04-27T18:28:40.466741Z",
     "start_time": "2023-04-27T18:28:40.409360Z"
    }
   },
   "outputs": [],
   "source": [
    "def display_action(action):\n",
    "    print(f\"./data/images/{action.name}.png\")\n",
    "    display(Image(f\"data/images/{action.name}.png\"))"
   ]
  },
  {
   "cell_type": "code",
   "execution_count": 56,
   "metadata": {
    "ExecuteTime": {
     "end_time": "2023-04-27T18:28:40.472260Z",
     "start_time": "2023-04-27T18:28:40.427220Z"
    }
   },
   "outputs": [],
   "source": [
    "# Define default camera intrinsic\n",
    "img_width  = 640\n",
    "img_height = 480\n",
    "intrin_default = {\n",
    "    'fx': img_width*0.9, # Approx 0.7w < f < w https://www.learnopencv.com/approximate-focal-length-for-webcams-and-cell-phone-cameras/\n",
    "    'fy': img_width*0.9,\n",
    "    'cx': img_width*0.5, # Approx center of image\n",
    "    'cy': img_height*0.5,\n",
    "    'width': img_width,\n",
    "    'height': img_height,\n",
    "}"
   ]
  },
  {
   "cell_type": "code",
   "execution_count": 58,
   "metadata": {
    "ExecuteTime": {
     "end_time": "2023-04-27T18:28:40.523419Z",
     "start_time": "2023-04-27T18:28:40.475277Z"
    }
   },
   "outputs": [],
   "source": [
    "class GestureRecognition:\n",
    "    def __init__(self):\n",
    "\n",
    "        # 11 types of gesture 'name':class label\n",
    "        self.gesture = {\n",
    "            'fist':0,'one':1,'two':2,'three':3,'four':4,'five':5,'six':6,\n",
    "            'rock':7,'spiderman':8,'yeah':9,'ok':10,\n",
    "        }\n",
    "\n",
    "        # Load training data\n",
    "        file = np.genfromtxt('./data/gesture_train.csv', delimiter=',')\n",
    "        # Extract input joint angles\n",
    "        angle = file[:,:-1].astype(np.float32)\n",
    "        # Extract output class label\n",
    "        label = file[:, -1].astype(np.float32)\n",
    "        # Use OpenCV KNN\n",
    "        self.knn = cv2.ml.KNearest_create()\n",
    "        self.knn.train(angle, cv2.ml.ROW_SAMPLE, label)\n",
    "\n",
    "\n",
    "\n",
    "    def eval(self, angle):\n",
    "        # Use KNN for gesture recognition\n",
    "        data = np.asarray([angle], dtype=np.float32)\n",
    "        ret, results, neighbours ,dist = self.knn.findNearest(data, 3)\n",
    "        idx = int(results[0][0]) # Index of class label\n",
    "\n",
    "        return list(self.gesture)[idx] # Return name of class label\n",
    "\n",
    "\n",
    "class MediaPipeHand:\n",
    "    def __init__(self, static_image_mode=True, max_num_hands=1,\n",
    "        model_complexity=1, intrin=None):\n",
    "        self.max_num_hands = max_num_hands\n",
    "        if intrin is None:\n",
    "            self.intrin = intrin_default\n",
    "        else:\n",
    "            self.intrin = intrin\n",
    "\n",
    "        # Access MediaPipe Solutions Python API\n",
    "        mp_hands = mp.solutions.hands\n",
    "        # help(mp_hands.Hands)\n",
    "\n",
    "        # Initialize MediaPipe Hands\n",
    "        # static_image_mode:\n",
    "        #   For video processing set to False:\n",
    "        #   Will use previous frame to localize hand to reduce latency\n",
    "        #   For unrelated images set to True:\n",
    "        #   To allow hand detection to run on every input images\n",
    "\n",
    "        # max_num_hands:\n",
    "        #   Maximum number of hands to detect\n",
    "\n",
    "        # model_complexity:\n",
    "        #   Complexity of the hand landmark model: 0 or 1.\n",
    "        #   Landmark accuracy as well as inference latency generally\n",
    "        #   go up with the model complexity. Default to 1.\n",
    "\n",
    "        # min_detection_confidence:\n",
    "        #   Confidence value [0,1] from hand detection model\n",
    "        #   for detection to be considered successful\n",
    "\n",
    "        # min_tracking_confidence:\n",
    "        #   Minimum confidence value [0,1] from landmark-tracking model\n",
    "        #   for hand landmarks to be considered tracked successfully,\n",
    "        #   or otherwise hand detection will be invoked automatically on the next input image.\n",
    "        #   Setting it to a higher value can increase robustness of the solution,\n",
    "        #   at the expense of a higher latency.\n",
    "        #   Ignored if static_image_mode is true, where hand detection simply runs on every image.\n",
    "\n",
    "        self.pipe = mp_hands.Hands(\n",
    "            static_image_mode=static_image_mode,\n",
    "            max_num_hands=max_num_hands,\n",
    "            model_complexity=model_complexity,\n",
    "            min_detection_confidence=0.5,\n",
    "            min_tracking_confidence=0.5)\n",
    "\n",
    "        # Define hand parameter\n",
    "        self.param = []\n",
    "        for i in range(max_num_hands):\n",
    "            p = {\n",
    "                'keypt'   : np.zeros((21,2)), # 2D keypt in image coordinate (pixel)\n",
    "                'joint'   : np.zeros((21,3)), # 3D joint in camera coordinate (m)\n",
    "                'class'   : None,             # Left / right / none hand\n",
    "                'score'   : 0,                # Probability of predicted handedness (always>0.5, and opposite handedness=1-score)\n",
    "                'angle'   : np.zeros(15),     # Flexion joint angles in degree\n",
    "                'gesture' : None,             # Type of hand gesture\n",
    "                'rvec'    : np.zeros(3),      # Global rotation vector Note: this term is only used for solvepnp initialization\n",
    "                'tvec'    : np.asarray([0,0,0.6]), # Global translation vector (m) Note: Init z direc to some +ve dist (i.e. in front of camera), to prevent solvepnp from wrongly estimating z as -ve\n",
    "                'fps'     : -1, # Frame per sec\n",
    "                # https://github.com/google/mediapipe/issues/1351\n",
    "                # 'visible' : np.zeros(21), # Visibility: Likelihood [0,1] of being visible (present and not occluded) in the image\n",
    "                # 'presence': np.zeros(21), # Presence: Likelihood [0,1] of being present in the image or if its located outside the image\n",
    "            }\n",
    "            self.param.append(p)\n",
    "\n",
    "\n",
    "    def result_to_param(self, result, img):\n",
    "        # Convert mediapipe result to my own param\n",
    "        img_height, img_width, _ = img.shape\n",
    "\n",
    "        # Reset param\n",
    "        for p in self.param:\n",
    "            p['class'] = None\n",
    "\n",
    "        if result.multi_hand_landmarks is not None:\n",
    "            # Loop through different hands\n",
    "            for i, res in enumerate(result.multi_handedness):\n",
    "                if i>self.max_num_hands-1: break # Note: Need to check if exceed max number of hand\n",
    "                self.param[i]['class'] = res.classification[0].label\n",
    "                self.param[i]['score'] = res.classification[0].score\n",
    "\n",
    "            # Loop through different hands\n",
    "            for i, res in enumerate(result.multi_hand_landmarks):\n",
    "                if i>self.max_num_hands-1: break # Note: Need to check if exceed max number of hand\n",
    "                # Loop through 21 landmark for each hand\n",
    "                for j, lm in enumerate(res.landmark):\n",
    "                    self.param[i]['keypt'][j,0] = lm.x * img_width  # Convert normalized coor to pixel [0,1] -> [0,width]\n",
    "                    self.param[i]['keypt'][j,1] = lm.y * img_height # Convert normalized coor to pixel [0,1] -> [0,height]\n",
    "\n",
    "                    # Ignore it https://github.com/google/mediapipe/issues/1320\n",
    "                    # self.param[i]['visible'][j] = lm.visibility\n",
    "                    # self.param[i]['presence'][j] = lm.presence\n",
    "\n",
    "        if result.multi_hand_world_landmarks is not None:\n",
    "            for i, res in enumerate(result.multi_hand_world_landmarks):\n",
    "                if i>self.max_num_hands-1: break # Note: Need to check if exceed max number of hand\n",
    "                # Loop through 21 landmark for each hand\n",
    "                for j, lm in enumerate(res.landmark):\n",
    "                    self.param[i]['joint'][j,0] = lm.x\n",
    "                    self.param[i]['joint'][j,1] = lm.y\n",
    "                    self.param[i]['joint'][j,2] = lm.z\n",
    "\n",
    "                # Convert relative 3D joint to angle\n",
    "                self.param[i]['angle'] = self.convert_joint_to_angle(self.param[i]['joint'])\n",
    "                # Convert relative 3D joint to camera coordinate\n",
    "                self.convert_joint_to_camera_coor(self.param[i], self.intrin)\n",
    "\n",
    "        return self.param\n",
    "\n",
    "\n",
    "    def convert_joint_to_angle(self, joint):\n",
    "        # Get direction vector of bone from parent to child\n",
    "        v1 = joint[[0,1,2,3,0,5,6,7,0,9,10,11,0,13,14,15,0,17,18,19],:] # Parent joint\n",
    "        v2 = joint[[1,2,3,4,5,6,7,8,9,10,11,12,13,14,15,16,17,18,19,20],:] # Child joint\n",
    "        v = v2 - v1 # [20,3]\n",
    "        # Normalize v\n",
    "        v = v/np.linalg.norm(v, axis=1)[:, np.newaxis]\n",
    "\n",
    "        # Get angle using arcos of dot product\n",
    "        angle = np.arccos(np.einsum('nt,nt->n',\n",
    "            v[[0,1,2,4,5,6,8,9,10,12,13,14,16,17,18],:],\n",
    "            v[[1,2,3,5,6,7,9,10,11,13,14,15,17,18,19],:])) # [15,]\n",
    "\n",
    "        return np.degrees(angle) # Convert radian to degree\n",
    "\n",
    "\n",
    "    def convert_joint_to_camera_coor(self, param, intrin, use_solvepnp=True):\n",
    "        # MediaPipe version 0.8.9.1 onwards:\n",
    "        # Given real-world 3D joint centered at middle MCP joint -> J_origin\n",
    "        # To estimate the 3D joint in camera coordinate          -> J_camera = J_origin + tvec,\n",
    "        # We need to find the unknown translation vector         -> tvec = [tx,ty,tz]\n",
    "        # Such that when J_camera is projected to the 2D image plane\n",
    "        # It matches the 2D keypoint locations\n",
    "\n",
    "        # Considering all 21 keypoints,\n",
    "        # Each keypoints will form 2 eq, in total we have 42 eq 3 unknowns\n",
    "        # Since the equations are linear wrt [tx,ty,tz]\n",
    "        # We can solve the unknowns using linear algebra A.x = b, where x = [tx,ty,tz]\n",
    "\n",
    "        # Consider a single keypoint (pixel x) and joint (X,Y,Z)\n",
    "        # Using the perspective projection eq:\n",
    "        # (x - cx)/fx = (X + tx) / (Z + tz)\n",
    "        # Similarly for pixel y:\n",
    "        # (y - cy)/fy = (Y + ty) / (Z + tz)\n",
    "        # Rearranging the above linear equations by keeping constants to the right hand side:\n",
    "        # fx.tx - (x - cx).tz = -fx.X + (x - cx).Z\n",
    "        # fy.ty - (y - cy).tz = -fy.Y + (y - cy).Z\n",
    "        # Therefore, we can factor out the unknowns and form a matrix eq:\n",
    "        # [fx  0 (x - cx)][tx]   [-fx.X + (x - cx).Z]\n",
    "        # [ 0 fy (y - cy)][ty] = [-fy.Y + (y - cy).Z]\n",
    "        #                 [tz]\n",
    "\n",
    "        idx = [i for i in range(21)] # Use all landmarks\n",
    "\n",
    "        if use_solvepnp:\n",
    "            # Method 1: OpenCV solvePnP\n",
    "            fx, fy = intrin['fx'], intrin['fy']\n",
    "            cx, cy = intrin['cx'], intrin['cy']\n",
    "            intrin_mat = np.asarray([[fx,0,cx],[0,fy,cy],[0,0,1]])\n",
    "            dist_coeff = np.zeros(4)\n",
    "\n",
    "            ret, param['rvec'], param['tvec'] = cv2.solvePnP(\n",
    "                param['joint'][idx], param['keypt'][idx],\n",
    "                intrin_mat, dist_coeff, param['rvec'], param['tvec'],\n",
    "                useExtrinsicGuess=True)\n",
    "            # Add tvec to all joints\n",
    "            param['joint'] += param['tvec']\n",
    "\n",
    "        else:\n",
    "            # Method 2:\n",
    "            A = np.zeros((len(idx),2,3))\n",
    "            b = np.zeros((len(idx),2))\n",
    "\n",
    "            A[:,0,0] = intrin['fx']\n",
    "            A[:,1,1] = intrin['fy']\n",
    "            A[:,0,2] = -(param['keypt'][idx,0] - intrin['cx'])\n",
    "            A[:,1,2] = -(param['keypt'][idx,1] - intrin['cy'])\n",
    "\n",
    "            b[:,0] = -intrin['fx'] * param['joint'][idx,0] \\\n",
    "                     + (param['keypt'][idx,0] - intrin['cx']) * param['joint'][idx,2]\n",
    "            b[:,1] = -intrin['fy'] * param['joint'][idx,1] \\\n",
    "                     + (param['keypt'][idx,1] - intrin['cy']) * param['joint'][idx,2]\n",
    "\n",
    "            A = A.reshape(-1,3) # [8,3]\n",
    "            b = b.flatten() # [8]\n",
    "\n",
    "            # Use the normal equation AT.A.x = AT.b to minimize the sum of the sq diff btw left and right sides\n",
    "            x = np.linalg.solve(A.T @ A, A.T @ b)\n",
    "            # Add tvec to all joints\n",
    "            param['joint'] += x\n",
    "\n",
    "\n",
    "\n",
    "    def forward(self, img):\n",
    "\n",
    "        # Extract result\n",
    "        result = self.pipe.process(img)\n",
    "\n",
    "        # Convert result to my own param\n",
    "        param = self.result_to_param(result, img)\n",
    "\n",
    "        return param\n",
    "\n",
    "\n"
   ]
  },
  {
   "cell_type": "code",
   "execution_count": 59,
   "metadata": {
    "ExecuteTime": {
     "end_time": "2023-04-27T18:28:40.536950Z",
     "start_time": "2023-04-27T18:28:40.525420Z"
    }
   },
   "outputs": [],
   "source": [
    "import io\n",
    "\n",
    "try:\n",
    "  from  google.colab.output import eval_js\n",
    "  colab = True\n",
    "except:\n",
    "  colab = False\n",
    "\n",
    "# colab=False\n",
    "\n",
    "if colab:\n",
    "    from IPython.display import display, Javascript\n",
    "    from  google.colab.output import eval_js\n",
    "    from base64 import b64decode\n",
    "    from PIL import Image as PIL_Image\n",
    "\n",
    "\n",
    "    def take_photo(quality=0.8):\n",
    "        js = Javascript('''\n",
    "        async function takePhoto(quality) {\n",
    "          const div = document.createElement('div');\n",
    "          const capture = document.createElement('button');\n",
    "          capture.textContent = 'Capture';\n",
    "          div.appendChild(capture);\n",
    "\n",
    "          const video = document.createElement('video');\n",
    "          video.style.display = 'block';\n",
    "          const stream = await navigator.mediaDevices.getUserMedia({video: true});\n",
    "\n",
    "          document.body.appendChild(div);\n",
    "          div.appendChild(video);\n",
    "          video.srcObject = stream;\n",
    "          await video.play();\n",
    "\n",
    "          // Resize the output to fit the video element.\n",
    "          google.colab.output.setIframeHeight(document.documentElement.scrollHeight, true);\n",
    "\n",
    "          // Wait for Capture to be clicked.\n",
    "          await new Promise((resolve) => capture.onclick = resolve);\n",
    "\n",
    "          const canvas = document.createElement('canvas');\n",
    "          canvas.width = video.videoWidth;\n",
    "          canvas.height = video.videoHeight;\n",
    "          canvas.getContext('2d').drawImage(video, 0, 0);\n",
    "          stream.getVideoTracks()[0].stop();\n",
    "          div.remove();\n",
    "          return canvas.toDataURL('image/jpeg', quality);\n",
    "        }\n",
    "        ''')\n",
    "        display(js)\n",
    "        data = eval_js('takePhoto({})'.format(quality))\n",
    "        binary = b64decode(data.split(',')[1])\n",
    "\n",
    "\n",
    "        image = PIL_Image.open(io.BytesIO(binary))\n",
    "        image_np = np.array(image)\n",
    "\n",
    "        # with open(filename, 'wb') as f:\n",
    "        #   f.write(binary)\n",
    "        return image_np\n",
    "else:\n",
    "    import cv2\n",
    "    def take_photo(filename='photo.jpg', quality=0.8):\n",
    "        cam = cv2.VideoCapture(0)\n",
    "\n",
    "        cv2.namedWindow(\"test\")\n",
    "\n",
    "        img_counter = 0\n",
    "\n",
    "        while True:\n",
    "            ret, frame = cam.read()\n",
    "            # Convert the image from BGR color (which OpenCV uses) to RGB color (which face_recognition uses)\n",
    "            if not ret:\n",
    "                print(\"failed to grab frame\")\n",
    "                break\n",
    "            cv2.imshow(\"test\", frame)\n",
    "\n",
    "            k = cv2.waitKey(1)\n",
    "            if k%256 == 27 or k%256 == 32 :\n",
    "                # ESC pressed\n",
    "                break\n",
    "\n",
    "        cam.release()\n",
    "\n",
    "        cv2.destroyAllWindows()\n",
    "\n",
    "        # Preprocess image\n",
    "        img = cv2.cvtColor(frame, cv2.COLOR_BGR2RGB)\n",
    "        # Flip image for 3rd person view\n",
    "        img = cv2.flip(img, 1)\n",
    "\n",
    "        # To improve performance, optionally mark image as not writeable to pass by reference\n",
    "        img.flags.writeable = False\n",
    "\n",
    "        return img"
   ]
  },
  {
   "cell_type": "code",
   "execution_count": 51,
   "metadata": {
    "ExecuteTime": {
     "end_time": "2023-04-27T18:30:09.768585Z",
     "start_time": "2023-04-27T18:30:09.646733Z"
    }
   },
   "outputs": [],
   "source": [
    "from matplotlib import pyplot as plt\n",
    "from IPython.display import Image\n",
    "def start_game(num_games=1):\n",
    "    game_results=[]\n",
    "    counter=0\n",
    "    # Load mediapipe hand class\n",
    "    pipe = MediaPipeHand(static_image_mode=True, max_num_hands=1)\n",
    "    # Load gesture recognition class\n",
    "    gest = GestureRecognition()\n",
    "    while True:\n",
    "        try:\n",
    "            img = take_photo()\n",
    "\n",
    "            # # Show the image which was just taken.\n",
    "            # plt.imshow(img)\n",
    "            # Feedforward to extract keypoint\n",
    "            param = pipe.forward(img)\n",
    "            # Evaluate gesture for all hands\n",
    "\n",
    "            for p in param:\n",
    "                if p['class'] is not None:\n",
    "                    p['gesture'] = gest.eval(p['angle'])\n",
    "                    # print(p['class'])\n",
    "                    # print(p['gesture'])\n",
    "\n",
    "                    if p['gesture']=='fist':\n",
    "                        action = Action.Rock\n",
    "                    elif p['gesture']=='five':\n",
    "                        action = Action.Paper\n",
    "                    elif (p['gesture']=='three') or (p['gesture']=='yeah'):\n",
    "                        action = Action.Scissors\n",
    "                    elif (p['gesture']=='rock') :\n",
    "                        action = Action.Lizard\n",
    "                    elif (p['gesture']=='four'):\n",
    "                        action = Action.Spock\n",
    "                    if action is not None:\n",
    "                        computer_action = get_computer_selection()\n",
    "                        game_results.append(determine_winner(action, computer_action))\n",
    "                        counter+=1\n",
    "                        print_game_results(game_results)\n",
    "                        old_action=action\n",
    "\n",
    "            if counter>=num_games:\n",
    "                break\n",
    "        except Exception as err:\n",
    "            # Errors will be thrown if the user does not have a webcam or if they do not\n",
    "            # grant the page permission to access it.\n",
    "            print(str(err))\n",
    "            raise err\n",
    "\n",
    "    pipe.pipe.close()"
   ]
  },
  {
   "cell_type": "code",
   "execution_count": 60,
   "metadata": {
    "ExecuteTime": {
     "end_time": "2023-04-27T18:30:42.212659Z",
     "start_time": "2023-04-27T18:30:10.209710Z"
    }
   },
   "outputs": [
    {
     "ename": "KeyboardInterrupt",
     "evalue": "",
     "output_type": "error",
     "traceback": [
      "\u001b[0;31m---------------------------------------------------------------------------\u001b[0m",
      "\u001b[0;31mKeyboardInterrupt\u001b[0m                         Traceback (most recent call last)",
      "Input \u001b[0;32mIn [60]\u001b[0m, in \u001b[0;36m<cell line: 1>\u001b[0;34m()\u001b[0m\n\u001b[0;32m----> 1\u001b[0m \u001b[43mstart_game\u001b[49m\u001b[43m(\u001b[49m\u001b[43mnum_games\u001b[49m\u001b[38;5;241;43m=\u001b[39;49m\u001b[38;5;241;43m5\u001b[39;49m\u001b[43m)\u001b[49m\n",
      "Input \u001b[0;32mIn [51]\u001b[0m, in \u001b[0;36mstart_game\u001b[0;34m(num_games)\u001b[0m\n\u001b[1;32m     10\u001b[0m \u001b[38;5;28;01mwhile\u001b[39;00m \u001b[38;5;28;01mTrue\u001b[39;00m:\n\u001b[1;32m     11\u001b[0m     \u001b[38;5;28;01mtry\u001b[39;00m:\n\u001b[0;32m---> 12\u001b[0m         img \u001b[38;5;241m=\u001b[39m \u001b[43mtake_photo\u001b[49m\u001b[43m(\u001b[49m\u001b[43m)\u001b[49m\n\u001b[1;32m     14\u001b[0m         \u001b[38;5;66;03m# # Show the image which was just taken.\u001b[39;00m\n\u001b[1;32m     15\u001b[0m         \u001b[38;5;66;03m# plt.imshow(img)\u001b[39;00m\n\u001b[1;32m     16\u001b[0m         \u001b[38;5;66;03m# Feedforward to extract keypoint\u001b[39;00m\n\u001b[1;32m     17\u001b[0m         param \u001b[38;5;241m=\u001b[39m pipe\u001b[38;5;241m.\u001b[39mforward(img)\n",
      "Input \u001b[0;32mIn [59]\u001b[0m, in \u001b[0;36mtake_photo\u001b[0;34m(filename, quality)\u001b[0m\n\u001b[1;32m     75\u001b[0m     \u001b[38;5;28;01mbreak\u001b[39;00m\n\u001b[1;32m     76\u001b[0m cv2\u001b[38;5;241m.\u001b[39mimshow(\u001b[38;5;124m\"\u001b[39m\u001b[38;5;124mtest\u001b[39m\u001b[38;5;124m\"\u001b[39m, frame)\n\u001b[0;32m---> 78\u001b[0m k \u001b[38;5;241m=\u001b[39m \u001b[43mcv2\u001b[49m\u001b[38;5;241;43m.\u001b[39;49m\u001b[43mwaitKey\u001b[49m\u001b[43m(\u001b[49m\u001b[38;5;241;43m1\u001b[39;49m\u001b[43m)\u001b[49m\n\u001b[1;32m     79\u001b[0m \u001b[38;5;28;01mif\u001b[39;00m k\u001b[38;5;241m%\u001b[39m\u001b[38;5;241m256\u001b[39m \u001b[38;5;241m==\u001b[39m \u001b[38;5;241m27\u001b[39m \u001b[38;5;129;01mor\u001b[39;00m k\u001b[38;5;241m%\u001b[39m\u001b[38;5;241m256\u001b[39m \u001b[38;5;241m==\u001b[39m \u001b[38;5;241m32\u001b[39m :\n\u001b[1;32m     80\u001b[0m     \u001b[38;5;66;03m# ESC pressed\u001b[39;00m\n\u001b[1;32m     81\u001b[0m     \u001b[38;5;28;01mbreak\u001b[39;00m\n",
      "\u001b[0;31mKeyboardInterrupt\u001b[0m: "
     ]
    }
   ],
   "source": [
    "start_game(num_games=5)"
   ]
  },
  {
   "cell_type": "code",
   "execution_count": 61,
   "metadata": {
    "ExecuteTime": {
     "end_time": "2023-04-27T18:31:15.401471Z",
     "start_time": "2023-04-27T18:31:15.363412Z"
    }
   },
   "outputs": [],
   "source": [
    "# 3D display"
   ]
  },
  {
   "cell_type": "code",
   "execution_count": 62,
   "metadata": {
    "ExecuteTime": {
     "end_time": "2023-04-27T18:31:21.016673Z",
     "start_time": "2023-04-27T18:31:16.328379Z"
    }
   },
   "outputs": [
    {
     "name": "stdout",
     "output_type": "stream",
     "text": [
      "Collecting open3d\n",
      "  Downloading open3d-0.17.0-cp310-cp310-macosx_13_0_arm64.whl (39.9 MB)\n",
      "\u001b[K     |████████████████████████████████| 39.9 MB 798 kB/s eta 0:00:01    |█▋                              | 2.0 MB 1.1 MB/s eta 0:00:36     |██▏                             | 2.7 MB 360 kB/s eta 0:01:44     |███████▏                        | 9.0 MB 220 kB/s eta 0:02:21     |███████████▌                    | 14.4 MB 3.6 MB/s eta 0:00:08     |█████████████▏                  | 16.4 MB 3.6 MB/s eta 0:00:07     |███████████████                 | 18.8 MB 4.5 MB/s eta 0:00:05     |█████████████████▌              | 21.8 MB 1.5 MB/s eta 0:00:12     |██████████████████▎             | 22.8 MB 454 kB/s eta 0:00:38     |██████████████████▊             | 23.3 MB 454 kB/s eta 0:00:37     |████████████████████            | 25.0 MB 541 kB/s eta 0:00:28     |████████████████████▍           | 25.4 MB 541 kB/s eta 0:00:27     |██████████████████████▉         | 28.5 MB 616 kB/s eta 0:00:19     |████████████████████████████▌   | 35.6 MB 353 kB/s eta 0:00:13     |█████████████████████████████   | 36.1 MB 159 kB/s eta 0:00:25\n",
      "\u001b[?25hRequirement already satisfied: scikit-learn>=0.21 in /Users/giumast/.pyenv/versions/3.10.0/lib/python3.10/site-packages (from open3d) (1.1.1)\n",
      "Collecting werkzeug>=2.2.3\n",
      "  Downloading Werkzeug-2.3.4-py3-none-any.whl (242 kB)\n",
      "\u001b[K     |████████████████████████████████| 242 kB 1.4 MB/s eta 0:00:01\n",
      "\u001b[?25hCollecting pillow>=9.3.0\n",
      "  Downloading Pillow-9.5.0-cp310-cp310-macosx_11_0_arm64.whl (3.1 MB)\n",
      "\u001b[K     |████████████████████████████████| 3.1 MB 472 kB/s eta 0:00:011     |█████████████▉                  | 1.3 MB 927 kB/s eta 0:00:02\n",
      "\u001b[?25hCollecting configargparse\n",
      "  Downloading ConfigArgParse-1.5.3-py3-none-any.whl (20 kB)\n",
      "Requirement already satisfied: matplotlib>=3 in /Users/giumast/.pyenv/versions/3.10.0/lib/python3.10/site-packages (from open3d) (3.5.2)\n",
      "Requirement already satisfied: numpy>1.15 in /Users/giumast/.pyenv/versions/3.10.0/lib/python3.10/site-packages (from open3d) (1.22.3)\n",
      "Collecting addict\n",
      "  Downloading addict-2.4.0-py3-none-any.whl (3.8 kB)\n",
      "Requirement already satisfied: pyyaml>=5.4.1 in /Users/giumast/.pyenv/versions/3.10.0/lib/python3.10/site-packages (from open3d) (6.0)\n",
      "Collecting nbformat==5.7.0\n",
      "  Downloading nbformat-5.7.0-py3-none-any.whl (77 kB)\n",
      "\u001b[K     |████████████████████████████████| 77 kB 309 kB/s eta 0:00:01\n",
      "\u001b[?25hCollecting pyquaternion\n",
      "  Downloading pyquaternion-0.9.9-py3-none-any.whl (14 kB)\n",
      "Requirement already satisfied: pandas>=1.0 in /Users/giumast/.pyenv/versions/3.10.0/lib/python3.10/site-packages (from open3d) (1.4.3)\n",
      "Requirement already satisfied: tqdm in /Users/giumast/.pyenv/versions/3.10.0/lib/python3.10/site-packages (from open3d) (4.64.0)\n",
      "Collecting dash>=2.6.0\n",
      "  Downloading dash-2.9.3-py3-none-any.whl (10.2 MB)\n",
      "\u001b[K     |████████████████████████████████| 10.2 MB 2.1 MB/s eta 0:00:01   |                                | 20 kB 175 kB/s eta 0:00:59     |███████▋                        | 2.4 MB 705 kB/s eta 0:00:12     |██████████████▎                 | 4.6 MB 1.7 MB/s eta 0:00:04     |████████████████▎               | 5.2 MB 1.7 MB/s eta 0:00:04     |██████████████████              | 5.8 MB 358 kB/s eta 0:00:13     |███████████████████▏            | 6.1 MB 358 kB/s eta 0:00:12\n",
      "\u001b[?25hRequirement already satisfied: jsonschema>=2.6 in /Users/giumast/.pyenv/versions/3.10.0/lib/python3.10/site-packages (from nbformat==5.7.0->open3d) (4.5.1)\n",
      "Requirement already satisfied: traitlets>=5.1 in /Users/giumast/.pyenv/versions/3.10.0/lib/python3.10/site-packages (from nbformat==5.7.0->open3d) (5.2.0)\n",
      "Requirement already satisfied: jupyter-core in /Users/giumast/.pyenv/versions/3.10.0/lib/python3.10/site-packages (from nbformat==5.7.0->open3d) (4.10.0)\n",
      "Requirement already satisfied: fastjsonschema in /Users/giumast/.pyenv/versions/3.10.0/lib/python3.10/site-packages (from nbformat==5.7.0->open3d) (2.15.3)\n",
      "Collecting dash-core-components==2.0.0\n",
      "  Downloading dash_core_components-2.0.0-py3-none-any.whl (3.8 kB)\n",
      "Collecting dash-table==5.0.0\n",
      "  Downloading dash_table-5.0.0-py3-none-any.whl (3.9 kB)\n",
      "Requirement already satisfied: Flask>=1.0.4 in /Users/giumast/.pyenv/versions/3.10.0/lib/python3.10/site-packages (from dash>=2.6.0->open3d) (2.1.0)\n",
      "Collecting dash-html-components==2.0.0\n",
      "  Downloading dash_html_components-2.0.0-py3-none-any.whl (4.1 kB)\n",
      "Collecting plotly>=5.0.0\n",
      "  Downloading plotly-5.14.1-py2.py3-none-any.whl (15.3 MB)\n",
      "\u001b[K     |████████████████████████████████| 15.3 MB 275 kB/s eta 0:00:01     |██▏                             | 1.1 MB 30.6 MB/s eta 0:00:01     |██████▊                         | 3.2 MB 2.4 MB/s eta 0:00:05     |█████████▋                      | 4.6 MB 1.8 MB/s eta 0:00:07     |████████████████▌               | 7.9 MB 129 kB/s eta 0:00:58     |█████████████████████▍          | 10.3 MB 3.4 MB/s eta 0:00:02     |█████████████████████████▎      | 12.1 MB 584 kB/s eta 0:00:06\n",
      "\u001b[?25hRequirement already satisfied: Jinja2>=3.0 in /Users/giumast/.pyenv/versions/3.10.0/lib/python3.10/site-packages (from Flask>=1.0.4->dash>=2.6.0->open3d) (3.1.2)\n",
      "Requirement already satisfied: click>=8.0 in /Users/giumast/.pyenv/versions/3.10.0/lib/python3.10/site-packages (from Flask>=1.0.4->dash>=2.6.0->open3d) (8.1.3)\n",
      "Requirement already satisfied: itsdangerous>=2.0 in /Users/giumast/.pyenv/versions/3.10.0/lib/python3.10/site-packages (from Flask>=1.0.4->dash>=2.6.0->open3d) (2.1.2)\n",
      "Requirement already satisfied: MarkupSafe>=2.0 in /Users/giumast/.pyenv/versions/3.10.0/lib/python3.10/site-packages (from Jinja2>=3.0->Flask>=1.0.4->dash>=2.6.0->open3d) (2.1.1)\n",
      "Requirement already satisfied: pyrsistent!=0.17.0,!=0.17.1,!=0.17.2,>=0.14.0 in /Users/giumast/.pyenv/versions/3.10.0/lib/python3.10/site-packages (from jsonschema>=2.6->nbformat==5.7.0->open3d) (0.18.1)\n",
      "Requirement already satisfied: attrs>=17.4.0 in /Users/giumast/.pyenv/versions/3.10.0/lib/python3.10/site-packages (from jsonschema>=2.6->nbformat==5.7.0->open3d) (21.4.0)\n",
      "Requirement already satisfied: cycler>=0.10 in /Users/giumast/.pyenv/versions/3.10.0/lib/python3.10/site-packages (from matplotlib>=3->open3d) (0.11.0)\n",
      "Requirement already satisfied: pyparsing>=2.2.1 in /Users/giumast/.pyenv/versions/3.10.0/lib/python3.10/site-packages (from matplotlib>=3->open3d) (3.0.9)\n",
      "Requirement already satisfied: python-dateutil>=2.7 in /Users/giumast/.pyenv/versions/3.10.0/lib/python3.10/site-packages (from matplotlib>=3->open3d) (2.8.2)\n",
      "Requirement already satisfied: fonttools>=4.22.0 in /Users/giumast/.pyenv/versions/3.10.0/lib/python3.10/site-packages (from matplotlib>=3->open3d) (4.34.4)\n",
      "Requirement already satisfied: packaging>=20.0 in /Users/giumast/.pyenv/versions/3.10.0/lib/python3.10/site-packages (from matplotlib>=3->open3d) (21.3)\n",
      "Requirement already satisfied: kiwisolver>=1.0.1 in /Users/giumast/.pyenv/versions/3.10.0/lib/python3.10/site-packages (from matplotlib>=3->open3d) (1.4.4)\n",
      "Requirement already satisfied: pytz>=2020.1 in /Users/giumast/.pyenv/versions/3.10.0/lib/python3.10/site-packages (from pandas>=1.0->open3d) (2022.1)\n",
      "Collecting tenacity>=6.2.0\n",
      "  Downloading tenacity-8.2.2-py3-none-any.whl (24 kB)\n",
      "Requirement already satisfied: six>=1.5 in /Users/giumast/.pyenv/versions/3.10.0/lib/python3.10/site-packages (from python-dateutil>=2.7->matplotlib>=3->open3d) (1.16.0)\n",
      "Requirement already satisfied: threadpoolctl>=2.0.0 in /Users/giumast/.pyenv/versions/3.10.0/lib/python3.10/site-packages (from scikit-learn>=0.21->open3d) (3.1.0)\n",
      "Requirement already satisfied: joblib>=1.0.0 in /Users/giumast/.pyenv/versions/3.10.0/lib/python3.10/site-packages (from scikit-learn>=0.21->open3d) (1.1.0)\n",
      "Requirement already satisfied: scipy>=1.3.2 in /Users/giumast/.pyenv/versions/3.10.0/lib/python3.10/site-packages (from scikit-learn>=0.21->open3d) (1.8.1)\n",
      "Installing collected packages: werkzeug, tenacity, plotly, pillow, dash-table, dash-html-components, dash-core-components, pyquaternion, nbformat, dash, configargparse, addict, open3d\n",
      "  Attempting uninstall: werkzeug\n",
      "    Found existing installation: Werkzeug 2.1.2\n",
      "    Uninstalling Werkzeug-2.1.2:\n",
      "      Successfully uninstalled Werkzeug-2.1.2\n",
      "  Attempting uninstall: pillow\n",
      "    Found existing installation: Pillow 9.1.0\n",
      "    Uninstalling Pillow-9.1.0:\n",
      "      Successfully uninstalled Pillow-9.1.0\n"
     ]
    },
    {
     "name": "stdout",
     "output_type": "stream",
     "text": [
      "  Attempting uninstall: nbformat\n",
      "    Found existing installation: nbformat 5.4.0\n",
      "    Uninstalling nbformat-5.4.0:\n",
      "      Successfully uninstalled nbformat-5.4.0\n",
      "Successfully installed addict-2.4.0 configargparse-1.5.3 dash-2.9.3 dash-core-components-2.0.0 dash-html-components-2.0.0 dash-table-5.0.0 nbformat-5.7.0 open3d-0.17.0 pillow-9.5.0 plotly-5.14.1 pyquaternion-0.9.9 tenacity-8.2.2 werkzeug-2.3.4\n",
      "\u001b[33mWARNING: You are using pip version 21.2.3; however, version 23.1.2 is available.\n",
      "You should consider upgrading via the '/Users/giumast/.pyenv/versions/3.10.0/bin/python3.10 -m pip install --upgrade pip' command.\u001b[0m\n"
     ]
    }
   ],
   "source": [
    "!pip install open3d\n",
    "import open3d as o3d\n",
    "class DisplayCamera:\n",
    "    def __init__(self, vis, intrin=None):\n",
    "        self.vis = vis\n",
    "\n",
    "        # Get camera intrinsics param\n",
    "        if intrin is None:\n",
    "            self.intrin = intrin_default\n",
    "        else:\n",
    "            self.intrin = intrin\n",
    "\n",
    "        # Note: Need to subtract optical center by 0.5\n",
    "        # https://github.com/intel-isl/Open3D/issues/727\n",
    "        self.intrin['cx'] -= 0.5\n",
    "        self.intrin['cy'] -= 0.5\n",
    "\n",
    "        # For reset_view\n",
    "        self.pinhole = o3d.camera.PinholeCameraParameters()\n",
    "        self.pinhole.extrinsic = np.eye(4)\n",
    "        self.pinhole.intrinsic = o3d.camera.PinholeCameraIntrinsic(\n",
    "            self.intrin['width'], self.intrin['height'],\n",
    "            self.intrin['fx'], self.intrin['fy'],\n",
    "            self.intrin['cx'], self.intrin['cy'])\n",
    "\n",
    "\n",
    "    def reset_view(self):\n",
    "        # Reset camera view to this camera\n",
    "        self.vis.get_view_control().convert_from_pinhole_camera_parameters(\n",
    "            self.pinhole)\n",
    "\n",
    "\n",
    "    def unproject_pt(self, u, v, depth):\n",
    "        # Transform 2D pixels to 3D points\n",
    "        # Given pixel coordinates and depth in an image\n",
    "        # with no distortion or inverse distortion coefficients\n",
    "        # compute the corresponding point in 3D space relative to the same camera\n",
    "        x = (u - self.intrin['cx'])/self.intrin['fx']*depth\n",
    "        y = (v - self.intrin['cy'])/self.intrin['fy']*depth\n",
    "        z = depth\n",
    "\n",
    "        return [x, y, z]\n",
    "\n",
    "\n",
    "    def create_camera_frustum(self, depth=[0.5,1.0]):\n",
    "        # Get camera intrinsics param\n",
    "        w  = self.intrin['width']\n",
    "        h  = self.intrin['height']\n",
    "\n",
    "        # Each frustum 8 lines, each line 2 pts, and plot at 2 different depths\n",
    "        points, lines = [], []\n",
    "        c = 0 # Counter\n",
    "        points.append([0,0,0]) # Origin\n",
    "        for d in depth: # Plot at different depth\n",
    "            points.append(self.unproject_pt(0, 0, d)) # Top left\n",
    "            points.append(self.unproject_pt(w, 0, d)) # Top right\n",
    "            points.append(self.unproject_pt(w, h, d)) # Bottom left\n",
    "            points.append(self.unproject_pt(0, h, d)) # Bottom right\n",
    "            lines.append([0,c+1]);   lines.append([0,c+2])\n",
    "            lines.append([0,c+3]);   lines.append([0,c+4])\n",
    "            lines.append([c+1,c+2]); lines.append([c+2,c+3])\n",
    "            lines.append([c+3,c+4]); lines.append([c+4,c+1])\n",
    "            c += 4\n",
    "\n",
    "        # Set to uniform light gray color\n",
    "        colors = [[0.75,0.75,0.75] for i in range(len(lines))]\n",
    "\n",
    "        line = o3d.geometry.LineSet()\n",
    "        line.lines  = o3d.utility.Vector2iVector(lines)\n",
    "        line.points = o3d.utility.Vector3dVector(points)\n",
    "        line.colors = o3d.utility.Vector3dVector(colors)\n",
    "\n",
    "        return line\n",
    "\n",
    "\n",
    "    def create_mesh_img(self, img=None, depth=1.0):\n",
    "        # Get camera intrinsics param\n",
    "        w  = self.intrin['width']\n",
    "        h  = self.intrin['height']\n",
    "\n",
    "        if img is None:\n",
    "            img = np.zeros((h, w, 3), dtype=np.uint8)\n",
    "\n",
    "        vert = []\n",
    "        vert.append(self.unproject_pt( 0, 0, depth)) # Top left\n",
    "        vert.append(self.unproject_pt( w, 0, depth)) # Top right\n",
    "        vert.append(self.unproject_pt( w, h, depth)) # Bottom left\n",
    "        vert.append(self.unproject_pt( 0, h, depth)) # Bottom right\n",
    "\n",
    "        mesh = o3d.geometry.TriangleMesh()\n",
    "        # Convention of 4 vertices\n",
    "        # --> right x\n",
    "        # Down y\n",
    "        # Vertex 0 (-x,-y) -- Vertex 1 (x,-y)\n",
    "        # Vertex 3 (-x,y)  -- Vertex 2 (x,y)\n",
    "        mesh.vertices = o3d.utility.Vector3dVector(vert)\n",
    "        # Anti-clockwise direction (4 triangles to allow two-sided views)\n",
    "        mesh.triangles = o3d.utility.Vector3iVector(\n",
    "            [[0,2,1],[0,3,2],  # Front face\n",
    "             [0,1,2],[0,2,3]]) # Back face\n",
    "        # Define the uvs to match img coor to the order of triangles\n",
    "        # Top left    (0,0) -- Top right    (1,0)\n",
    "        # Bottom left (0,1) -- Bottom right (1,1)\n",
    "        mesh.triangle_uvs = o3d.utility.Vector2dVector(\n",
    "            [[0,0],[1,1],[1,0], [0,0],[0,1],[1,1], # Front face\n",
    "             [0,0],[1,0],[1,1], [0,0],[1,1],[0,1]]) # Back face\n",
    "        # Image to be displayed\n",
    "        mesh.textures = [o3d.geometry.Image(img)]\n",
    "\n",
    "        num_face = np.asarray(mesh.triangles).shape[0]\n",
    "        mesh.triangle_material_ids = o3d.utility.IntVector(\n",
    "            np.zeros(num_face, dtype=np.int32))\n",
    "\n",
    "        return mesh\n",
    "\n",
    "\n",
    "\n",
    "class DisplayHand:\n",
    "    def __init__(self, draw3d=False, draw_camera=False, intrin=None, max_num_hands=1, vis=None):\n",
    "        self.max_num_hands = max_num_hands\n",
    "        if intrin is None:\n",
    "            self.intrin = intrin_default\n",
    "        else:\n",
    "            self.intrin = intrin\n",
    "\n",
    "        # Define kinematic tree linking keypoint together to form skeleton\n",
    "        self.ktree = [0,          # Wrist\n",
    "                      0,1,2,3,    # Thumb\n",
    "                      0,5,6,7,    # Index\n",
    "                      0,9,10,11,  # Middle\n",
    "                      0,13,14,15, # Ring\n",
    "                      0,17,18,19] # Little\n",
    "\n",
    "        # Define color for 21 keypoint\n",
    "        self.color = [[0,0,0], # Wrist black\n",
    "                      [255,0,0],[255,60,0],[255,120,0],[255,180,0], # Thumb\n",
    "                      [0,255,0],[60,255,0],[120,255,0],[180,255,0], # Index\n",
    "                      [0,255,0],[0,255,60],[0,255,120],[0,255,180], # Middle\n",
    "                      [0,0,255],[0,60,255],[0,120,255],[0,180,255], # Ring\n",
    "                      [0,0,255],[60,0,255],[120,0,255],[180,0,255]] # Little\n",
    "        self.color = np.asarray(self.color)\n",
    "        self.color_ = self.color / 255 # For Open3D RGB\n",
    "        self.color[:,[0,2]] = self.color[:,[2,0]] # For OpenCV BGR\n",
    "        self.color = self.color.tolist()\n",
    "\n",
    "\n",
    "        ############################\n",
    "        ### Open3D visualization ###\n",
    "        ############################\n",
    "        if draw3d:\n",
    "            if vis is not None:\n",
    "                self.vis = vis\n",
    "            else:\n",
    "                self.vis = o3d.visualization.Visualizer()\n",
    "                self.vis.create_window(\n",
    "                    width=self.intrin['width'], height=self.intrin['height'])\n",
    "            self.vis.get_render_option().point_size = 8.0\n",
    "            joint = np.zeros((21,3))\n",
    "\n",
    "            # Draw 21 joints\n",
    "            self.pcd = []\n",
    "            for i in range(max_num_hands):\n",
    "                p = o3d.geometry.PointCloud()\n",
    "                p.points = o3d.utility.Vector3dVector(joint)\n",
    "                p.colors = o3d.utility.Vector3dVector(self.color_)\n",
    "                self.pcd.append(p)\n",
    "\n",
    "            # Draw 20 bones\n",
    "            self.bone = []\n",
    "            for i in range(max_num_hands):\n",
    "                b = o3d.geometry.LineSet()\n",
    "                b.points = o3d.utility.Vector3dVector(joint)\n",
    "                b.colors = o3d.utility.Vector3dVector(self.color_[1:])\n",
    "                b.lines  = o3d.utility.Vector2iVector(\n",
    "                    [[0,1], [1,2],  [2,3],  [3,4],    # Thumb\n",
    "                     [0,5], [5,6],  [6,7],  [7,8],    # Index\n",
    "                     [0,9], [9,10], [10,11],[11,12],  # Middle\n",
    "                     [0,13],[13,14],[14,15],[15,16],  # Ring\n",
    "                     [0,17],[17,18],[18,19],[19,20]]) # Little\n",
    "                self.bone.append(b)\n",
    "\n",
    "            # Draw world reference frame\n",
    "            frame = o3d.geometry.TriangleMesh.create_coordinate_frame(size=0.5)\n",
    "\n",
    "            # Add geometry to visualize\n",
    "            self.vis.add_geometry(frame)\n",
    "            for i in range(max_num_hands):\n",
    "                self.vis.add_geometry(self.pcd[i])\n",
    "                self.vis.add_geometry(self.bone[i])\n",
    "\n",
    "            # Set camera view\n",
    "            ctr = self.vis.get_view_control()\n",
    "            ctr.set_up([0,-1,0]) # Set up as -y axis\n",
    "            ctr.set_front([0,0,-1]) # Set to looking towards -z axis\n",
    "            ctr.set_lookat([0,0,0]) # Set to center of view\n",
    "            ctr.set_zoom(1)\n",
    "\n",
    "            if draw_camera:\n",
    "                # Remove previous frame\n",
    "                self.vis.remove_geometry(frame)\n",
    "                # Draw camera reference frame\n",
    "                frame = o3d.geometry.TriangleMesh.create_coordinate_frame(size=0.05)\n",
    "                # Draw camera frustum\n",
    "                self.camera = DisplayCamera(self.vis, self.intrin)\n",
    "                frustum = self.camera.create_camera_frustum()\n",
    "                # Draw 2D image plane in 3D space\n",
    "                self.mesh_img = self.camera.create_mesh_img()\n",
    "                # Add geometry to visualize\n",
    "                self.vis.add_geometry(frame)\n",
    "                self.vis.add_geometry(frustum)\n",
    "                self.vis.add_geometry(self.mesh_img)\n",
    "                # Reset camera view\n",
    "                self.camera.reset_view()\n",
    "\n",
    "\n",
    "    def draw2d(self, img, param):\n",
    "        img_height, img_width, _ = img.shape\n",
    "\n",
    "        # Loop through different hands\n",
    "        for p in param:\n",
    "            if p['class'] is not None:\n",
    "                # Label left or right hand\n",
    "                x = int(p['keypt'][0,0]) - 30\n",
    "                y = int(p['keypt'][0,1]) + 40\n",
    "                # cv2.putText(img, '%s %.3f' % (p['class'], p['score']), (x, y),\n",
    "                cv2.putText(img, '%s' % (p['class']), (x, y),\n",
    "                    cv2.FONT_HERSHEY_SIMPLEX, 1, (0,0,255), 2) # Red\n",
    "\n",
    "                # Loop through keypoint for each hand\n",
    "                for i in range(21):\n",
    "                    x = int(p['keypt'][i,0])\n",
    "                    y = int(p['keypt'][i,1])\n",
    "                    if x>0 and y>0 and x<img_width and y<img_height:\n",
    "                        # Draw skeleton\n",
    "                        start = p['keypt'][self.ktree[i],:]\n",
    "                        x_ = int(start[0])\n",
    "                        y_ = int(start[1])\n",
    "                        if x_>0 and y_>0 and x_<img_width and y_<img_height:\n",
    "                            cv2.line(img, (x_, y_), (x, y), self.color[i], 2)\n",
    "\n",
    "                        # Draw keypoint\n",
    "                        cv2.circle(img, (x, y), 5, self.color[i], -1)\n",
    "                        # cv2.circle(img, (x, y), 3, self.color[i], -1)\n",
    "\n",
    "                        # # Number keypoint\n",
    "                        # cv2.putText(img, '%d' % (i), (x, y),\n",
    "                        #     cv2.FONT_HERSHEY_SIMPLEX, 1, self.color[i])\n",
    "\n",
    "                        # # Label visibility and presence\n",
    "                        # cv2.putText(img, '%.1f, %.1f' % (p['visible'][i], p['presence'][i]),\n",
    "                        #     (x, y), cv2.FONT_HERSHEY_SIMPLEX, 1, self.color[i])\n",
    "\n",
    "                # Label gesture\n",
    "                if p['gesture'] is not None:\n",
    "                    size = cv2.getTextSize(p['gesture'].upper(),\n",
    "                        # cv2.FONT_HERSHEY_SIMPLEX, 2, 2)[0]\n",
    "                        cv2.FONT_HERSHEY_SIMPLEX, 1, 2)[0]\n",
    "                    x = int((img_width-size[0]) / 2)\n",
    "                    cv2.putText(img, p['gesture'].upper(),\n",
    "                        # (x, 50), cv2.FONT_HERSHEY_SIMPLEX, 2, (0,0,255), 2)\n",
    "                        (x, 50), cv2.FONT_HERSHEY_SIMPLEX, 1, (0,0,255), 2)\n",
    "\n",
    "                    # Label joint angle\n",
    "                    self.draw_joint_angle(img, p)\n",
    "\n",
    "            # Label fps\n",
    "            if p['fps']>0:\n",
    "                cv2.putText(img, 'FPS: %.1f' % (p['fps']),\n",
    "                    (0, 30), cv2.FONT_HERSHEY_SIMPLEX, 1, (0,0,255), 2)\n",
    "\n",
    "        return img\n",
    "\n",
    "\n",
    "    def draw2d_(self, img, param):\n",
    "        # Different from draw2d\n",
    "        # draw2d_ draw 2.5D with relative depth info\n",
    "        # The closer the landmark is towards the camera\n",
    "        # The lighter and larger the circle\n",
    "\n",
    "        img_height, img_width, _ = img.shape\n",
    "\n",
    "        # Loop through different hands\n",
    "        for p in param:\n",
    "            if p['class'] is not None:\n",
    "                # Extract wrist pixel\n",
    "                x = int(p['keypt'][0,0]) - 30\n",
    "                y = int(p['keypt'][0,1]) + 40\n",
    "                # Label left or right hand\n",
    "                cv2.putText(img, '%s %.3f' % (p['class'], p['score']), (x, y),\n",
    "                    cv2.FONT_HERSHEY_SIMPLEX, 1, (0,0,255), 2) # Red\n",
    "\n",
    "                min_depth = min(p['joint'][:,2])\n",
    "                max_depth = max(p['joint'][:,2])\n",
    "\n",
    "                # Loop through keypt and joint for each hand\n",
    "                for i in range(21):\n",
    "                    x = int(p['keypt'][i,0])\n",
    "                    y = int(p['keypt'][i,1])\n",
    "                    if x>0 and y>0 and x<img_width and y<img_height:\n",
    "                        # Convert depth to color nearer white, further black\n",
    "                        depth = (max_depth-p['joint'][i,2]) / (max_depth-min_depth)\n",
    "                        color = [int(255*depth), int(255*depth), int(255*depth)]\n",
    "                        size = int(10*depth)+2\n",
    "                        # size = 2\n",
    "\n",
    "                        # Draw skeleton\n",
    "                        start = p['keypt'][self.ktree[i],:]\n",
    "                        x_ = int(start[0])\n",
    "                        y_ = int(start[1])\n",
    "                        if x_>0 and y_>0 and x_<img_width and y_<img_height:\n",
    "                            cv2.line(img, (x_, y_), (x, y), color, 2)\n",
    "\n",
    "                        # Draw keypoint\n",
    "                        cv2.circle(img, (x, y), size, color, size)\n",
    "\n",
    "            # Label fps\n",
    "            if p['fps']>0:\n",
    "                cv2.putText(img, 'FPS: %.1f' % (p['fps']),\n",
    "                    (0, 30), cv2.FONT_HERSHEY_SIMPLEX, 1, (0,0,255), 2)\n",
    "\n",
    "        return img\n",
    "\n",
    "\n",
    "    def draw3d(self, param, img=None):\n",
    "        for i in range(self.max_num_hands):\n",
    "            if param[i]['class'] is None:\n",
    "                self.pcd[i].points = o3d.utility.Vector3dVector(np.zeros((21,3)))\n",
    "                self.bone[i].points = o3d.utility.Vector3dVector(np.zeros((21,3)))\n",
    "            else:\n",
    "                self.pcd[i].points = o3d.utility.Vector3dVector(param[i]['joint'])\n",
    "                self.bone[i].points = o3d.utility.Vector3dVector(param[i]['joint'])\n",
    "\n",
    "        if img is not None:\n",
    "            img = cv2.cvtColor(img, cv2.COLOR_BGR2RGB)\n",
    "            self.mesh_img.textures = [o3d.geometry.Image(img)]\n",
    "\n",
    "\n",
    "    def draw_joint_angle(self, img, p):\n",
    "        # Create text\n",
    "        text = None\n",
    "        if p['gesture']=='Finger MCP Flexion':\n",
    "            text = 'Index : %.1f \\\n",
    "                  \\nMiddle: %.1f \\\n",
    "                  \\nRing  : %.1f \\\n",
    "                  \\nLittle : %.1f' % \\\n",
    "                (p['angle'][3], p['angle'][6], p['angle'][9], p['angle'][12])\n",
    "\n",
    "        elif p['gesture']=='Finger PIP DIP Flexion':\n",
    "            text = 'PIP: \\\n",
    "                  \\nIndex : %.1f \\\n",
    "                  \\nMiddle: %.1f \\\n",
    "                  \\nRing  : %.1f \\\n",
    "                  \\nLittle : %.1f \\\n",
    "                  \\nDIP: \\\n",
    "                  \\nIndex : %.1f \\\n",
    "                  \\nMiddle: %.1f \\\n",
    "                  \\nRing  : %.1f \\\n",
    "                  \\nLittle : %.1f' % \\\n",
    "                (p['angle'][4], p['angle'][7], p['angle'][10], p['angle'][13],\n",
    "                 p['angle'][5], p['angle'][8], p['angle'][11], p['angle'][14])\n",
    "\n",
    "        elif p['gesture']=='Thumb MCP Flexion':\n",
    "            text = 'Angle: %.1f' % p['angle'][1]\n",
    "\n",
    "        elif p['gesture']=='Thumb IP Flexion':\n",
    "            text = 'Angle: %.1f' % p['angle'][2]\n",
    "\n",
    "        elif p['gesture']=='Thumb Radial Abduction':\n",
    "            text = 'Angle: %.1f' % p['angle'][0]\n",
    "\n",
    "        elif p['gesture']=='Thumb Palmar Abduction':\n",
    "            text = 'Angle: %.1f' % p['angle'][0]\n",
    "\n",
    "        elif p['gesture']=='Thumb Opposition':\n",
    "            # Dist btw thumb and little fingertip\n",
    "            dist = np.linalg.norm(p['joint'][4] - p['joint'][20])\n",
    "            text = 'Dist: %.3f' % dist\n",
    "\n",
    "        elif p['gesture']=='Forearm Neutral' or \\\n",
    "             p['gesture']=='Forearm Pronation' or \\\n",
    "             p['gesture']=='Forearm Supination' or \\\n",
    "             p['gesture']=='Wrist Flex/Extension' or \\\n",
    "             p['gesture']=='Wrist Radial/Ulnar Dev':\n",
    "            text = 'Angle: %.1f' % p['angle'][0]\n",
    "\n",
    "        if text is not None:\n",
    "            x0 = 10 # Starting x coor for placing text\n",
    "            y0 = 60 # Starting y coor for placing text\n",
    "            dy = 25 # Change in text vertical spacing\n",
    "            vert = len(text.split('\\n'))\n",
    "            # Draw black background\n",
    "            cv2.rectangle(img, (x0, y0), (140, y0+vert*dy+10), (0,0,0), -1)\n",
    "            # Draw text\n",
    "            for i, line in enumerate(text.split('\\n')):\n",
    "                y = y0 + (i+1)*dy\n",
    "                cv2.putText(img, line,\n",
    "                    (x0, y), cv2.FONT_HERSHEY_SIMPLEX, 0.6, (255,255,255), 2)\n",
    "\n",
    "\n",
    "    def draw_game_rps(self, img, param):\n",
    "        img_height, img_width, _ = img.shape\n",
    "\n",
    "        # Init result of 2 hands to none\n",
    "        res = [None, None]\n",
    "\n",
    "        # Loop through different hands\n",
    "        for j, p in enumerate(param):\n",
    "            # Only allow maximum of two hands\n",
    "            if j>1:\n",
    "                break\n",
    "\n",
    "            if p['class'] is not None:\n",
    "                # Loop through keypoint for each hand\n",
    "                for i in range(21):\n",
    "                    x = int(p['keypt'][i,0])\n",
    "                    y = int(p['keypt'][i,1])\n",
    "                    if x>0 and y>0 and x<img_width and y<img_height:\n",
    "                        # Draw skeleton\n",
    "                        start = p['keypt'][self.ktree[i],:]\n",
    "                        x_ = int(start[0])\n",
    "                        y_ = int(start[1])\n",
    "                        if x_>0 and y_>0 and x_<img_width and y_<img_height:\n",
    "                            cv2.line(img, (x_, y_), (x, y), self.color[i], 2)\n",
    "\n",
    "                        # Draw keypoint\n",
    "                        cv2.circle(img, (x, y), 5, self.color[i], -1)\n",
    "\n",
    "                # Label gesture\n",
    "                text = None\n",
    "                if p['gesture']=='fist':\n",
    "                    text = f\"Rock {p['gesture']}\"\n",
    "                elif p['gesture']=='five':\n",
    "                    text = f\"Paper {p['gesture']}\"\n",
    "                elif (p['gesture']=='three') or (p['gesture']=='yeah'):\n",
    "                    text = f\"Scissors {p['gesture']}\"\n",
    "                elif (p['gesture']=='rock') :\n",
    "                    text = f\"Lizard {p['gesture']}\"\n",
    "                elif (p['gesture']=='four'):\n",
    "                    text = f\"Spock {p['gesture']}\"\n",
    "                else:\n",
    "                    text = f\"{p['gesture']}\"\n",
    "\n",
    "\n",
    "\n",
    "                res[j] = text\n",
    "\n",
    "                # Label result\n",
    "                if text is not None:\n",
    "                    x = int(p['keypt'][0,0]) - 30\n",
    "                    y = int(p['keypt'][0,1]) + 40\n",
    "                    cv2.putText(img, '%s' % (text.upper()), (x, y),\n",
    "                        cv2.FONT_HERSHEY_SIMPLEX, 1, (0,0,255), 2) # Red\n",
    "\n",
    "        # Determine winner\n",
    "        text = None\n",
    "        winner = None\n",
    "        if res[0]=='rock':\n",
    "            if res[1]=='rock'     : text = 'Tie'\n",
    "            elif res[1]=='paper'  : text = 'Paper wins'  ; winner = 1\n",
    "            elif res[1]=='scissor': text = 'Rock wins'   ; winner = 0\n",
    "        elif res[0]=='paper':\n",
    "            if res[1]=='rock'     : text = 'Paper wins'  ; winner = 0\n",
    "            elif res[1]=='paper'  : text = 'Tie'\n",
    "            elif res[1]=='scissor': text = 'Scissor wins'; winner = 1\n",
    "        elif res[0]=='scissor':\n",
    "            if res[1]=='rock'     : text = 'Rock wins'   ; winner = 1\n",
    "            elif res[1]=='paper'  : text = 'Scissor wins'; winner = 0\n",
    "            elif res[1]=='scissor': text = 'Tie'\n",
    "\n",
    "        # Label gesture\n",
    "        if text is not None:\n",
    "            size = cv2.getTextSize(text.upper(),\n",
    "                # cv2.FONT_HERSHEY_SIMPLEX, 2, 2)[0]\n",
    "                cv2.FONT_HERSHEY_SIMPLEX, 1, 2)[0]\n",
    "            x = int((img_width-size[0]) / 2)\n",
    "            cv2.putText(img, text.upper(),\n",
    "                # (x, 50), cv2.FONT_HERSHEY_SIMPLEX, 2, (0,0,255), 2)\n",
    "                (x, 50), cv2.FONT_HERSHEY_SIMPLEX, 1, (0,0,255), 2)\n",
    "\n",
    "        # Draw winner text\n",
    "        if winner is not None:\n",
    "            x = int(param[winner]['keypt'][0,0]) - 30\n",
    "            y = int(param[winner]['keypt'][0,1]) + 80\n",
    "            cv2.putText(img, 'WINNER', (x, y),\n",
    "                cv2.FONT_HERSHEY_SIMPLEX, 1, (0,255,255), 2) # Yellow\n",
    "\n",
    "        return img\n",
    "\n",
    "\n"
   ]
  },
  {
   "cell_type": "code",
   "execution_count": 63,
   "metadata": {
    "ExecuteTime": {
     "end_time": "2023-04-27T18:31:54.325383Z",
     "start_time": "2023-04-27T18:31:21.024182Z"
    }
   },
   "outputs": [
    {
     "ename": "KeyboardInterrupt",
     "evalue": "",
     "output_type": "error",
     "traceback": [
      "\u001b[0;31m---------------------------------------------------------------------------\u001b[0m",
      "\u001b[0;31mKeyboardInterrupt\u001b[0m                         Traceback (most recent call last)",
      "Input \u001b[0;32mIn [63]\u001b[0m, in \u001b[0;36m<cell line: 17>\u001b[0;34m()\u001b[0m\n\u001b[1;32m     28\u001b[0m img\u001b[38;5;241m.\u001b[39mflags\u001b[38;5;241m.\u001b[39mwriteable \u001b[38;5;241m=\u001b[39m \u001b[38;5;28;01mFalse\u001b[39;00m\n\u001b[1;32m     30\u001b[0m \u001b[38;5;66;03m# Feedforward to extract keypoint\u001b[39;00m\n\u001b[0;32m---> 31\u001b[0m param \u001b[38;5;241m=\u001b[39m \u001b[43mpipe\u001b[49m\u001b[38;5;241;43m.\u001b[39;49m\u001b[43mforward\u001b[49m\u001b[43m(\u001b[49m\u001b[43mimg\u001b[49m\u001b[43m)\u001b[49m\n\u001b[1;32m     32\u001b[0m \u001b[38;5;66;03m# Evaluate gesture for all hands\u001b[39;00m\n\u001b[1;32m     34\u001b[0m \u001b[38;5;28;01mfor\u001b[39;00m p \u001b[38;5;129;01min\u001b[39;00m param:\n",
      "Input \u001b[0;32mIn [58]\u001b[0m, in \u001b[0;36mMediaPipeHand.forward\u001b[0;34m(self, img)\u001b[0m\n\u001b[1;32m    225\u001b[0m \u001b[38;5;28;01mdef\u001b[39;00m \u001b[38;5;21mforward\u001b[39m(\u001b[38;5;28mself\u001b[39m, img):\n\u001b[1;32m    226\u001b[0m \n\u001b[1;32m    227\u001b[0m     \u001b[38;5;66;03m# Extract result\u001b[39;00m\n\u001b[0;32m--> 228\u001b[0m     result \u001b[38;5;241m=\u001b[39m \u001b[38;5;28;43mself\u001b[39;49m\u001b[38;5;241;43m.\u001b[39;49m\u001b[43mpipe\u001b[49m\u001b[38;5;241;43m.\u001b[39;49m\u001b[43mprocess\u001b[49m\u001b[43m(\u001b[49m\u001b[43mimg\u001b[49m\u001b[43m)\u001b[49m\n\u001b[1;32m    230\u001b[0m     \u001b[38;5;66;03m# Convert result to my own param\u001b[39;00m\n\u001b[1;32m    231\u001b[0m     param \u001b[38;5;241m=\u001b[39m \u001b[38;5;28mself\u001b[39m\u001b[38;5;241m.\u001b[39mresult_to_param(result, img)\n",
      "File \u001b[0;32m~/.pyenv/versions/3.10.0/lib/python3.10/site-packages/mediapipe/python/solutions/hands.py:153\u001b[0m, in \u001b[0;36mHands.process\u001b[0;34m(self, image)\u001b[0m\n\u001b[1;32m    132\u001b[0m \u001b[38;5;28;01mdef\u001b[39;00m \u001b[38;5;21mprocess\u001b[39m(\u001b[38;5;28mself\u001b[39m, image: np\u001b[38;5;241m.\u001b[39mndarray) \u001b[38;5;241m-\u001b[39m\u001b[38;5;241m>\u001b[39m NamedTuple:\n\u001b[1;32m    133\u001b[0m   \u001b[38;5;124;03m\"\"\"Processes an RGB image and returns the hand landmarks and handedness of each detected hand.\u001b[39;00m\n\u001b[1;32m    134\u001b[0m \n\u001b[1;32m    135\u001b[0m \u001b[38;5;124;03m  Args:\u001b[39;00m\n\u001b[0;32m   (...)\u001b[0m\n\u001b[1;32m    150\u001b[0m \u001b[38;5;124;03m         right hand) of the detected hand.\u001b[39;00m\n\u001b[1;32m    151\u001b[0m \u001b[38;5;124;03m  \"\"\"\u001b[39;00m\n\u001b[0;32m--> 153\u001b[0m   \u001b[38;5;28;01mreturn\u001b[39;00m \u001b[38;5;28;43msuper\u001b[39;49m\u001b[43m(\u001b[49m\u001b[43m)\u001b[49m\u001b[38;5;241;43m.\u001b[39;49m\u001b[43mprocess\u001b[49m\u001b[43m(\u001b[49m\u001b[43minput_data\u001b[49m\u001b[38;5;241;43m=\u001b[39;49m\u001b[43m{\u001b[49m\u001b[38;5;124;43m'\u001b[39;49m\u001b[38;5;124;43mimage\u001b[39;49m\u001b[38;5;124;43m'\u001b[39;49m\u001b[43m:\u001b[49m\u001b[43m \u001b[49m\u001b[43mimage\u001b[49m\u001b[43m}\u001b[49m\u001b[43m)\u001b[49m\n",
      "File \u001b[0;32m~/.pyenv/versions/3.10.0/lib/python3.10/site-packages/mediapipe/python/solution_base.py:365\u001b[0m, in \u001b[0;36mSolutionBase.process\u001b[0;34m(self, input_data)\u001b[0m\n\u001b[1;32m    359\u001b[0m   \u001b[38;5;28;01melse\u001b[39;00m:\n\u001b[1;32m    360\u001b[0m     \u001b[38;5;28mself\u001b[39m\u001b[38;5;241m.\u001b[39m_graph\u001b[38;5;241m.\u001b[39madd_packet_to_input_stream(\n\u001b[1;32m    361\u001b[0m         stream\u001b[38;5;241m=\u001b[39mstream_name,\n\u001b[1;32m    362\u001b[0m         packet\u001b[38;5;241m=\u001b[39m\u001b[38;5;28mself\u001b[39m\u001b[38;5;241m.\u001b[39m_make_packet(input_stream_type,\n\u001b[1;32m    363\u001b[0m                                  data)\u001b[38;5;241m.\u001b[39mat(\u001b[38;5;28mself\u001b[39m\u001b[38;5;241m.\u001b[39m_simulated_timestamp))\n\u001b[0;32m--> 365\u001b[0m \u001b[38;5;28;43mself\u001b[39;49m\u001b[38;5;241;43m.\u001b[39;49m\u001b[43m_graph\u001b[49m\u001b[38;5;241;43m.\u001b[39;49m\u001b[43mwait_until_idle\u001b[49m\u001b[43m(\u001b[49m\u001b[43m)\u001b[49m\n\u001b[1;32m    366\u001b[0m \u001b[38;5;66;03m# Create a NamedTuple object where the field names are mapping to the graph\u001b[39;00m\n\u001b[1;32m    367\u001b[0m \u001b[38;5;66;03m# output stream names.\u001b[39;00m\n\u001b[1;32m    368\u001b[0m solution_outputs \u001b[38;5;241m=\u001b[39m collections\u001b[38;5;241m.\u001b[39mnamedtuple(\n\u001b[1;32m    369\u001b[0m     \u001b[38;5;124m'\u001b[39m\u001b[38;5;124mSolutionOutputs\u001b[39m\u001b[38;5;124m'\u001b[39m, \u001b[38;5;28mself\u001b[39m\u001b[38;5;241m.\u001b[39m_output_stream_type_info\u001b[38;5;241m.\u001b[39mkeys())\n",
      "\u001b[0;31mKeyboardInterrupt\u001b[0m: "
     ]
    }
   ],
   "source": [
    "\n",
    "\n",
    "\n",
    "# Load mediapipe hand class\n",
    "pipe = MediaPipeHand(static_image_mode=False, max_num_hands=2)\n",
    "# Load gesture recognition class\n",
    "gest = GestureRecognition()\n",
    "\n",
    "# Load display class\n",
    "disp = DisplayHand(max_num_hands=2)\n",
    "\n",
    "# Start video capture\n",
    "cap = cv2.VideoCapture(0) # By default webcam is index 0\n",
    "\n",
    "\n",
    "\n",
    "counter = 0\n",
    "game_results=[]\n",
    "old_action=None\n",
    "while cap.isOpened():\n",
    "    ret, img = cap.read()\n",
    "    if not ret:\n",
    "        break\n",
    "\n",
    "    # Preprocess image\n",
    "    img = cv2.cvtColor(img, cv2.COLOR_BGR2RGB)\n",
    "    # Flip image for 3rd person view\n",
    "    img = cv2.flip(img, 1)\n",
    "\n",
    "    # To improve performance, optionally mark image as not writeable to pass by reference\n",
    "    img.flags.writeable = False\n",
    "\n",
    "    # Feedforward to extract keypoint\n",
    "    param = pipe.forward(img)\n",
    "    # Evaluate gesture for all hands\n",
    "\n",
    "    for p in param:\n",
    "        if p['class'] is not None:\n",
    "            p['gesture'] = gest.eval(p['angle'])\n",
    "            # print(p['class'])\n",
    "            # print(p['gesture'])\n",
    "\n",
    "            if p['gesture']=='fist':\n",
    "                action = Action.Rock\n",
    "            elif p['gesture']=='five':\n",
    "                action = Action.Paper\n",
    "            elif (p['gesture']=='three') or (p['gesture']=='yeah'):\n",
    "                action = Action.Scissors\n",
    "            elif (p['gesture']=='rock') :\n",
    "                action = Action.Lizard\n",
    "            elif (p['gesture']=='four'):\n",
    "                action = Action.Spock\n",
    "            if action is not None and (old_action is None or action.name!=old_action.name):\n",
    "                # computer_action = get_computer_selection()\n",
    "                # game_results.append(determine_winner(action, computer_action))\n",
    "                # counter+=1\n",
    "                # print_game_results(game_results)\n",
    "                # old_action=action\n",
    "                pass\n",
    "\n",
    "\n",
    "    img.flags.writeable = True\n",
    "\n",
    "    # Display keypoint and result of rock paper scissor game\n",
    "    cv2.imshow('Game: Rock Paper Scissor', disp.draw_game_rps(img.copy(), param))\n",
    "    key = cv2.waitKey(1)\n",
    "    if key==27:\n",
    "        break\n",
    "\n",
    "pipe.pipe.close()\n",
    "cap.release()"
   ]
  },
  {
   "cell_type": "code",
   "execution_count": null,
   "metadata": {},
   "outputs": [],
   "source": []
  }
 ],
 "metadata": {
  "kernelspec": {
   "display_name": "Python 3 (ipykernel)",
   "language": "python",
   "name": "python3"
  },
  "language_info": {
   "codemirror_mode": {
    "name": "ipython",
    "version": 3
   },
   "file_extension": ".py",
   "mimetype": "text/x-python",
   "name": "python",
   "nbconvert_exporter": "python",
   "pygments_lexer": "ipython3",
   "version": "3.10.0"
  }
 },
 "nbformat": 4,
 "nbformat_minor": 1
}
