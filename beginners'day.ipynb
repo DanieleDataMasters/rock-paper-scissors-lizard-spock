{
 "cells": [
  {
   "cell_type": "code",
   "execution_count": null,
   "metadata": {
    "collapsed": true,
    "ExecuteTime": {
     "start_time": "2023-04-26T16:27:05.454647Z",
     "end_time": "2023-04-26T16:27:05.789647Z"
    }
   },
   "outputs": [],
   "source": [
    "import random\n"
   ]
  },
  {
   "cell_type": "code",
   "execution_count": null,
   "outputs": [],
   "source": [
    "user_action = input(\"Enter a choice (rock, paper, scissors): \")\n",
    "possible_actions = [\"rock\", \"paper\", \"scissors\"]\n",
    "computer_action = random.choice(possible_actions)\n",
    "print(f\"\\nYou chose {user_action}, computer chose {computer_action}.\\n\")"
   ],
   "metadata": {
    "collapsed": false,
    "ExecuteTime": {
     "start_time": "2023-04-26T16:27:05.483742Z",
     "end_time": "2023-04-26T16:27:11.108724Z"
    }
   }
  },
  {
   "cell_type": "code",
   "execution_count": null,
   "outputs": [],
   "source": [
    "if user_action == computer_action:\n",
    "    print(f\"Both players selected {user_action}. It's a tie!\")\n",
    "elif user_action == \"rock\":\n",
    "    if computer_action == \"scissors\":\n",
    "        print(\"Rock smashes scissors! You win!\")\n",
    "    else:\n",
    "        print(\"Paper covers rock! You lose.\")\n",
    "elif user_action == \"paper\":\n",
    "    if computer_action == \"rock\":\n",
    "        print(\"Paper covers rock! You win!\")\n",
    "    else:\n",
    "        print(\"Scissors cuts paper! You lose.\")\n",
    "elif user_action == \"scissors\":\n",
    "    if computer_action == \"paper\":\n",
    "        print(\"Scissors cuts paper! You win!\")\n",
    "    else:\n",
    "        print(\"Rock smashes scissors! You lose.\")"
   ],
   "metadata": {
    "collapsed": false,
    "ExecuteTime": {
     "start_time": "2023-04-26T16:27:11.031226Z",
     "end_time": "2023-04-26T16:27:11.118317Z"
    }
   }
  },
  {
   "cell_type": "code",
   "execution_count": null,
   "outputs": [],
   "source": [
    "while True:\n",
    "    user_action = input(\"Enter a choice (rock, paper, scissors): \")\n",
    "    possible_actions = [\"rock\", \"paper\", \"scissors\"]\n",
    "    computer_action = random.choice(possible_actions)\n",
    "    print(f\"\\nYou chose {user_action}, computer chose {computer_action}.\\n\")\n",
    "\n",
    "    if user_action == computer_action:\n",
    "        print(f\"Both players selected {user_action}. It's a tie!\")\n",
    "    elif user_action == \"rock\":\n",
    "        if computer_action == \"scissors\":\n",
    "            print(\"Rock smashes scissors! You win!\")\n",
    "        else:\n",
    "            print(\"Paper covers rock! You lose.\")\n",
    "    elif user_action == \"paper\":\n",
    "        if computer_action == \"rock\":\n",
    "            print(\"Paper covers rock! You win!\")\n",
    "        else:\n",
    "            print(\"Scissors cuts paper! You lose.\")\n",
    "    elif user_action == \"scissors\":\n",
    "        if computer_action == \"paper\":\n",
    "            print(\"Scissors cuts paper! You win!\")\n",
    "        else:\n",
    "            print(\"Rock smashes scissors! You lose.\")\n",
    "\n",
    "    play_again = input(\"Play again? (y/n): \")\n",
    "    if play_again.lower() != \"y\":\n",
    "        break"
   ],
   "metadata": {
    "collapsed": false,
    "ExecuteTime": {
     "start_time": "2023-04-26T16:27:11.054321Z",
     "end_time": "2023-04-26T16:27:20.487967Z"
    }
   }
  },
  {
   "cell_type": "code",
   "execution_count": null,
   "outputs": [],
   "source": [
    "play_again = \"yes\"\n",
    "print('play_again == \"n\"',play_again == \"n\")\n",
    "print('play_again != \"y\"',play_again != \"y\")"
   ],
   "metadata": {
    "collapsed": false,
    "ExecuteTime": {
     "start_time": "2023-04-26T16:27:20.478446Z",
     "end_time": "2023-04-26T16:27:20.506034Z"
    }
   }
  },
  {
   "cell_type": "code",
   "execution_count": null,
   "outputs": [],
   "source": [
    "ROCK_ACTION = 0\n",
    "PAPER_ACTION = 1\n",
    "SCISSORS_ACTION = 2"
   ],
   "metadata": {
    "collapsed": false,
    "ExecuteTime": {
     "start_time": "2023-04-26T16:27:20.498499Z",
     "end_time": "2023-04-26T16:27:20.582956Z"
    }
   }
  },
  {
   "cell_type": "code",
   "execution_count": null,
   "outputs": [],
   "source": [
    "user_input = input(\"Enter a choice (rock[0], paper[1], scissors[2]): \")\n",
    "user_action = int(user_input)\n",
    "if user_action == ROCK_ACTION:\n",
    "    print(\"You chose rock.\")\n",
    "elif user_action == PAPER_ACTION:\n",
    "    print(\"You chose paper.\")\n",
    "elif user_action == SCISSORS_ACTION:\n",
    "    print(\"You chose scissors.\")"
   ],
   "metadata": {
    "collapsed": false,
    "ExecuteTime": {
     "start_time": "2023-04-26T16:27:20.514246Z",
     "end_time": "2023-04-26T16:27:23.154156Z"
    }
   }
  },
  {
   "cell_type": "code",
   "execution_count": null,
   "outputs": [],
   "source": [
    "from enum import IntEnum\n",
    "\n",
    "class Action(IntEnum):\n",
    "    Rock = 0\n",
    "    Paper = 1\n",
    "    Scissors = 2"
   ],
   "metadata": {
    "collapsed": false,
    "ExecuteTime": {
     "start_time": "2023-04-26T16:27:23.084005Z",
     "end_time": "2023-04-26T16:27:23.157685Z"
    }
   }
  },
  {
   "cell_type": "code",
   "execution_count": null,
   "outputs": [],
   "source": [
    "print('Action.Rock == Action.Rock',Action.Rock == Action.Rock)\n",
    "print('Action.Rock == Action(0)',Action.Rock == Action(0))\n",
    "print('Action(0)',Action(0))"
   ],
   "metadata": {
    "collapsed": false,
    "ExecuteTime": {
     "start_time": "2023-04-26T16:27:23.096262Z",
     "end_time": "2023-04-26T16:27:23.158634Z"
    }
   }
  },
  {
   "cell_type": "code",
   "execution_count": null,
   "outputs": [],
   "source": [
    "def get_user_selection():\n",
    "    user_input = input(\"Enter a choice (rock[0], paper[1], scissors[2]): \")\n",
    "    selection = int(user_input)\n",
    "    action = Action(selection)\n",
    "    return action"
   ],
   "metadata": {
    "collapsed": false,
    "ExecuteTime": {
     "start_time": "2023-04-26T16:27:23.117306Z",
     "end_time": "2023-04-26T16:27:23.159634Z"
    }
   }
  },
  {
   "cell_type": "code",
   "execution_count": null,
   "outputs": [],
   "source": [
    "get_user_selection()"
   ],
   "metadata": {
    "collapsed": false,
    "ExecuteTime": {
     "start_time": "2023-04-26T16:27:23.133343Z",
     "end_time": "2023-04-26T16:27:24.828137Z"
    }
   }
  },
  {
   "cell_type": "code",
   "execution_count": null,
   "outputs": [],
   "source": [
    "def get_computer_selection():\n",
    "    selection = random.randint(0, len(Action) - 1)\n",
    "    action = Action(selection)\n",
    "    return action"
   ],
   "metadata": {
    "collapsed": false,
    "ExecuteTime": {
     "start_time": "2023-04-26T16:27:24.639140Z",
     "end_time": "2023-04-26T16:27:24.829140Z"
    }
   }
  },
  {
   "cell_type": "code",
   "execution_count": null,
   "outputs": [],
   "source": [
    "get_computer_selection()"
   ],
   "metadata": {
    "collapsed": false,
    "ExecuteTime": {
     "start_time": "2023-04-26T16:27:24.659316Z",
     "end_time": "2023-04-26T16:27:24.829140Z"
    }
   }
  },
  {
   "cell_type": "code",
   "execution_count": null,
   "outputs": [],
   "source": [
    "def determine_winner(user_action, computer_action):\n",
    "    if user_action == computer_action:\n",
    "        print(f\"Both players selected {user_action.name}. It's a tie!\")\n",
    "    elif user_action == Action.Rock:\n",
    "        if computer_action == Action.Scissors:\n",
    "            print(\"Rock smashes scissors! You win!\")\n",
    "        else:\n",
    "            print(\"Paper covers rock! You lose.\")\n",
    "    elif user_action == Action.Paper:\n",
    "        if computer_action == Action.Rock:\n",
    "            print(\"Paper covers rock! You win!\")\n",
    "        else:\n",
    "            print(\"Scissors cuts paper! You lose.\")\n",
    "    elif user_action == Action.Scissors:\n",
    "        if computer_action == Action.Paper:\n",
    "            print(\"Scissors cuts paper! You win!\")\n",
    "        else:\n",
    "            print(\"Rock smashes scissors! You lose.\")"
   ],
   "metadata": {
    "collapsed": false,
    "ExecuteTime": {
     "start_time": "2023-04-26T16:27:24.677911Z",
     "end_time": "2023-04-26T16:27:24.831174Z"
    }
   }
  },
  {
   "cell_type": "code",
   "execution_count": null,
   "outputs": [],
   "source": [
    "determine_winner(Action.Rock, Action.Scissors)"
   ],
   "metadata": {
    "collapsed": false,
    "ExecuteTime": {
     "start_time": "2023-04-26T16:27:24.687428Z",
     "end_time": "2023-04-26T16:27:24.852758Z"
    }
   }
  },
  {
   "cell_type": "code",
   "execution_count": null,
   "outputs": [],
   "source": [
    "Action(3)"
   ],
   "metadata": {
    "collapsed": false
   }
  },
  {
   "cell_type": "code",
   "execution_count": null,
   "outputs": [],
   "source": [
    "while True:\n",
    "    try:\n",
    "        user_action = get_user_selection()\n",
    "    except ValueError as e:\n",
    "        range_str = f\"[0, {len(Action) - 1}]\"\n",
    "        print(f\"Invalid selection. Enter a value in range {range_str}\")\n",
    "        continue\n",
    "\n",
    "    computer_action = get_computer_selection()\n",
    "    determine_winner(user_action, computer_action)\n",
    "\n",
    "    play_again = input(\"Play again? (y/n): \")\n",
    "    if play_again.lower() != \"y\":\n",
    "        break"
   ],
   "metadata": {
    "collapsed": false,
    "ExecuteTime": {
     "start_time": "2023-04-26T16:27:36.420960Z",
     "end_time": "2023-04-26T16:27:41.620863Z"
    }
   }
  },
  {
   "cell_type": "code",
   "execution_count": null,
   "outputs": [],
   "source": [],
   "metadata": {
    "collapsed": false,
    "ExecuteTime": {
     "start_time": "2023-04-26T16:27:41.579248Z",
     "end_time": "2023-04-26T16:27:41.620863Z"
    }
   }
  },
  {
   "cell_type": "code",
   "execution_count": null,
   "outputs": [],
   "source": [
    "def start_game():\n",
    "    while True:\n",
    "        try:\n",
    "            user_action = get_user_selection()\n",
    "        except ValueError as e:\n",
    "            range_str = f\"[0, {len(Action) - 1}]\"\n",
    "            print(f\"Invalid selection. Enter a value in range {range_str}\")\n",
    "            continue\n",
    "\n",
    "        computer_action = get_computer_selection()\n",
    "        determine_winner(user_action, computer_action)\n",
    "\n",
    "        play_again = input(\"Play again? (y/n): \")\n",
    "        if play_again.lower() != \"y\":\n",
    "            break"
   ],
   "metadata": {
    "collapsed": false,
    "ExecuteTime": {
     "start_time": "2023-04-26T16:27:41.595309Z",
     "end_time": "2023-04-26T16:27:41.623910Z"
    }
   }
  },
  {
   "cell_type": "code",
   "execution_count": null,
   "outputs": [],
   "source": [
    "def get_user_selection():\n",
    "    choices = [f\"{action.name}[{action.value}]\" for action in Action]\n",
    "    choices_str = \", \".join(choices)\n",
    "    selection = int(input(f\"Enter a choice ({choices_str}): \"))\n",
    "    action = Action(selection)\n",
    "    return action\n",
    "\n"
   ],
   "metadata": {
    "collapsed": false,
    "ExecuteTime": {
     "start_time": "2023-04-26T16:27:41.609833Z",
     "end_time": "2023-04-26T16:27:41.712820Z"
    }
   }
  },
  {
   "cell_type": "code",
   "execution_count": null,
   "outputs": [],
   "source": [
    "get_user_selection()"
   ],
   "metadata": {
    "collapsed": false,
    "ExecuteTime": {
     "start_time": "2023-04-26T16:27:41.626876Z",
     "end_time": "2023-04-26T16:27:43.814723Z"
    }
   }
  },
  {
   "cell_type": "code",
   "execution_count": null,
   "outputs": [],
   "source": [
    "victories = {\n",
    "    Action.Rock: [Action.Scissors],  # Rock beats scissors\n",
    "    Action.Paper: [Action.Rock],  # Paper beats rock\n",
    "    Action.Scissors: [Action.Paper]  # Scissors beats paper\n",
    "}"
   ],
   "metadata": {
    "collapsed": false,
    "ExecuteTime": {
     "start_time": "2023-04-26T16:27:43.744342Z",
     "end_time": "2023-04-26T16:27:43.815725Z"
    }
   }
  },
  {
   "cell_type": "code",
   "execution_count": null,
   "outputs": [],
   "source": [
    "def determine_winner(user_action, computer_action):\n",
    "    print(f\"You chose {user_action.name}. The computer chose {computer_action.name}.\")\n",
    "    defeats = victories[user_action]\n",
    "    if user_action == computer_action:\n",
    "        print(f\"Both players selected {user_action.name}. It's a tie!\")\n",
    "    elif computer_action in defeats:\n",
    "        print(f\"{user_action.name} beats {computer_action.name}! You win!\")\n",
    "    else:\n",
    "        print(f\"{computer_action.name} beats {user_action.name}! You lose.\")"
   ],
   "metadata": {
    "collapsed": false,
    "ExecuteTime": {
     "start_time": "2023-04-26T16:27:43.758883Z",
     "end_time": "2023-04-26T16:27:43.815725Z"
    }
   }
  },
  {
   "cell_type": "code",
   "execution_count": null,
   "outputs": [],
   "source": [
    "determine_winner(Action.Rock, Action.Scissors)\n"
   ],
   "metadata": {
    "collapsed": false,
    "ExecuteTime": {
     "start_time": "2023-04-26T16:27:43.774913Z",
     "end_time": "2023-04-26T16:27:43.815725Z"
    }
   }
  },
  {
   "cell_type": "code",
   "execution_count": null,
   "outputs": [],
   "source": [
    "start_game()"
   ],
   "metadata": {
    "collapsed": false,
    "ExecuteTime": {
     "start_time": "2023-04-26T16:27:43.792039Z",
     "end_time": "2023-04-26T16:27:46.515535Z"
    }
   }
  },
  {
   "cell_type": "code",
   "execution_count": null,
   "outputs": [],
   "source": [
    "class Action(IntEnum):\n",
    "    Rock = 0\n",
    "    Paper = 1\n",
    "    Scissors = 2\n",
    "    Lizard = 3\n",
    "    Spock = 4\n",
    "\n",
    "victories = {\n",
    "    Action.Scissors: [Action.Lizard, Action.Paper],\n",
    "    Action.Paper: [Action.Spock, Action.Rock],\n",
    "    Action.Rock: [Action.Lizard, Action.Scissors],\n",
    "    Action.Lizard: [Action.Spock, Action.Paper],\n",
    "    Action.Spock: [Action.Scissors, Action.Rock]\n",
    "}\n"
   ],
   "metadata": {
    "collapsed": false,
    "ExecuteTime": {
     "start_time": "2023-04-26T16:27:46.516541Z",
     "end_time": "2023-04-26T16:27:46.536179Z"
    }
   }
  },
  {
   "cell_type": "code",
   "execution_count": null,
   "outputs": [],
   "source": [
    "def determine_winner(user_action, computer_action):\n",
    "    print(f\"You chose {user_action.name}. The computer chose {computer_action.name}.\")\n",
    "    defeats = victories[user_action]\n",
    "    if user_action == computer_action:\n",
    "        print(f\"Both players selected {user_action.name}. It's a tie!\")\n",
    "    elif computer_action in defeats:\n",
    "        print(f\"{user_action.name} beats {computer_action.name}! You win!\")\n",
    "    else:\n",
    "        print(f\"{computer_action.name} beats {user_action.name}! You lose.\")"
   ],
   "metadata": {
    "collapsed": false,
    "ExecuteTime": {
     "start_time": "2023-04-26T16:27:46.526068Z",
     "end_time": "2023-04-26T16:27:46.580791Z"
    }
   }
  },
  {
   "cell_type": "code",
   "execution_count": null,
   "outputs": [],
   "source": [
    "start_game()"
   ],
   "metadata": {
    "collapsed": false,
    "ExecuteTime": {
     "start_time": "2023-04-26T16:27:46.541713Z",
     "end_time": "2023-04-26T16:27:51.249103Z"
    }
   }
  },
  {
   "cell_type": "code",
   "execution_count": null,
   "outputs": [],
   "source": [
    "ascii_action = {\n",
    "    Action.Scissors: r\"\"\"\n",
    "     _____      _\n",
    "    /  ___|    (_)\n",
    "    \\ `--.  ___ _ ___ ___  ___  _ __ ___\n",
    "     `--. \\/ __| / __/ __|/ _ \\| '__/ __|\n",
    "    /\\__/ / (__| \\__ \\__ \\ (_) | |  \\__ \\\\\n",
    "    \\____/ \\___|_|___/___/\\___/|_|  |___/\n",
    "    \"\"\",\n",
    "    Action.Paper: r\"\"\"\n",
    "    ______\n",
    "    | ___ \\\n",
    "    | |_/ /_ _ _ __   ___ _ __\n",
    "    |  __/ _` | '_ \\ / _ \\ '__|\n",
    "    | | | (_| | |_) |  __/ |\n",
    "    \\_|  \\__,_| .__/ \\___|_|\n",
    "              | |\n",
    "              |_|\n",
    "     \"\"\",\n",
    "    Action.Rock: r\"\"\"\n",
    "    ______           _\n",
    "    | ___ \\         | |\n",
    "    | |_/ /___   ___| | __\n",
    "    |    // _ \\ / __| |/ /\n",
    "    | |\\ \\ (_) | (__|   <\n",
    "    \\_| \\_\\___/ \\___|_|\\_\\\n",
    "\n",
    "     \"\"\",\n",
    "    Action.Lizard: r\"\"\"\n",
    "     _     _                      _\n",
    "    | |   (_)                    | |\n",
    "    | |    _ __________ _ _ __ __| |\n",
    "    | |   | |_  /_  / _` | '__/ _` |\n",
    "    | |___| |/ / / / (_| | | | (_| |\n",
    "    \\_____/_/___/___\\__,_|_|  \\__,_|\n",
    "     \"\"\",\n",
    "    Action.Spock: r\"\"\"\n",
    "     _____                  _\n",
    "    /  ___|                | |\n",
    "    \\ `--. _ __   ___   ___| | __\n",
    "     `--. \\ '_ \\ / _ \\ / __| |/ /\n",
    "    /\\__/ / |_) | (_) | (__|   <\n",
    "    \\____/| .__/ \\___/ \\___|_|\\_\\\\\n",
    "          | |\n",
    "          |_|\n",
    "    \"\"\"\n",
    "}\n",
    "\n",
    "COMPUTER_WIN=-1\n",
    "HUMAN_WIN=1\n",
    "DROW=0\n",
    "ascii_result = {\n",
    "    COMPUTER_WIN: r\"\"\"\n",
    " _____ ________  _________ _   _ _____ ___________\n",
    "/  __ \\  _  |  \\/  || ___ \\ | | |_   _|  ___| ___ \\\\\n",
    "| /  \\/ | | | .  . || |_/ / | | | | | | |__ | |_/ /\n",
    "| |   | | | | |\\/| ||  __/| | | | | | |  __||    /\n",
    "| \\__/\\ \\_/ / |  | || |   | |_| | | | | |___| |\\ \\\n",
    " \\____/\\___/\\_|  |_/\\_|    \\___/  \\_/ \\____/\\_| \\_|\n",
    "\n",
    "\n",
    " _    _ _____ _   _  _____   _ _ _\n",
    "| |  | |_   _| \\ | |/  ___| | | | |\n",
    "| |  | | | | |  \\| |\\ `--.  | | | |\n",
    "| |/\\| | | | | . ` | `--. \\ | | | |\n",
    "\\  /\\  /_| |_| |\\  |/\\__/ / |_|_|_|\n",
    " \\/  \\/ \\___/\\_| \\_/\\____/  (_|_|_)\n",
    "\n",
    "                                                   \"\"\",\n",
    "    HUMAN_WIN: r\"\"\"\n",
    " _   _ _   ____  ___  ___   _   _\n",
    "| | | | | | |  \\/  | / _ \\ | \\ | |\n",
    "| |_| | | | | .  . |/ /_\\ \\|  \\| |\n",
    "|  _  | | | | |\\/| ||  _  || . ` |\n",
    "| | | | |_| | |  | || | | || |\\  |\n",
    "\\_| |_/\\___/\\_|  |_/\\_| |_/\\_| \\_/\n",
    "\n",
    "\n",
    " _    _ _____ _   _  _____   _ _ _\n",
    "| |  | |_   _| \\ | |/  ___| | | | |\n",
    "| |  | | | | |  \\| |\\ `--.  | | | |\n",
    "| |/\\| | | | | . ` | `--. \\ | | | |\n",
    "\\  /\\  /_| |_| |\\  |/\\__/ / |_|_|_|\n",
    " \\/  \\/ \\___/\\_| \\_/\\____/  (_|_|_)\n",
    "\n",
    "\n",
    "        __\n",
    "       / _|\n",
    "      | |_ ___  _ __   _ __   _____      __\n",
    "      |  _/ _ \\| '__| | '_ \\ / _ \\ \\ /\\ / /\n",
    " _ _ _| || (_) | |    | | | | (_) \\ V  V /   _ _ _\n",
    "(_|_|_)_| \\___/|_|    |_| |_|\\___/ \\_/\\_/   (_|_|_)\n",
    "\n",
    "                                                   \"\"\",\n",
    "    DROW: r\"\"\"\n",
    "         _   _          _\n",
    "        | | (_)        | |\n",
    "  __ _  | |_ _  ___  __| |   __ _  __ _ _ __ ___   ___\n",
    " / _` | | __| |/ _ \\/ _` |  / _` |/ _` | '_ ` _ \\ / _ \\\\\n",
    "| (_| | | |_| |  __/ (_| | | (_| | (_| | | | | | |  __/\n",
    " \\__,_|  \\__|_|\\___|\\__,_|  \\__, |\\__,_|_| |_| |_|\\___|\n",
    "                             __/ |\n",
    "                            |___/\n",
    "  ___                     _                _            __\n",
    " / / |                   | |              (_)           \\ \\\\\n",
    "| || |__   _____      __ | |__   ___  _ __ _ _ __   __ _ | |\n",
    "| || '_ \\ / _ \\ \\ /\\ / / | '_ \\ / _ \\| '__| | '_ \\ / _` || |\n",
    "| || | | | (_) \\ V  V /  | |_) | (_) | |  | | | | | (_| || |\n",
    "| ||_| |_|\\___/ \\_/\\_/   |_.__/ \\___/|_|  |_|_| |_|\\__, || |\n",
    " \\_\\                                                __/ /_/\n",
    "                                                   |___/    \"\"\"\n",
    "}"
   ],
   "metadata": {
    "collapsed": false,
    "ExecuteTime": {
     "start_time": "2023-04-26T16:27:51.245103Z",
     "end_time": "2023-04-26T16:27:51.278189Z"
    }
   }
  },
  {
   "cell_type": "code",
   "execution_count": null,
   "outputs": [],
   "source": [
    "def display_action(action):\n",
    "    print(ascii_action[action])\n",
    "\n",
    "def display_result(result):\n",
    "    print(ascii_result[result])"
   ],
   "metadata": {
    "collapsed": false,
    "ExecuteTime": {
     "start_time": "2023-04-26T16:27:51.255635Z",
     "end_time": "2023-04-26T16:27:51.279196Z"
    }
   }
  },
  {
   "cell_type": "code",
   "execution_count": null,
   "outputs": [],
   "source": [
    "display_action(Action.Spock)"
   ],
   "metadata": {
    "collapsed": false,
    "ExecuteTime": {
     "start_time": "2023-04-26T16:27:51.275683Z",
     "end_time": "2023-04-26T16:27:51.371900Z"
    }
   }
  },
  {
   "cell_type": "code",
   "execution_count": null,
   "outputs": [],
   "source": [
    "display_result(DROW)"
   ],
   "metadata": {
    "collapsed": false,
    "ExecuteTime": {
     "start_time": "2023-04-26T16:27:51.287716Z",
     "end_time": "2023-04-26T16:27:51.414512Z"
    }
   }
  },
  {
   "cell_type": "code",
   "execution_count": null,
   "outputs": [],
   "source": [
    "def determine_winner(user_action, computer_action):\n",
    "\n",
    "    print(f\"You chose\")\n",
    "    display_action(user_action)\n",
    "    print(f\"The computer chose\")\n",
    "    display_action(computer_action)\n",
    "    defeats = victories[user_action]\n",
    "    if user_action == computer_action:\n",
    "        display_result(DROW)\n",
    "    elif computer_action in defeats:\n",
    "       display_result(HUMAN_WIN)\n",
    "    else:\n",
    "       display_result(COMPUTER_WIN)\n"
   ],
   "metadata": {
    "collapsed": false,
    "ExecuteTime": {
     "start_time": "2023-04-26T16:27:51.304766Z",
     "end_time": "2023-04-26T16:27:51.416511Z"
    }
   }
  },
  {
   "cell_type": "code",
   "execution_count": null,
   "outputs": [],
   "source": [
    "start_game()"
   ],
   "metadata": {
    "collapsed": false,
    "ExecuteTime": {
     "start_time": "2023-04-26T16:27:51.323832Z",
     "end_time": "2023-04-26T16:27:54.214155Z"
    }
   }
  },
  {
   "cell_type": "code",
   "execution_count": null,
   "outputs": [],
   "source": [
    "def determine_winner(user_action, computer_action):\n",
    "\n",
    "    print(f\"You chose\")\n",
    "    display_action(user_action)\n",
    "    print(f\"The computer chose\")\n",
    "    display_action(computer_action)\n",
    "    defeats = victories[user_action]\n",
    "    if user_action == computer_action:\n",
    "        display_result(DROW)\n",
    "        return DROW\n",
    "    elif computer_action in defeats:\n",
    "       display_result(HUMAN_WIN)\n",
    "       return HUMAN_WIN\n",
    "    else:\n",
    "       display_result(COMPUTER_WIN)\n",
    "       return COMPUTER_WIN\n"
   ],
   "metadata": {
    "collapsed": false,
    "ExecuteTime": {
     "start_time": "2023-04-26T16:27:54.196400Z",
     "end_time": "2023-04-26T16:27:54.234205Z"
    }
   }
  },
  {
   "cell_type": "code",
   "execution_count": null,
   "outputs": [],
   "source": [
    "def print_game_results(game_results):\n",
    "    num_tied = game_results.count(DROW)/len(game_results)*100\n",
    "    num_player_wins = game_results.count(HUMAN_WIN)/len(game_results)*100\n",
    "    num_computer_wins =game_results.count(COMPUTER_WIN)/len(game_results)*100\n",
    "\n",
    "    print( 'There were ', num_tied, '% tied games', \"\\nthe player won \", num_player_wins, '% of games\\nthe computer won ', num_computer_wins, '% of games\\nin a total of ', len(game_results), ' games')"
   ],
   "metadata": {
    "collapsed": false,
    "ExecuteTime": {
     "start_time": "2023-04-26T16:45:05.050844Z",
     "end_time": "2023-04-26T16:45:05.114548Z"
    }
   }
  },
  {
   "cell_type": "code",
   "execution_count": null,
   "outputs": [],
   "source": [
    "def start_game(num_games=1):\n",
    "    game_results=[]\n",
    "    counter=0\n",
    "    while True:\n",
    "        try:\n",
    "            user_action = get_user_selection()\n",
    "        except ValueError as e:\n",
    "            range_str = f\"[0, {len(Action) - 1}]\"\n",
    "            print(f\"Invalid selection. Enter a value in range {range_str}\")\n",
    "            continue\n",
    "\n",
    "        computer_action = get_computer_selection()\n",
    "        game_results.append(determine_winner(user_action, computer_action))\n",
    "        counter+=1\n",
    "\n",
    "        if counter>=num_games:\n",
    "            break\n",
    "    print_game_results(game_results)\n",
    "    return game_results"
   ],
   "metadata": {
    "collapsed": false,
    "ExecuteTime": {
     "start_time": "2023-04-26T16:27:54.223676Z",
     "end_time": "2023-04-26T16:27:54.235207Z"
    }
   }
  },
  {
   "cell_type": "code",
   "execution_count": null,
   "outputs": [],
   "source": [
    "game_results=start_game(5)"
   ],
   "metadata": {
    "collapsed": false,
    "ExecuteTime": {
     "start_time": "2023-04-26T16:27:54.240784Z",
     "end_time": "2023-04-26T16:27:58.297970Z"
    }
   }
  },
  {
   "cell_type": "code",
   "execution_count": null,
   "outputs": [],
   "source": [
    "from IPython.display import display,Image\n",
    "\n",
    "def display_action(action):\n",
    "    print(f\"./data/images/{action.name}.png\")\n",
    "    display(Image(f\"data/images/{action.name}.png\"))\n",
    "\n",
    "\n",
    "# def display_result(result):\n",
    "#     print(ascii_result[result])"
   ],
   "metadata": {
    "collapsed": false,
    "ExecuteTime": {
     "start_time": "2023-04-26T16:27:58.259330Z",
     "end_time": "2023-04-26T16:27:58.300004Z"
    }
   }
  },
  {
   "cell_type": "code",
   "execution_count": null,
   "outputs": [],
   "source": [
    "game_results=start_game(1)"
   ],
   "metadata": {
    "collapsed": false,
    "ExecuteTime": {
     "start_time": "2023-04-26T16:27:58.273369Z",
     "end_time": "2023-04-26T16:27:59.073958Z"
    }
   }
  },
  {
   "cell_type": "code",
   "execution_count": null,
   "outputs": [],
   "source": [
    "\n",
    "import ipywidgets as widgets"
   ],
   "metadata": {
    "collapsed": false,
    "ExecuteTime": {
     "start_time": "2023-04-26T16:27:59.009522Z",
     "end_time": "2023-04-26T16:27:59.305939Z"
    }
   }
  },
  {
   "cell_type": "code",
   "execution_count": null,
   "outputs": [],
   "source": [
    "def display_action(action):\n",
    "    print(ascii_action[action])\n",
    "\n"
   ],
   "metadata": {
    "collapsed": false,
    "ExecuteTime": {
     "start_time": "2023-04-26T16:27:59.134039Z",
     "end_time": "2023-04-26T16:27:59.306929Z"
    }
   }
  },
  {
   "cell_type": "code",
   "execution_count": null,
   "outputs": [],
   "source": [
    "options=[(action.name,action.value) for action in Action]\n",
    "menu = widgets.Dropdown(\n",
    "       options=options ,\n",
    "       description='Chose:')\n",
    "output = widgets.Output(layout={'border': '1px solid black'})\n",
    "\n",
    "def on_button_clicked(b):\n",
    "    output.clear_output()\n",
    "    with output:\n",
    "        computer_action = get_computer_selection()\n",
    "        determine_winner(Action(menu.value), computer_action)\n",
    "\n",
    "button = widgets.Button(description=\"Play!\", button_style='success', icon='check')\n",
    "button.on_click(on_button_clicked)\n",
    "box = widgets.VBox([menu, button, output])\n",
    "\n",
    "display(box)"
   ],
   "metadata": {
    "collapsed": false,
    "ExecuteTime": {
     "start_time": "2023-04-26T16:27:59.156084Z",
     "end_time": "2023-04-26T16:27:59.307930Z"
    }
   }
  },
  {
   "cell_type": "code",
   "execution_count": null,
   "outputs": [],
   "source": [
    "!pip install numpy\n",
    "!pip install opencv-python\n",
    "!pip install mediapipe\n"
   ],
   "metadata": {
    "collapsed": false,
    "ExecuteTime": {
     "start_time": "2023-04-26T16:27:59.191307Z",
     "end_time": "2023-04-26T16:28:11.484505Z"
    }
   }
  },
  {
   "cell_type": "code",
   "execution_count": null,
   "outputs": [],
   "source": [
    "import cv2\n",
    "\n",
    "import numpy as np\n",
    "import mediapipe as mp"
   ],
   "metadata": {
    "collapsed": false,
    "ExecuteTime": {
     "start_time": "2023-04-26T16:28:11.487506Z",
     "end_time": "2023-04-26T16:28:23.161641Z"
    }
   }
  },
  {
   "cell_type": "code",
   "execution_count": null,
   "outputs": [],
   "source": [
    "# Define default camera intrinsic\n",
    "img_width  = 640\n",
    "img_height = 480\n",
    "intrin_default = {\n",
    "    'fx': img_width*0.9, # Approx 0.7w < f < w https://www.learnopencv.com/approximate-focal-length-for-webcams-and-cell-phone-cameras/\n",
    "    'fy': img_width*0.9,\n",
    "    'cx': img_width*0.5, # Approx center of image\n",
    "    'cy': img_height*0.5,\n",
    "    'width': img_width,\n",
    "    'height': img_height,\n",
    "}"
   ],
   "metadata": {
    "collapsed": false,
    "ExecuteTime": {
     "start_time": "2023-04-26T16:28:23.166615Z",
     "end_time": "2023-04-26T16:28:23.179131Z"
    }
   }
  },
  {
   "cell_type": "code",
   "execution_count": null,
   "outputs": [],
   "source": [
    "def display_action(action):\n",
    "    print(f\"./data/images/{action.name}.png\")\n",
    "    display(Image(f\"data/images/{action.name}.png\"))"
   ],
   "metadata": {
    "collapsed": false,
    "ExecuteTime": {
     "start_time": "2023-04-26T16:28:23.181657Z",
     "end_time": "2023-04-26T16:28:23.226327Z"
    }
   }
  },
  {
   "cell_type": "code",
   "execution_count": null,
   "outputs": [],
   "source": [
    "class GestureRecognition:\n",
    "    def __init__(self):\n",
    "\n",
    "        # 11 types of gesture 'name':class label\n",
    "        self.gesture = {\n",
    "            'fist':0,'one':1,'two':2,'three':3,'four':4,'five':5,'six':6,\n",
    "            'rock':7,'spiderman':8,'yeah':9,'ok':10,\n",
    "        }\n",
    "\n",
    "        # Load training data\n",
    "        file = np.genfromtxt('./data/gesture_train.csv', delimiter=',')\n",
    "        # Extract input joint angles\n",
    "        angle = file[:,:-1].astype(np.float32)\n",
    "        # Extract output class label\n",
    "        label = file[:, -1].astype(np.float32)\n",
    "        # Use OpenCV KNN\n",
    "        self.knn = cv2.ml.KNearest_create()\n",
    "        self.knn.train(angle, cv2.ml.ROW_SAMPLE, label)\n",
    "\n",
    "\n",
    "\n",
    "    def eval(self, angle):\n",
    "        # Use KNN for gesture recognition\n",
    "        data = np.asarray([angle], dtype=np.float32)\n",
    "        ret, results, neighbours ,dist = self.knn.findNearest(data, 3)\n",
    "        idx = int(results[0][0]) # Index of class label\n",
    "\n",
    "        return list(self.gesture)[idx] # Return name of class label\n",
    "\n",
    "\n",
    "class MediaPipeHand:\n",
    "    def __init__(self, static_image_mode=True, max_num_hands=1,\n",
    "        model_complexity=1, intrin=None):\n",
    "        self.max_num_hands = max_num_hands\n",
    "        if intrin is None:\n",
    "            self.intrin = intrin_default\n",
    "        else:\n",
    "            self.intrin = intrin\n",
    "\n",
    "        # Access MediaPipe Solutions Python API\n",
    "        mp_hands = mp.solutions.hands\n",
    "        # help(mp_hands.Hands)\n",
    "\n",
    "        # Initialize MediaPipe Hands\n",
    "        # static_image_mode:\n",
    "        #   For video processing set to False:\n",
    "        #   Will use previous frame to localize hand to reduce latency\n",
    "        #   For unrelated images set to True:\n",
    "        #   To allow hand detection to run on every input images\n",
    "\n",
    "        # max_num_hands:\n",
    "        #   Maximum number of hands to detect\n",
    "\n",
    "        # model_complexity:\n",
    "        #   Complexity of the hand landmark model: 0 or 1.\n",
    "        #   Landmark accuracy as well as inference latency generally\n",
    "        #   go up with the model complexity. Default to 1.\n",
    "\n",
    "        # min_detection_confidence:\n",
    "        #   Confidence value [0,1] from hand detection model\n",
    "        #   for detection to be considered successful\n",
    "\n",
    "        # min_tracking_confidence:\n",
    "        #   Minimum confidence value [0,1] from landmark-tracking model\n",
    "        #   for hand landmarks to be considered tracked successfully,\n",
    "        #   or otherwise hand detection will be invoked automatically on the next input image.\n",
    "        #   Setting it to a higher value can increase robustness of the solution,\n",
    "        #   at the expense of a higher latency.\n",
    "        #   Ignored if static_image_mode is true, where hand detection simply runs on every image.\n",
    "\n",
    "        self.pipe = mp_hands.Hands(\n",
    "            static_image_mode=static_image_mode,\n",
    "            max_num_hands=max_num_hands,\n",
    "            model_complexity=model_complexity,\n",
    "            min_detection_confidence=0.5,\n",
    "            min_tracking_confidence=0.5)\n",
    "\n",
    "        # Define hand parameter\n",
    "        self.param = []\n",
    "        for i in range(max_num_hands):\n",
    "            p = {\n",
    "                'keypt'   : np.zeros((21,2)), # 2D keypt in image coordinate (pixel)\n",
    "                'joint'   : np.zeros((21,3)), # 3D joint in camera coordinate (m)\n",
    "                'class'   : None,             # Left / right / none hand\n",
    "                'score'   : 0,                # Probability of predicted handedness (always>0.5, and opposite handedness=1-score)\n",
    "                'angle'   : np.zeros(15),     # Flexion joint angles in degree\n",
    "                'gesture' : None,             # Type of hand gesture\n",
    "                'rvec'    : np.zeros(3),      # Global rotation vector Note: this term is only used for solvepnp initialization\n",
    "                'tvec'    : np.asarray([0,0,0.6]), # Global translation vector (m) Note: Init z direc to some +ve dist (i.e. in front of camera), to prevent solvepnp from wrongly estimating z as -ve\n",
    "                'fps'     : -1, # Frame per sec\n",
    "                # https://github.com/google/mediapipe/issues/1351\n",
    "                # 'visible' : np.zeros(21), # Visibility: Likelihood [0,1] of being visible (present and not occluded) in the image\n",
    "                # 'presence': np.zeros(21), # Presence: Likelihood [0,1] of being present in the image or if its located outside the image\n",
    "            }\n",
    "            self.param.append(p)\n",
    "\n",
    "\n",
    "    def result_to_param(self, result, img):\n",
    "        # Convert mediapipe result to my own param\n",
    "        img_height, img_width, _ = img.shape\n",
    "\n",
    "        # Reset param\n",
    "        for p in self.param:\n",
    "            p['class'] = None\n",
    "\n",
    "        if result.multi_hand_landmarks is not None:\n",
    "            # Loop through different hands\n",
    "            for i, res in enumerate(result.multi_handedness):\n",
    "                if i>self.max_num_hands-1: break # Note: Need to check if exceed max number of hand\n",
    "                self.param[i]['class'] = res.classification[0].label\n",
    "                self.param[i]['score'] = res.classification[0].score\n",
    "\n",
    "            # Loop through different hands\n",
    "            for i, res in enumerate(result.multi_hand_landmarks):\n",
    "                if i>self.max_num_hands-1: break # Note: Need to check if exceed max number of hand\n",
    "                # Loop through 21 landmark for each hand\n",
    "                for j, lm in enumerate(res.landmark):\n",
    "                    self.param[i]['keypt'][j,0] = lm.x * img_width  # Convert normalized coor to pixel [0,1] -> [0,width]\n",
    "                    self.param[i]['keypt'][j,1] = lm.y * img_height # Convert normalized coor to pixel [0,1] -> [0,height]\n",
    "\n",
    "                    # Ignore it https://github.com/google/mediapipe/issues/1320\n",
    "                    # self.param[i]['visible'][j] = lm.visibility\n",
    "                    # self.param[i]['presence'][j] = lm.presence\n",
    "\n",
    "        if result.multi_hand_world_landmarks is not None:\n",
    "            for i, res in enumerate(result.multi_hand_world_landmarks):\n",
    "                if i>self.max_num_hands-1: break # Note: Need to check if exceed max number of hand\n",
    "                # Loop through 21 landmark for each hand\n",
    "                for j, lm in enumerate(res.landmark):\n",
    "                    self.param[i]['joint'][j,0] = lm.x\n",
    "                    self.param[i]['joint'][j,1] = lm.y\n",
    "                    self.param[i]['joint'][j,2] = lm.z\n",
    "\n",
    "                # Convert relative 3D joint to angle\n",
    "                self.param[i]['angle'] = self.convert_joint_to_angle(self.param[i]['joint'])\n",
    "                # Convert relative 3D joint to camera coordinate\n",
    "                self.convert_joint_to_camera_coor(self.param[i], self.intrin)\n",
    "\n",
    "        return self.param\n",
    "\n",
    "\n",
    "    def convert_joint_to_angle(self, joint):\n",
    "        # Get direction vector of bone from parent to child\n",
    "        v1 = joint[[0,1,2,3,0,5,6,7,0,9,10,11,0,13,14,15,0,17,18,19],:] # Parent joint\n",
    "        v2 = joint[[1,2,3,4,5,6,7,8,9,10,11,12,13,14,15,16,17,18,19,20],:] # Child joint\n",
    "        v = v2 - v1 # [20,3]\n",
    "        # Normalize v\n",
    "        v = v/np.linalg.norm(v, axis=1)[:, np.newaxis]\n",
    "\n",
    "        # Get angle using arcos of dot product\n",
    "        angle = np.arccos(np.einsum('nt,nt->n',\n",
    "            v[[0,1,2,4,5,6,8,9,10,12,13,14,16,17,18],:],\n",
    "            v[[1,2,3,5,6,7,9,10,11,13,14,15,17,18,19],:])) # [15,]\n",
    "\n",
    "        return np.degrees(angle) # Convert radian to degree\n",
    "\n",
    "\n",
    "    def convert_joint_to_camera_coor(self, param, intrin, use_solvepnp=True):\n",
    "        # MediaPipe version 0.8.9.1 onwards:\n",
    "        # Given real-world 3D joint centered at middle MCP joint -> J_origin\n",
    "        # To estimate the 3D joint in camera coordinate          -> J_camera = J_origin + tvec,\n",
    "        # We need to find the unknown translation vector         -> tvec = [tx,ty,tz]\n",
    "        # Such that when J_camera is projected to the 2D image plane\n",
    "        # It matches the 2D keypoint locations\n",
    "\n",
    "        # Considering all 21 keypoints,\n",
    "        # Each keypoints will form 2 eq, in total we have 42 eq 3 unknowns\n",
    "        # Since the equations are linear wrt [tx,ty,tz]\n",
    "        # We can solve the unknowns using linear algebra A.x = b, where x = [tx,ty,tz]\n",
    "\n",
    "        # Consider a single keypoint (pixel x) and joint (X,Y,Z)\n",
    "        # Using the perspective projection eq:\n",
    "        # (x - cx)/fx = (X + tx) / (Z + tz)\n",
    "        # Similarly for pixel y:\n",
    "        # (y - cy)/fy = (Y + ty) / (Z + tz)\n",
    "        # Rearranging the above linear equations by keeping constants to the right hand side:\n",
    "        # fx.tx - (x - cx).tz = -fx.X + (x - cx).Z\n",
    "        # fy.ty - (y - cy).tz = -fy.Y + (y - cy).Z\n",
    "        # Therefore, we can factor out the unknowns and form a matrix eq:\n",
    "        # [fx  0 (x - cx)][tx]   [-fx.X + (x - cx).Z]\n",
    "        # [ 0 fy (y - cy)][ty] = [-fy.Y + (y - cy).Z]\n",
    "        #                 [tz]\n",
    "\n",
    "        idx = [i for i in range(21)] # Use all landmarks\n",
    "\n",
    "        if use_solvepnp:\n",
    "            # Method 1: OpenCV solvePnP\n",
    "            fx, fy = intrin['fx'], intrin['fy']\n",
    "            cx, cy = intrin['cx'], intrin['cy']\n",
    "            intrin_mat = np.asarray([[fx,0,cx],[0,fy,cy],[0,0,1]])\n",
    "            dist_coeff = np.zeros(4)\n",
    "\n",
    "            ret, param['rvec'], param['tvec'] = cv2.solvePnP(\n",
    "                param['joint'][idx], param['keypt'][idx],\n",
    "                intrin_mat, dist_coeff, param['rvec'], param['tvec'],\n",
    "                useExtrinsicGuess=True)\n",
    "            # Add tvec to all joints\n",
    "            param['joint'] += param['tvec']\n",
    "\n",
    "        else:\n",
    "            # Method 2:\n",
    "            A = np.zeros((len(idx),2,3))\n",
    "            b = np.zeros((len(idx),2))\n",
    "\n",
    "            A[:,0,0] = intrin['fx']\n",
    "            A[:,1,1] = intrin['fy']\n",
    "            A[:,0,2] = -(param['keypt'][idx,0] - intrin['cx'])\n",
    "            A[:,1,2] = -(param['keypt'][idx,1] - intrin['cy'])\n",
    "\n",
    "            b[:,0] = -intrin['fx'] * param['joint'][idx,0] \\\n",
    "                     + (param['keypt'][idx,0] - intrin['cx']) * param['joint'][idx,2]\n",
    "            b[:,1] = -intrin['fy'] * param['joint'][idx,1] \\\n",
    "                     + (param['keypt'][idx,1] - intrin['cy']) * param['joint'][idx,2]\n",
    "\n",
    "            A = A.reshape(-1,3) # [8,3]\n",
    "            b = b.flatten() # [8]\n",
    "\n",
    "            # Use the normal equation AT.A.x = AT.b to minimize the sum of the sq diff btw left and right sides\n",
    "            x = np.linalg.solve(A.T @ A, A.T @ b)\n",
    "            # Add tvec to all joints\n",
    "            param['joint'] += x\n",
    "\n",
    "\n",
    "\n",
    "    def forward(self, img):\n",
    "        # Preprocess image\n",
    "        img = cv2.cvtColor(img, cv2.COLOR_BGR2RGB)\n",
    "\n",
    "        # Extract result\n",
    "        result = self.pipe.process(img)\n",
    "\n",
    "        # Convert result to my own param\n",
    "        param = self.result_to_param(result, img)\n",
    "\n",
    "        return param\n",
    "\n",
    "\n"
   ],
   "metadata": {
    "collapsed": false
   }
  },
  {
   "cell_type": "code",
   "execution_count": null,
   "outputs": [],
   "source": [],
   "metadata": {
    "collapsed": false,
    "ExecuteTime": {
     "start_time": "2023-04-26T16:48:04.039233Z",
     "end_time": "2023-04-26T16:48:17.367294Z"
    }
   }
  },
  {
   "cell_type": "code",
   "execution_count": 87,
   "outputs": [
    {
     "name": "stdout",
     "output_type": "stream",
     "text": [
      "Requirement already satisfied: open3d in c:\\users\\danie\\venvs\\beginners'day 2023\\lib\\site-packages (0.17.0)\n",
      "Requirement already satisfied: ipywidgets>=8.0.4 in c:\\users\\danie\\venvs\\beginners'day 2023\\lib\\site-packages (from open3d) (8.0.6)\n",
      "Requirement already satisfied: dash>=2.6.0 in c:\\users\\danie\\venvs\\beginners'day 2023\\lib\\site-packages (from open3d) (2.9.3)\n",
      "Requirement already satisfied: nbformat==5.7.0 in c:\\users\\danie\\venvs\\beginners'day 2023\\lib\\site-packages (from open3d) (5.7.0)\n",
      "Requirement already satisfied: numpy>=1.18.0 in c:\\users\\danie\\venvs\\beginners'day 2023\\lib\\site-packages (from open3d) (1.22.4)\n",
      "Requirement already satisfied: werkzeug>=2.2.3 in c:\\users\\danie\\venvs\\beginners'day 2023\\lib\\site-packages (from open3d) (2.2.3)\n",
      "Requirement already satisfied: configargparse in c:\\users\\danie\\venvs\\beginners'day 2023\\lib\\site-packages (from open3d) (1.5.3)\n",
      "Requirement already satisfied: traitlets>=5.1 in c:\\users\\danie\\venvs\\beginners'day 2023\\lib\\site-packages (from nbformat==5.7.0->open3d) (5.9.0)\n",
      "Requirement already satisfied: jupyter-core in c:\\users\\danie\\venvs\\beginners'day 2023\\lib\\site-packages (from nbformat==5.7.0->open3d) (5.3.0)\n",
      "Requirement already satisfied: fastjsonschema in c:\\users\\danie\\venvs\\beginners'day 2023\\lib\\site-packages (from nbformat==5.7.0->open3d) (2.16.3)\n",
      "Requirement already satisfied: jsonschema>=2.6 in c:\\users\\danie\\venvs\\beginners'day 2023\\lib\\site-packages (from nbformat==5.7.0->open3d) (4.17.3)\n",
      "Requirement already satisfied: plotly>=5.0.0 in c:\\users\\danie\\venvs\\beginners'day 2023\\lib\\site-packages (from dash>=2.6.0->open3d) (5.14.1)\n",
      "Requirement already satisfied: Flask>=1.0.4 in c:\\users\\danie\\venvs\\beginners'day 2023\\lib\\site-packages (from dash>=2.6.0->open3d) (2.2.3)\n",
      "Requirement already satisfied: dash-core-components==2.0.0 in c:\\users\\danie\\venvs\\beginners'day 2023\\lib\\site-packages (from dash>=2.6.0->open3d) (2.0.0)\n",
      "Requirement already satisfied: dash-html-components==2.0.0 in c:\\users\\danie\\venvs\\beginners'day 2023\\lib\\site-packages (from dash>=2.6.0->open3d) (2.0.0)\n",
      "Requirement already satisfied: dash-table==5.0.0 in c:\\users\\danie\\venvs\\beginners'day 2023\\lib\\site-packages (from dash>=2.6.0->open3d) (5.0.0)\n",
      "Requirement already satisfied: ipython>=6.1.0 in c:\\users\\danie\\venvs\\beginners'day 2023\\lib\\site-packages (from ipywidgets>=8.0.4->open3d) (8.12.0)\n",
      "Requirement already satisfied: ipykernel>=4.5.1 in c:\\users\\danie\\venvs\\beginners'day 2023\\lib\\site-packages (from ipywidgets>=8.0.4->open3d) (6.22.0)\n",
      "Requirement already satisfied: widgetsnbextension~=4.0.7 in c:\\users\\danie\\venvs\\beginners'day 2023\\lib\\site-packages (from ipywidgets>=8.0.4->open3d) (4.0.7)\n",
      "Requirement already satisfied: jupyterlab-widgets~=3.0.7 in c:\\users\\danie\\venvs\\beginners'day 2023\\lib\\site-packages (from ipywidgets>=8.0.4->open3d) (3.0.7)\n",
      "Requirement already satisfied: MarkupSafe>=2.1.1 in c:\\users\\danie\\venvs\\beginners'day 2023\\lib\\site-packages (from werkzeug>=2.2.3->open3d) (2.1.2)\n",
      "Requirement already satisfied: click>=8.0 in c:\\users\\danie\\venvs\\beginners'day 2023\\lib\\site-packages (from Flask>=1.0.4->dash>=2.6.0->open3d) (8.1.3)\n",
      "Requirement already satisfied: itsdangerous>=2.0 in c:\\users\\danie\\venvs\\beginners'day 2023\\lib\\site-packages (from Flask>=1.0.4->dash>=2.6.0->open3d) (2.1.2)\n",
      "Requirement already satisfied: importlib-metadata>=3.6.0 in c:\\users\\danie\\venvs\\beginners'day 2023\\lib\\site-packages (from Flask>=1.0.4->dash>=2.6.0->open3d) (6.6.0)\n",
      "Requirement already satisfied: Jinja2>=3.0 in c:\\users\\danie\\venvs\\beginners'day 2023\\lib\\site-packages (from Flask>=1.0.4->dash>=2.6.0->open3d) (3.1.2)\n",
      "Requirement already satisfied: matplotlib-inline>=0.1 in c:\\users\\danie\\venvs\\beginners'day 2023\\lib\\site-packages (from ipykernel>=4.5.1->ipywidgets>=8.0.4->open3d) (0.1.6)\n",
      "Requirement already satisfied: pyzmq>=20 in c:\\users\\danie\\venvs\\beginners'day 2023\\lib\\site-packages (from ipykernel>=4.5.1->ipywidgets>=8.0.4->open3d) (25.0.2)\n",
      "Requirement already satisfied: psutil in c:\\users\\danie\\venvs\\beginners'day 2023\\lib\\site-packages (from ipykernel>=4.5.1->ipywidgets>=8.0.4->open3d) (5.9.5)\n",
      "Requirement already satisfied: debugpy>=1.6.5 in c:\\users\\danie\\venvs\\beginners'day 2023\\lib\\site-packages (from ipykernel>=4.5.1->ipywidgets>=8.0.4->open3d) (1.6.7)\n",
      "Requirement already satisfied: nest-asyncio in c:\\users\\danie\\venvs\\beginners'day 2023\\lib\\site-packages (from ipykernel>=4.5.1->ipywidgets>=8.0.4->open3d) (1.5.6)\n",
      "Requirement already satisfied: jupyter-client>=6.1.12 in c:\\users\\danie\\venvs\\beginners'day 2023\\lib\\site-packages (from ipykernel>=4.5.1->ipywidgets>=8.0.4->open3d) (8.2.0)\n",
      "Requirement already satisfied: packaging in c:\\users\\danie\\venvs\\beginners'day 2023\\lib\\site-packages (from ipykernel>=4.5.1->ipywidgets>=8.0.4->open3d) (23.1)\n",
      "Requirement already satisfied: tornado>=6.1 in c:\\users\\danie\\venvs\\beginners'day 2023\\lib\\site-packages (from ipykernel>=4.5.1->ipywidgets>=8.0.4->open3d) (6.3.1)\n",
      "Requirement already satisfied: comm>=0.1.1 in c:\\users\\danie\\venvs\\beginners'day 2023\\lib\\site-packages (from ipykernel>=4.5.1->ipywidgets>=8.0.4->open3d) (0.1.3)\n",
      "Requirement already satisfied: pygments>=2.4.0 in c:\\users\\danie\\venvs\\beginners'day 2023\\lib\\site-packages (from ipython>=6.1.0->ipywidgets>=8.0.4->open3d) (2.15.1)\n",
      "Requirement already satisfied: backcall in c:\\users\\danie\\venvs\\beginners'day 2023\\lib\\site-packages (from ipython>=6.1.0->ipywidgets>=8.0.4->open3d) (0.2.0)\n",
      "Requirement already satisfied: typing-extensions in c:\\users\\danie\\venvs\\beginners'day 2023\\lib\\site-packages (from ipython>=6.1.0->ipywidgets>=8.0.4->open3d) (4.5.0)\n",
      "Requirement already satisfied: colorama in c:\\users\\danie\\venvs\\beginners'day 2023\\lib\\site-packages (from ipython>=6.1.0->ipywidgets>=8.0.4->open3d) (0.4.6)\n",
      "Requirement already satisfied: stack-data in c:\\users\\danie\\venvs\\beginners'day 2023\\lib\\site-packages (from ipython>=6.1.0->ipywidgets>=8.0.4->open3d) (0.6.2)\n",
      "Requirement already satisfied: pickleshare in c:\\users\\danie\\venvs\\beginners'day 2023\\lib\\site-packages (from ipython>=6.1.0->ipywidgets>=8.0.4->open3d) (0.7.5)\n",
      "Requirement already satisfied: jedi>=0.16 in c:\\users\\danie\\venvs\\beginners'day 2023\\lib\\site-packages (from ipython>=6.1.0->ipywidgets>=8.0.4->open3d) (0.18.2)\n",
      "Requirement already satisfied: prompt-toolkit!=3.0.37,<3.1.0,>=3.0.30 in c:\\users\\danie\\venvs\\beginners'day 2023\\lib\\site-packages (from ipython>=6.1.0->ipywidgets>=8.0.4->open3d) (3.0.38)\n",
      "Requirement already satisfied: decorator in c:\\users\\danie\\venvs\\beginners'day 2023\\lib\\site-packages (from ipython>=6.1.0->ipywidgets>=8.0.4->open3d) (5.1.1)\n",
      "Requirement already satisfied: pyrsistent!=0.17.0,!=0.17.1,!=0.17.2,>=0.14.0 in c:\\users\\danie\\venvs\\beginners'day 2023\\lib\\site-packages (from jsonschema>=2.6->nbformat==5.7.0->open3d) (0.19.3)\n",
      "Requirement already satisfied: attrs>=17.4.0 in c:\\users\\danie\\venvs\\beginners'day 2023\\lib\\site-packages (from jsonschema>=2.6->nbformat==5.7.0->open3d) (23.1.0)\n",
      "Requirement already satisfied: platformdirs>=2.5 in c:\\users\\danie\\venvs\\beginners'day 2023\\lib\\site-packages (from jupyter-core->nbformat==5.7.0->open3d) (3.2.0)\n",
      "Requirement already satisfied: pywin32>=300 in c:\\users\\danie\\venvs\\beginners'day 2023\\lib\\site-packages (from jupyter-core->nbformat==5.7.0->open3d) (306)\n",
      "Requirement already satisfied: tenacity>=6.2.0 in c:\\users\\danie\\venvs\\beginners'day 2023\\lib\\site-packages (from plotly>=5.0.0->dash>=2.6.0->open3d) (8.2.2)\n",
      "Requirement already satisfied: zipp>=0.5 in c:\\users\\danie\\venvs\\beginners'day 2023\\lib\\site-packages (from importlib-metadata>=3.6.0->Flask>=1.0.4->dash>=2.6.0->open3d) (3.15.0)\n",
      "Requirement already satisfied: parso<0.9.0,>=0.8.0 in c:\\users\\danie\\venvs\\beginners'day 2023\\lib\\site-packages (from jedi>=0.16->ipython>=6.1.0->ipywidgets>=8.0.4->open3d) (0.8.3)\n",
      "Requirement already satisfied: python-dateutil>=2.8.2 in c:\\users\\danie\\venvs\\beginners'day 2023\\lib\\site-packages (from jupyter-client>=6.1.12->ipykernel>=4.5.1->ipywidgets>=8.0.4->open3d) (2.8.2)\n",
      "Requirement already satisfied: wcwidth in c:\\users\\danie\\venvs\\beginners'day 2023\\lib\\site-packages (from prompt-toolkit!=3.0.37,<3.1.0,>=3.0.30->ipython>=6.1.0->ipywidgets>=8.0.4->open3d) (0.2.6)\n",
      "Requirement already satisfied: executing>=1.2.0 in c:\\users\\danie\\venvs\\beginners'day 2023\\lib\\site-packages (from stack-data->ipython>=6.1.0->ipywidgets>=8.0.4->open3d) (1.2.0)\n",
      "Requirement already satisfied: asttokens>=2.1.0 in c:\\users\\danie\\venvs\\beginners'day 2023\\lib\\site-packages (from stack-data->ipython>=6.1.0->ipywidgets>=8.0.4->open3d) (2.2.1)\n",
      "Requirement already satisfied: pure-eval in c:\\users\\danie\\venvs\\beginners'day 2023\\lib\\site-packages (from stack-data->ipython>=6.1.0->ipywidgets>=8.0.4->open3d) (0.2.2)\n",
      "Requirement already satisfied: six in c:\\users\\danie\\venvs\\beginners'day 2023\\lib\\site-packages (from asttokens>=2.1.0->stack-data->ipython>=6.1.0->ipywidgets>=8.0.4->open3d) (1.16.0)\n"
     ]
    },
    {
     "name": "stderr",
     "output_type": "stream",
     "text": [
      "\n",
      "[notice] A new release of pip available: 22.3.1 -> 23.1.1\n",
      "[notice] To update, run: python.exe -m pip install --upgrade pip\n"
     ]
    }
   ],
   "source": [
    "!pip install open3d\n",
    "import open3d as o3d\n",
    "class DisplayCamera:\n",
    "    def __init__(self, vis, intrin=None):\n",
    "        self.vis = vis\n",
    "\n",
    "        # Get camera intrinsics param\n",
    "        if intrin is None:\n",
    "            self.intrin = intrin_default\n",
    "        else:\n",
    "            self.intrin = intrin\n",
    "\n",
    "        # Note: Need to subtract optical center by 0.5\n",
    "        # https://github.com/intel-isl/Open3D/issues/727\n",
    "        self.intrin['cx'] -= 0.5\n",
    "        self.intrin['cy'] -= 0.5\n",
    "\n",
    "        # For reset_view\n",
    "        self.pinhole = o3d.camera.PinholeCameraParameters()\n",
    "        self.pinhole.extrinsic = np.eye(4)\n",
    "        self.pinhole.intrinsic = o3d.camera.PinholeCameraIntrinsic(\n",
    "            self.intrin['width'], self.intrin['height'],\n",
    "            self.intrin['fx'], self.intrin['fy'],\n",
    "            self.intrin['cx'], self.intrin['cy'])\n",
    "\n",
    "\n",
    "    def reset_view(self):\n",
    "        # Reset camera view to this camera\n",
    "        self.vis.get_view_control().convert_from_pinhole_camera_parameters(\n",
    "            self.pinhole)\n",
    "\n",
    "\n",
    "    def unproject_pt(self, u, v, depth):\n",
    "        # Transform 2D pixels to 3D points\n",
    "        # Given pixel coordinates and depth in an image\n",
    "        # with no distortion or inverse distortion coefficients\n",
    "        # compute the corresponding point in 3D space relative to the same camera\n",
    "        x = (u - self.intrin['cx'])/self.intrin['fx']*depth\n",
    "        y = (v - self.intrin['cy'])/self.intrin['fy']*depth\n",
    "        z = depth\n",
    "\n",
    "        return [x, y, z]\n",
    "\n",
    "\n",
    "    def create_camera_frustum(self, depth=[0.5,1.0]):\n",
    "        # Get camera intrinsics param\n",
    "        w  = self.intrin['width']\n",
    "        h  = self.intrin['height']\n",
    "\n",
    "        # Each frustum 8 lines, each line 2 pts, and plot at 2 different depths\n",
    "        points, lines = [], []\n",
    "        c = 0 # Counter\n",
    "        points.append([0,0,0]) # Origin\n",
    "        for d in depth: # Plot at different depth\n",
    "            points.append(self.unproject_pt(0, 0, d)) # Top left\n",
    "            points.append(self.unproject_pt(w, 0, d)) # Top right\n",
    "            points.append(self.unproject_pt(w, h, d)) # Bottom left\n",
    "            points.append(self.unproject_pt(0, h, d)) # Bottom right\n",
    "            lines.append([0,c+1]);   lines.append([0,c+2])\n",
    "            lines.append([0,c+3]);   lines.append([0,c+4])\n",
    "            lines.append([c+1,c+2]); lines.append([c+2,c+3])\n",
    "            lines.append([c+3,c+4]); lines.append([c+4,c+1])\n",
    "            c += 4\n",
    "\n",
    "        # Set to uniform light gray color\n",
    "        colors = [[0.75,0.75,0.75] for i in range(len(lines))]\n",
    "\n",
    "        line = o3d.geometry.LineSet()\n",
    "        line.lines  = o3d.utility.Vector2iVector(lines)\n",
    "        line.points = o3d.utility.Vector3dVector(points)\n",
    "        line.colors = o3d.utility.Vector3dVector(colors)\n",
    "\n",
    "        return line\n",
    "\n",
    "\n",
    "    def create_mesh_img(self, img=None, depth=1.0):\n",
    "        # Get camera intrinsics param\n",
    "        w  = self.intrin['width']\n",
    "        h  = self.intrin['height']\n",
    "\n",
    "        if img is None:\n",
    "            img = np.zeros((h, w, 3), dtype=np.uint8)\n",
    "\n",
    "        vert = []\n",
    "        vert.append(self.unproject_pt( 0, 0, depth)) # Top left\n",
    "        vert.append(self.unproject_pt( w, 0, depth)) # Top right\n",
    "        vert.append(self.unproject_pt( w, h, depth)) # Bottom left\n",
    "        vert.append(self.unproject_pt( 0, h, depth)) # Bottom right\n",
    "\n",
    "        mesh = o3d.geometry.TriangleMesh()\n",
    "        # Convention of 4 vertices\n",
    "        # --> right x\n",
    "        # Down y\n",
    "        # Vertex 0 (-x,-y) -- Vertex 1 (x,-y)\n",
    "        # Vertex 3 (-x,y)  -- Vertex 2 (x,y)\n",
    "        mesh.vertices = o3d.utility.Vector3dVector(vert)\n",
    "        # Anti-clockwise direction (4 triangles to allow two-sided views)\n",
    "        mesh.triangles = o3d.utility.Vector3iVector(\n",
    "            [[0,2,1],[0,3,2],  # Front face\n",
    "             [0,1,2],[0,2,3]]) # Back face\n",
    "        # Define the uvs to match img coor to the order of triangles\n",
    "        # Top left    (0,0) -- Top right    (1,0)\n",
    "        # Bottom left (0,1) -- Bottom right (1,1)\n",
    "        mesh.triangle_uvs = o3d.utility.Vector2dVector(\n",
    "            [[0,0],[1,1],[1,0], [0,0],[0,1],[1,1], # Front face\n",
    "             [0,0],[1,0],[1,1], [0,0],[1,1],[0,1]]) # Back face\n",
    "        # Image to be displayed\n",
    "        mesh.textures = [o3d.geometry.Image(img)]\n",
    "\n",
    "        num_face = np.asarray(mesh.triangles).shape[0]\n",
    "        mesh.triangle_material_ids = o3d.utility.IntVector(\n",
    "            np.zeros(num_face, dtype=np.int32))\n",
    "\n",
    "        return mesh\n",
    "\n",
    "\n",
    "\n",
    "class DisplayHand:\n",
    "    def __init__(self, draw3d=False, draw_camera=False, intrin=None, max_num_hands=1, vis=None):\n",
    "        self.max_num_hands = max_num_hands\n",
    "        if intrin is None:\n",
    "            self.intrin = intrin_default\n",
    "        else:\n",
    "            self.intrin = intrin\n",
    "\n",
    "        # Define kinematic tree linking keypoint together to form skeleton\n",
    "        self.ktree = [0,          # Wrist\n",
    "                      0,1,2,3,    # Thumb\n",
    "                      0,5,6,7,    # Index\n",
    "                      0,9,10,11,  # Middle\n",
    "                      0,13,14,15, # Ring\n",
    "                      0,17,18,19] # Little\n",
    "\n",
    "        # Define color for 21 keypoint\n",
    "        self.color = [[0,0,0], # Wrist black\n",
    "                      [255,0,0],[255,60,0],[255,120,0],[255,180,0], # Thumb\n",
    "                      [0,255,0],[60,255,0],[120,255,0],[180,255,0], # Index\n",
    "                      [0,255,0],[0,255,60],[0,255,120],[0,255,180], # Middle\n",
    "                      [0,0,255],[0,60,255],[0,120,255],[0,180,255], # Ring\n",
    "                      [0,0,255],[60,0,255],[120,0,255],[180,0,255]] # Little\n",
    "        self.color = np.asarray(self.color)\n",
    "        self.color_ = self.color / 255 # For Open3D RGB\n",
    "        self.color[:,[0,2]] = self.color[:,[2,0]] # For OpenCV BGR\n",
    "        self.color = self.color.tolist()\n",
    "\n",
    "\n",
    "        ############################\n",
    "        ### Open3D visualization ###\n",
    "        ############################\n",
    "        if draw3d:\n",
    "            if vis is not None:\n",
    "                self.vis = vis\n",
    "            else:\n",
    "                self.vis = o3d.visualization.Visualizer()\n",
    "                self.vis.create_window(\n",
    "                    width=self.intrin['width'], height=self.intrin['height'])\n",
    "            self.vis.get_render_option().point_size = 8.0\n",
    "            joint = np.zeros((21,3))\n",
    "\n",
    "            # Draw 21 joints\n",
    "            self.pcd = []\n",
    "            for i in range(max_num_hands):\n",
    "                p = o3d.geometry.PointCloud()\n",
    "                p.points = o3d.utility.Vector3dVector(joint)\n",
    "                p.colors = o3d.utility.Vector3dVector(self.color_)\n",
    "                self.pcd.append(p)\n",
    "\n",
    "            # Draw 20 bones\n",
    "            self.bone = []\n",
    "            for i in range(max_num_hands):\n",
    "                b = o3d.geometry.LineSet()\n",
    "                b.points = o3d.utility.Vector3dVector(joint)\n",
    "                b.colors = o3d.utility.Vector3dVector(self.color_[1:])\n",
    "                b.lines  = o3d.utility.Vector2iVector(\n",
    "                    [[0,1], [1,2],  [2,3],  [3,4],    # Thumb\n",
    "                     [0,5], [5,6],  [6,7],  [7,8],    # Index\n",
    "                     [0,9], [9,10], [10,11],[11,12],  # Middle\n",
    "                     [0,13],[13,14],[14,15],[15,16],  # Ring\n",
    "                     [0,17],[17,18],[18,19],[19,20]]) # Little\n",
    "                self.bone.append(b)\n",
    "\n",
    "            # Draw world reference frame\n",
    "            frame = o3d.geometry.TriangleMesh.create_coordinate_frame(size=0.5)\n",
    "\n",
    "            # Add geometry to visualize\n",
    "            self.vis.add_geometry(frame)\n",
    "            for i in range(max_num_hands):\n",
    "                self.vis.add_geometry(self.pcd[i])\n",
    "                self.vis.add_geometry(self.bone[i])\n",
    "\n",
    "            # Set camera view\n",
    "            ctr = self.vis.get_view_control()\n",
    "            ctr.set_up([0,-1,0]) # Set up as -y axis\n",
    "            ctr.set_front([0,0,-1]) # Set to looking towards -z axis\n",
    "            ctr.set_lookat([0,0,0]) # Set to center of view\n",
    "            ctr.set_zoom(1)\n",
    "\n",
    "            if draw_camera:\n",
    "                # Remove previous frame\n",
    "                self.vis.remove_geometry(frame)\n",
    "                # Draw camera reference frame\n",
    "                frame = o3d.geometry.TriangleMesh.create_coordinate_frame(size=0.05)\n",
    "                # Draw camera frustum\n",
    "                self.camera = DisplayCamera(self.vis, self.intrin)\n",
    "                frustum = self.camera.create_camera_frustum()\n",
    "                # Draw 2D image plane in 3D space\n",
    "                self.mesh_img = self.camera.create_mesh_img()\n",
    "                # Add geometry to visualize\n",
    "                self.vis.add_geometry(frame)\n",
    "                self.vis.add_geometry(frustum)\n",
    "                self.vis.add_geometry(self.mesh_img)\n",
    "                # Reset camera view\n",
    "                self.camera.reset_view()\n",
    "\n",
    "\n",
    "    def draw2d(self, img, param):\n",
    "        img_height, img_width, _ = img.shape\n",
    "\n",
    "        # Loop through different hands\n",
    "        for p in param:\n",
    "            if p['class'] is not None:\n",
    "                # Label left or right hand\n",
    "                x = int(p['keypt'][0,0]) - 30\n",
    "                y = int(p['keypt'][0,1]) + 40\n",
    "                # cv2.putText(img, '%s %.3f' % (p['class'], p['score']), (x, y),\n",
    "                cv2.putText(img, '%s' % (p['class']), (x, y),\n",
    "                    cv2.FONT_HERSHEY_SIMPLEX, 1, (0,0,255), 2) # Red\n",
    "\n",
    "                # Loop through keypoint for each hand\n",
    "                for i in range(21):\n",
    "                    x = int(p['keypt'][i,0])\n",
    "                    y = int(p['keypt'][i,1])\n",
    "                    if x>0 and y>0 and x<img_width and y<img_height:\n",
    "                        # Draw skeleton\n",
    "                        start = p['keypt'][self.ktree[i],:]\n",
    "                        x_ = int(start[0])\n",
    "                        y_ = int(start[1])\n",
    "                        if x_>0 and y_>0 and x_<img_width and y_<img_height:\n",
    "                            cv2.line(img, (x_, y_), (x, y), self.color[i], 2)\n",
    "\n",
    "                        # Draw keypoint\n",
    "                        cv2.circle(img, (x, y), 5, self.color[i], -1)\n",
    "                        # cv2.circle(img, (x, y), 3, self.color[i], -1)\n",
    "\n",
    "                        # # Number keypoint\n",
    "                        # cv2.putText(img, '%d' % (i), (x, y),\n",
    "                        #     cv2.FONT_HERSHEY_SIMPLEX, 1, self.color[i])\n",
    "\n",
    "                        # # Label visibility and presence\n",
    "                        # cv2.putText(img, '%.1f, %.1f' % (p['visible'][i], p['presence'][i]),\n",
    "                        #     (x, y), cv2.FONT_HERSHEY_SIMPLEX, 1, self.color[i])\n",
    "\n",
    "                # Label gesture\n",
    "                if p['gesture'] is not None:\n",
    "                    size = cv2.getTextSize(p['gesture'].upper(),\n",
    "                        # cv2.FONT_HERSHEY_SIMPLEX, 2, 2)[0]\n",
    "                        cv2.FONT_HERSHEY_SIMPLEX, 1, 2)[0]\n",
    "                    x = int((img_width-size[0]) / 2)\n",
    "                    cv2.putText(img, p['gesture'].upper(),\n",
    "                        # (x, 50), cv2.FONT_HERSHEY_SIMPLEX, 2, (0,0,255), 2)\n",
    "                        (x, 50), cv2.FONT_HERSHEY_SIMPLEX, 1, (0,0,255), 2)\n",
    "\n",
    "                    # Label joint angle\n",
    "                    self.draw_joint_angle(img, p)\n",
    "\n",
    "            # Label fps\n",
    "            if p['fps']>0:\n",
    "                cv2.putText(img, 'FPS: %.1f' % (p['fps']),\n",
    "                    (0, 30), cv2.FONT_HERSHEY_SIMPLEX, 1, (0,0,255), 2)\n",
    "\n",
    "        return img\n",
    "\n",
    "\n",
    "    def draw2d_(self, img, param):\n",
    "        # Different from draw2d\n",
    "        # draw2d_ draw 2.5D with relative depth info\n",
    "        # The closer the landmark is towards the camera\n",
    "        # The lighter and larger the circle\n",
    "\n",
    "        img_height, img_width, _ = img.shape\n",
    "\n",
    "        # Loop through different hands\n",
    "        for p in param:\n",
    "            if p['class'] is not None:\n",
    "                # Extract wrist pixel\n",
    "                x = int(p['keypt'][0,0]) - 30\n",
    "                y = int(p['keypt'][0,1]) + 40\n",
    "                # Label left or right hand\n",
    "                cv2.putText(img, '%s %.3f' % (p['class'], p['score']), (x, y),\n",
    "                    cv2.FONT_HERSHEY_SIMPLEX, 1, (0,0,255), 2) # Red\n",
    "\n",
    "                min_depth = min(p['joint'][:,2])\n",
    "                max_depth = max(p['joint'][:,2])\n",
    "\n",
    "                # Loop through keypt and joint for each hand\n",
    "                for i in range(21):\n",
    "                    x = int(p['keypt'][i,0])\n",
    "                    y = int(p['keypt'][i,1])\n",
    "                    if x>0 and y>0 and x<img_width and y<img_height:\n",
    "                        # Convert depth to color nearer white, further black\n",
    "                        depth = (max_depth-p['joint'][i,2]) / (max_depth-min_depth)\n",
    "                        color = [int(255*depth), int(255*depth), int(255*depth)]\n",
    "                        size = int(10*depth)+2\n",
    "                        # size = 2\n",
    "\n",
    "                        # Draw skeleton\n",
    "                        start = p['keypt'][self.ktree[i],:]\n",
    "                        x_ = int(start[0])\n",
    "                        y_ = int(start[1])\n",
    "                        if x_>0 and y_>0 and x_<img_width and y_<img_height:\n",
    "                            cv2.line(img, (x_, y_), (x, y), color, 2)\n",
    "\n",
    "                        # Draw keypoint\n",
    "                        cv2.circle(img, (x, y), size, color, size)\n",
    "\n",
    "            # Label fps\n",
    "            if p['fps']>0:\n",
    "                cv2.putText(img, 'FPS: %.1f' % (p['fps']),\n",
    "                    (0, 30), cv2.FONT_HERSHEY_SIMPLEX, 1, (0,0,255), 2)\n",
    "\n",
    "        return img\n",
    "\n",
    "\n",
    "    def draw3d(self, param, img=None):\n",
    "        for i in range(self.max_num_hands):\n",
    "            if param[i]['class'] is None:\n",
    "                self.pcd[i].points = o3d.utility.Vector3dVector(np.zeros((21,3)))\n",
    "                self.bone[i].points = o3d.utility.Vector3dVector(np.zeros((21,3)))\n",
    "            else:\n",
    "                self.pcd[i].points = o3d.utility.Vector3dVector(param[i]['joint'])\n",
    "                self.bone[i].points = o3d.utility.Vector3dVector(param[i]['joint'])\n",
    "\n",
    "        if img is not None:\n",
    "            img = cv2.cvtColor(img, cv2.COLOR_BGR2RGB)\n",
    "            self.mesh_img.textures = [o3d.geometry.Image(img)]\n",
    "\n",
    "\n",
    "    def draw_joint_angle(self, img, p):\n",
    "        # Create text\n",
    "        text = None\n",
    "        if p['gesture']=='Finger MCP Flexion':\n",
    "            text = 'Index : %.1f \\\n",
    "                  \\nMiddle: %.1f \\\n",
    "                  \\nRing  : %.1f \\\n",
    "                  \\nLittle : %.1f' % \\\n",
    "                (p['angle'][3], p['angle'][6], p['angle'][9], p['angle'][12])\n",
    "\n",
    "        elif p['gesture']=='Finger PIP DIP Flexion':\n",
    "            text = 'PIP: \\\n",
    "                  \\nIndex : %.1f \\\n",
    "                  \\nMiddle: %.1f \\\n",
    "                  \\nRing  : %.1f \\\n",
    "                  \\nLittle : %.1f \\\n",
    "                  \\nDIP: \\\n",
    "                  \\nIndex : %.1f \\\n",
    "                  \\nMiddle: %.1f \\\n",
    "                  \\nRing  : %.1f \\\n",
    "                  \\nLittle : %.1f' % \\\n",
    "                (p['angle'][4], p['angle'][7], p['angle'][10], p['angle'][13],\n",
    "                 p['angle'][5], p['angle'][8], p['angle'][11], p['angle'][14])\n",
    "\n",
    "        elif p['gesture']=='Thumb MCP Flexion':\n",
    "            text = 'Angle: %.1f' % p['angle'][1]\n",
    "\n",
    "        elif p['gesture']=='Thumb IP Flexion':\n",
    "            text = 'Angle: %.1f' % p['angle'][2]\n",
    "\n",
    "        elif p['gesture']=='Thumb Radial Abduction':\n",
    "            text = 'Angle: %.1f' % p['angle'][0]\n",
    "\n",
    "        elif p['gesture']=='Thumb Palmar Abduction':\n",
    "            text = 'Angle: %.1f' % p['angle'][0]\n",
    "\n",
    "        elif p['gesture']=='Thumb Opposition':\n",
    "            # Dist btw thumb and little fingertip\n",
    "            dist = np.linalg.norm(p['joint'][4] - p['joint'][20])\n",
    "            text = 'Dist: %.3f' % dist\n",
    "\n",
    "        elif p['gesture']=='Forearm Neutral' or \\\n",
    "             p['gesture']=='Forearm Pronation' or \\\n",
    "             p['gesture']=='Forearm Supination' or \\\n",
    "             p['gesture']=='Wrist Flex/Extension' or \\\n",
    "             p['gesture']=='Wrist Radial/Ulnar Dev':\n",
    "            text = 'Angle: %.1f' % p['angle'][0]\n",
    "\n",
    "        if text is not None:\n",
    "            x0 = 10 # Starting x coor for placing text\n",
    "            y0 = 60 # Starting y coor for placing text\n",
    "            dy = 25 # Change in text vertical spacing\n",
    "            vert = len(text.split('\\n'))\n",
    "            # Draw black background\n",
    "            cv2.rectangle(img, (x0, y0), (140, y0+vert*dy+10), (0,0,0), -1)\n",
    "            # Draw text\n",
    "            for i, line in enumerate(text.split('\\n')):\n",
    "                y = y0 + (i+1)*dy\n",
    "                cv2.putText(img, line,\n",
    "                    (x0, y), cv2.FONT_HERSHEY_SIMPLEX, 0.6, (255,255,255), 2)\n",
    "\n",
    "\n",
    "    def draw_game_rps(self, img, param):\n",
    "        img_height, img_width, _ = img.shape\n",
    "\n",
    "        # Init result of 2 hands to none\n",
    "        res = [None, None]\n",
    "\n",
    "        # Loop through different hands\n",
    "        for j, p in enumerate(param):\n",
    "            # Only allow maximum of two hands\n",
    "            if j>1:\n",
    "                break\n",
    "\n",
    "            if p['class'] is not None:\n",
    "                # Loop through keypoint for each hand\n",
    "                for i in range(21):\n",
    "                    x = int(p['keypt'][i,0])\n",
    "                    y = int(p['keypt'][i,1])\n",
    "                    if x>0 and y>0 and x<img_width and y<img_height:\n",
    "                        # Draw skeleton\n",
    "                        start = p['keypt'][self.ktree[i],:]\n",
    "                        x_ = int(start[0])\n",
    "                        y_ = int(start[1])\n",
    "                        if x_>0 and y_>0 and x_<img_width and y_<img_height:\n",
    "                            cv2.line(img, (x_, y_), (x, y), self.color[i], 2)\n",
    "\n",
    "                        # Draw keypoint\n",
    "                        cv2.circle(img, (x, y), 5, self.color[i], -1)\n",
    "\n",
    "                # Label gesture\n",
    "                text = None\n",
    "                if p['gesture']=='fist':\n",
    "                    text = f\"Rock {p['gesture']}\"\n",
    "                elif p['gesture']=='five':\n",
    "                    text = f\"Paper {p['gesture']}\"\n",
    "                elif (p['gesture']=='three') or (p['gesture']=='yeah'):\n",
    "                    text = f\"Scissors {p['gesture']}\"\n",
    "                elif (p['gesture']=='rock') :\n",
    "                    text = f\"Lizard {p['gesture']}\"\n",
    "                elif (p['gesture']=='four'):\n",
    "                    text = f\"Spock {p['gesture']}\"\n",
    "                else:\n",
    "                    text = f\"{p['gesture']}\"\n",
    "\n",
    "\n",
    "\n",
    "                res[j] = text\n",
    "\n",
    "                # Label result\n",
    "                if text is not None:\n",
    "                    x = int(p['keypt'][0,0]) - 30\n",
    "                    y = int(p['keypt'][0,1]) + 40\n",
    "                    cv2.putText(img, '%s' % (text.upper()), (x, y),\n",
    "                        cv2.FONT_HERSHEY_SIMPLEX, 1, (0,0,255), 2) # Red\n",
    "\n",
    "        # Determine winner\n",
    "        text = None\n",
    "        winner = None\n",
    "        if res[0]=='rock':\n",
    "            if res[1]=='rock'     : text = 'Tie'\n",
    "            elif res[1]=='paper'  : text = 'Paper wins'  ; winner = 1\n",
    "            elif res[1]=='scissor': text = 'Rock wins'   ; winner = 0\n",
    "        elif res[0]=='paper':\n",
    "            if res[1]=='rock'     : text = 'Paper wins'  ; winner = 0\n",
    "            elif res[1]=='paper'  : text = 'Tie'\n",
    "            elif res[1]=='scissor': text = 'Scissor wins'; winner = 1\n",
    "        elif res[0]=='scissor':\n",
    "            if res[1]=='rock'     : text = 'Rock wins'   ; winner = 1\n",
    "            elif res[1]=='paper'  : text = 'Scissor wins'; winner = 0\n",
    "            elif res[1]=='scissor': text = 'Tie'\n",
    "\n",
    "        # Label gesture\n",
    "        if text is not None:\n",
    "            size = cv2.getTextSize(text.upper(),\n",
    "                # cv2.FONT_HERSHEY_SIMPLEX, 2, 2)[0]\n",
    "                cv2.FONT_HERSHEY_SIMPLEX, 1, 2)[0]\n",
    "            x = int((img_width-size[0]) / 2)\n",
    "            cv2.putText(img, text.upper(),\n",
    "                # (x, 50), cv2.FONT_HERSHEY_SIMPLEX, 2, (0,0,255), 2)\n",
    "                (x, 50), cv2.FONT_HERSHEY_SIMPLEX, 1, (0,0,255), 2)\n",
    "\n",
    "        # Draw winner text\n",
    "        if winner is not None:\n",
    "            x = int(param[winner]['keypt'][0,0]) - 30\n",
    "            y = int(param[winner]['keypt'][0,1]) + 80\n",
    "            cv2.putText(img, 'WINNER', (x, y),\n",
    "                cv2.FONT_HERSHEY_SIMPLEX, 1, (0,255,255), 2) # Yellow\n",
    "\n",
    "        return img\n",
    "\n",
    "\n"
   ],
   "metadata": {
    "collapsed": false,
    "ExecuteTime": {
     "start_time": "2023-04-26T16:59:07.260749Z",
     "end_time": "2023-04-26T16:59:10.619105Z"
    }
   }
  },
  {
   "cell_type": "code",
   "execution_count": 88,
   "outputs": [],
   "source": [
    "\n",
    "\n",
    "\n",
    "# Load mediapipe hand class\n",
    "pipe = MediaPipeHand(static_image_mode=False, max_num_hands=2)\n",
    "# Load gesture recognition class\n",
    "gest = GestureRecognition()\n",
    "\n",
    "# Load display class\n",
    "disp = DisplayHand(max_num_hands=2)\n",
    "\n",
    "# Start video capture\n",
    "cap = cv2.VideoCapture(0) # By default webcam is index 0\n",
    "\n",
    "\n",
    "\n",
    "counter = 0\n",
    "game_results=[]\n",
    "old_action=None\n",
    "while cap.isOpened():\n",
    "    ret, img = cap.read()\n",
    "    if not ret:\n",
    "        break\n",
    "\n",
    "    # Flip image for 3rd person view\n",
    "    img = cv2.flip(img, 1)\n",
    "\n",
    "    # To improve performance, optionally mark image as not writeable to pass by reference\n",
    "    img.flags.writeable = False\n",
    "\n",
    "    # Feedforward to extract keypoint\n",
    "    param = pipe.forward(img)\n",
    "    # Evaluate gesture for all hands\n",
    "\n",
    "    for p in param:\n",
    "        if p['class'] is not None:\n",
    "            p['gesture'] = gest.eval(p['angle'])\n",
    "            # print(p['class'])\n",
    "            # print(p['gesture'])\n",
    "\n",
    "            if p['gesture']=='fist':\n",
    "                action = Action.Rock\n",
    "            elif p['gesture']=='five':\n",
    "                action = Action.Paper\n",
    "            elif (p['gesture']=='three') or (p['gesture']=='yeah'):\n",
    "                action = Action.Scissors\n",
    "            elif (p['gesture']=='rock') :\n",
    "                action = Action.Lizard\n",
    "            elif (p['gesture']=='four'):\n",
    "                action = Action.Spock\n",
    "            if action is not None and (old_action is None or action.name!=old_action.name):\n",
    "                # computer_action = get_computer_selection()\n",
    "                # game_results.append(determine_winner(action, computer_action))\n",
    "                # counter+=1\n",
    "                # print_game_results(game_results)\n",
    "                # old_action=action\n",
    "                pass\n",
    "\n",
    "\n",
    "    img.flags.writeable = True\n",
    "\n",
    "    # Display keypoint and result of rock paper scissor game\n",
    "    cv2.imshow('Game: Rock Paper Scissor', disp.draw_game_rps(img.copy(), param))\n",
    "    key = cv2.waitKey(1)\n",
    "    if key==27:\n",
    "        break\n",
    "\n",
    "pipe.pipe.close()\n",
    "cap.release()"
   ],
   "metadata": {
    "collapsed": false,
    "ExecuteTime": {
     "start_time": "2023-04-26T17:00:14.965976Z",
     "end_time": "2023-04-26T17:02:20.154698Z"
    }
   }
  },
  {
   "cell_type": "code",
   "execution_count": null,
   "outputs": [],
   "source": [],
   "metadata": {
    "collapsed": false,
    "ExecuteTime": {
     "start_time": "2023-04-26T14:11:16.570334Z",
     "end_time": "2023-04-26T14:11:19.412069Z"
    }
   }
  },
  {
   "cell_type": "code",
   "execution_count": null,
   "outputs": [],
   "source": [
    "import io\n",
    "\n",
    "colab=False\n",
    "\n",
    "if colab:\n",
    "    from IPython.display import display, Javascript\n",
    "    from  google.colab.output import eval_js\n",
    "    from base64 import b64decode\n",
    "\n",
    "    def take_photo(quality=0.8):\n",
    "        js = Javascript('''\n",
    "        async function takePhoto(quality) {\n",
    "          const div = document.createElement('div');\n",
    "          const capture = document.createElement('button');\n",
    "          capture.textContent = 'Capture';\n",
    "          div.appendChild(capture);\n",
    "\n",
    "          const video = document.createElement('video');\n",
    "          video.style.display = 'block';\n",
    "          const stream = await navigator.mediaDevices.getUserMedia({video: true});\n",
    "\n",
    "          document.body.appendChild(div);\n",
    "          div.appendChild(video);\n",
    "          video.srcObject = stream;\n",
    "          await video.play();\n",
    "\n",
    "          // Resize the output to fit the video element.\n",
    "          google.colab.output.setIframeHeight(document.documentElement.scrollHeight, true);\n",
    "\n",
    "          // Wait for Capture to be clicked.\n",
    "          await new Promise((resolve) => capture.onclick = resolve);\n",
    "\n",
    "          const canvas = document.createElement('canvas');\n",
    "          canvas.width = video.videoWidth;\n",
    "          canvas.height = video.videoHeight;\n",
    "          canvas.getContext('2d').drawImage(video, 0, 0);\n",
    "          stream.getVideoTracks()[0].stop();\n",
    "          div.remove();\n",
    "          return canvas.toDataURL('image/jpeg', quality);\n",
    "        }\n",
    "        ''')\n",
    "        display(js)\n",
    "        data = eval_js('takePhoto({})'.format(quality))\n",
    "        binary = b64decode(data.split(',')[1])\n",
    "\n",
    "\n",
    "        image = Image.open(io.BytesIO(binary))\n",
    "        image_np = np.array(image)\n",
    "\n",
    "        # with open(filename, 'wb') as f:\n",
    "        #   f.write(binary)\n",
    "        return image_np\n",
    "else:\n",
    "    import cv2\n",
    "    def take_photo(filename='photo.jpg', quality=0.8):\n",
    "        cam = cv2.VideoCapture(0)\n",
    "\n",
    "        cv2.namedWindow(\"test\")\n",
    "\n",
    "        img_counter = 0\n",
    "\n",
    "        while True:\n",
    "            ret, frame = cam.read()\n",
    "            # Convert the image from BGR color (which OpenCV uses) to RGB color (which face_recognition uses)\n",
    "            if not ret:\n",
    "                print(\"failed to grab frame\")\n",
    "                break\n",
    "            cv2.imshow(\"test\", frame)\n",
    "\n",
    "            k = cv2.waitKey(1)\n",
    "            if k%256 == 27 or k%256 == 32 :\n",
    "                # ESC pressed\n",
    "                break\n",
    "\n",
    "        cam.release()\n",
    "\n",
    "        cv2.destroyAllWindows()\n",
    "\n",
    "        # frame = frame[:, :, ::-1]\n",
    "        # Flip image for 3rd person view\n",
    "        img = cv2.flip(frame, 1)\n",
    "\n",
    "        # To improve performance, optionally mark image as not writeable to pass by reference\n",
    "        img.flags.writeable = False\n",
    "\n",
    "        return img"
   ],
   "metadata": {
    "collapsed": false,
    "ExecuteTime": {
     "start_time": "2023-04-26T16:42:00.244738Z",
     "end_time": "2023-04-26T16:42:00.262421Z"
    }
   }
  },
  {
   "cell_type": "code",
   "execution_count": null,
   "outputs": [],
   "source": [
    "from matplotlib import pyplot as plt\n",
    "from IPython.display import Image\n",
    "def start_game(num_games=1):\n",
    "    game_results=[]\n",
    "    counter=0\n",
    "    # Load mediapipe hand class\n",
    "    pipe = MediaPipeHand(static_image_mode=True, max_num_hands=1)\n",
    "    # Load gesture recognition class\n",
    "    gest = GestureRecognition()\n",
    "    while True:\n",
    "        try:\n",
    "            img = take_photo()\n",
    "\n",
    "            # Show the image which was just taken.\n",
    "            plt.imshow(img)\n",
    "            # Feedforward to extract keypoint\n",
    "            param = pipe.forward(img)\n",
    "            # Evaluate gesture for all hands\n",
    "\n",
    "            for p in param:\n",
    "                if p['class'] is not None:\n",
    "                    p['gesture'] = gest.eval(p['angle'])\n",
    "                    # print(p['class'])\n",
    "                    # print(p['gesture'])\n",
    "\n",
    "                    if p['gesture']=='fist':\n",
    "                        action = Action.Rock\n",
    "                    elif p['gesture']=='five':\n",
    "                        action = Action.Paper\n",
    "                    elif (p['gesture']=='three') or (p['gesture']=='yeah'):\n",
    "                        action = Action.Scissors\n",
    "                    elif (p['gesture']=='rock') :\n",
    "                        action = Action.Lizard\n",
    "                    elif (p['gesture']=='four'):\n",
    "                        action = Action.Spock\n",
    "                    if action is not None:\n",
    "                        computer_action = get_computer_selection()\n",
    "                        game_results.append(determine_winner(action, computer_action))\n",
    "                        counter+=1\n",
    "                        print_game_results(game_results)\n",
    "                        old_action=action\n",
    "\n",
    "            if counter>=num_games:\n",
    "                break\n",
    "        except Exception as err:\n",
    "            # Errors will be thrown if the user does not have a webcam or if they do not\n",
    "            # grant the page permission to access it.\n",
    "            print(str(err))\n",
    "            raise err\n",
    "\n",
    "    pipe.pipe.close()\n",
    "    cap.release()"
   ],
   "metadata": {
    "collapsed": false,
    "ExecuteTime": {
     "start_time": "2023-04-26T16:42:32.630527Z",
     "end_time": "2023-04-26T16:42:32.701892Z"
    }
   }
  },
  {
   "cell_type": "code",
   "execution_count": null,
   "outputs": [],
   "source": [
    "start_game(num_games=5)"
   ],
   "metadata": {
    "collapsed": false,
    "ExecuteTime": {
     "start_time": "2023-04-26T16:43:13.416118Z",
     "end_time": "2023-04-26T16:43:47.733499Z"
    }
   }
  },
  {
   "cell_type": "code",
   "execution_count": null,
   "outputs": [],
   "source": [],
   "metadata": {
    "collapsed": false
   }
  }
 ],
 "metadata": {
  "kernelspec": {
   "display_name": "Python 3",
   "language": "python",
   "name": "python3"
  },
  "language_info": {
   "codemirror_mode": {
    "name": "ipython",
    "version": 2
   },
   "file_extension": ".py",
   "mimetype": "text/x-python",
   "name": "python",
   "nbconvert_exporter": "python",
   "pygments_lexer": "ipython2",
   "version": "2.7.6"
  }
 },
 "nbformat": 4,
 "nbformat_minor": 0
}
