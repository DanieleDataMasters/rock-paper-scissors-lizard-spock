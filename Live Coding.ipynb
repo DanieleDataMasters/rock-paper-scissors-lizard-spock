{
 "cells": [
  {
   "cell_type": "markdown",
   "id": "b35fe87b",
   "metadata": {},
   "source": [
    "# Rock - Paper - Scissors - Lizard - Spock\n",
    "\n",
    "Benvenuto al Beginners'Day del [Pycon 23](https://pycon.it/)! In questo workshop imparerai le basi della programmazione con il linguaggio Python sviluppando da zero svariate versioni del classico gioco Sasso-Carta-Forbice. Dalla versione classica alla version **top** in cui tramite Machine Learning il nostro programma riconoscerà da webcam la nostra mossa, tutto è a portata di mano."
   ]
  },
  {
   "cell_type": "markdown",
   "id": "78e5f376",
   "metadata": {},
   "source": [
    "## Task 1\n",
    "\n",
    "Nella prossima cella studieremo:\n",
    "\n",
    "*   cos'è una variabile in Python\n",
    "*   quali sono i tipi di variabile che è possibile avere in Python\n",
    "*   come è possible prendere un input da parte dell'utente\n",
    "*   come è possibile creare una lista con le possibili scelte di gioco\n",
    "*   come è possibile generare la mossa del computer in maniera casuale"
   ]
  },
  {
   "cell_type": "code",
   "execution_count": null,
   "id": "6cfa68db",
   "metadata": {},
   "outputs": [],
   "source": []
  },
  {
   "cell_type": "markdown",
   "id": "f9faebb5",
   "metadata": {},
   "source": [
    "## Task 2\n",
    "\n",
    "In questa cella confronteremo le mosse del computer e del giocatore per capire **chi ha vinto** e mostrare un messaggio adeguato"
   ]
  },
  {
   "cell_type": "code",
   "execution_count": null,
   "id": "90af3eea",
   "metadata": {},
   "outputs": [],
   "source": []
  },
  {
   "cell_type": "markdown",
   "id": "f9182a9f",
   "metadata": {},
   "source": [
    "### Task 2a - Ripetiamo le manche di gioco per fare una partita vera e propria\n",
    "\n",
    "In questa cella useremo un **loop** Python (in particolare un ciclo `while`) per **giocare un numero indefinito di manche**. In particolare andremo a ripetere all'interno del ciclo `while` tutto quello che abbiamo fatto finora per la singola manche: \n",
    "- prendere in input dall'utente una scelta\n",
    "- generare la mossa del computer\n",
    "- confrontare le mosse\n",
    "- mostrare un output\n",
    "\n",
    "A queste operazioni ne aggiungeremo una: **chiediamo all'utente se vuole giocare ancora e, in caso negativo, usciamo dal loop di gioco**."
   ]
  },
  {
   "cell_type": "code",
   "execution_count": null,
   "id": "47580fd9",
   "metadata": {},
   "outputs": [],
   "source": []
  },
  {
   "cell_type": "markdown",
   "id": "dd16cb05",
   "metadata": {},
   "source": [
    "## Task 3: Ottimizzazioni nel codice\n",
    "\n",
    "Ora che abbiamo una versione di base del gioco in cui possiamo giocare contro il computer e anche aumentare la durata di una partita, cerchiamo di essere un po'più **pro**. \n",
    "\n",
    "Andremo nelle prossime celle ad implementare una serie di ottimizzazioni che serviranno a rendere il nostro codice più manutenibile e leggibile. "
   ]
  },
  {
   "cell_type": "markdown",
   "id": "2dfe73b6",
   "metadata": {},
   "source": [
    "### Task 3a: Creiamo un enum\n",
    "\n",
    "In questa cella andiamo a generalizzare il concetto di \"azione\" creando una classe che **eredita** i comportamenti di `IntEnum` di Python"
   ]
  },
  {
   "cell_type": "code",
   "execution_count": null,
   "id": "0ec721b6",
   "metadata": {},
   "outputs": [],
   "source": []
  },
  {
   "cell_type": "markdown",
   "id": "92eea47a",
   "metadata": {},
   "source": [
    "### Task 3b: Usiamo delle funzioni per ottimizzare il codice\n",
    "\n",
    "Tramite l'utilizzo di funzioni dividiamo il nostro programma principale in \"blocchi\" di codice che potranno essere richiamati in qualsiasi momento ne abbiamo bisogno. In particolare il nostro gioco si può suddividere in 3 fasi:\n",
    "\n",
    "- Fai giocare l'utente -> `get_user_selection()`\n",
    "- Fai giocare il computer -> `get_computer_selection()`\n",
    "- Decidi chi ha vinto -> `determine_winner(user_selection, computer_selection)`"
   ]
  },
  {
   "cell_type": "code",
   "execution_count": null,
   "id": "08c5263b",
   "metadata": {},
   "outputs": [],
   "source": []
  },
  {
   "cell_type": "markdown",
   "id": "4ca7428d",
   "metadata": {},
   "source": [
    "Una volta create queste funzioni possiamo crearne un'unica che racchiuda tutta la logica di gioco che possiamo invocare (o chiamare) ogni volta che vogliamo iniziare una nuova partita: \n",
    "\n",
    "- `start_game()`\n"
   ]
  },
  {
   "cell_type": "code",
   "execution_count": null,
   "id": "8ebfa484",
   "metadata": {},
   "outputs": [],
   "source": []
  },
  {
   "cell_type": "markdown",
   "id": "6955e8bc",
   "metadata": {},
   "source": [
    "### Task 3c: Creiamo un dizionario con le mosse vincenti\n",
    "\n",
    "Creiamo un dizionario in cui avremo una coppia chiave/valore per ogni possibile mossa. In particolare:\n",
    "- la **chiave** sarà l'azione specificata nella nostra classe `Action`\n",
    "- il **valore** sarà **una lista** contenente le azioni della classe `Action` che *perdono* contro la mossa specificata come chiave"
   ]
  },
  {
   "cell_type": "code",
   "execution_count": null,
   "id": "96893f8d",
   "metadata": {},
   "outputs": [],
   "source": []
  },
  {
   "cell_type": "markdown",
   "id": "c3205d3c",
   "metadata": {},
   "source": [
    "### Task 3d: Usiamo il dizionario e l'operatore `in` per semplificare i controlli"
   ]
  },
  {
   "cell_type": "code",
   "execution_count": null,
   "id": "dce77a8a",
   "metadata": {},
   "outputs": [],
   "source": []
  },
  {
   "cell_type": "markdown",
   "id": "ee1b1835",
   "metadata": {},
   "source": [
    "### Task 3e: Aggiungiamo le altre mosse: `lizard` e `spock`\n",
    "\n",
    "È importante notare come grazie alle ottimizzazioni già fatte **l'aggiunta di nuove mosse ci viene *quasi* gratis!**"
   ]
  },
  {
   "cell_type": "code",
   "execution_count": null,
   "id": "60f6e2d5",
   "metadata": {},
   "outputs": [],
   "source": []
  },
  {
   "cell_type": "markdown",
   "id": "67881ce8",
   "metadata": {},
   "source": [
    "### Task 3f: Rendiamo più *catchy* il gioco tramite ASCII art \n",
    "\n",
    "Creeremo due nuovi dizionari: \n",
    "- in `ascii_action` metteremo le ascii art delle mosse\n",
    "- in `ascii_results` metteremo le ascii art dei possibili risultati"
   ]
  },
  {
   "cell_type": "code",
   "execution_count": null,
   "id": "4422813d",
   "metadata": {},
   "outputs": [],
   "source": []
  },
  {
   "cell_type": "markdown",
   "id": "75f2c6d5",
   "metadata": {},
   "source": [
    "Dopodichè creeremo due funzioni per visualizzare agevolmente azioni e risultati in ASCII art: \n",
    "- `display_action`\n",
    "- `display_results`"
   ]
  },
  {
   "cell_type": "code",
   "execution_count": null,
   "id": "c96921e2",
   "metadata": {},
   "outputs": [],
   "source": []
  },
  {
   "cell_type": "markdown",
   "id": "c1b643e3",
   "metadata": {},
   "source": [
    "Per usare queste funzioni dovremo modificare anche la funzione `determine_winner`"
   ]
  },
  {
   "cell_type": "code",
   "execution_count": null,
   "id": "252c6e45",
   "metadata": {},
   "outputs": [],
   "source": []
  },
  {
   "cell_type": "markdown",
   "id": "5e478a36",
   "metadata": {},
   "source": [
    "### Conserviamo i punteggi ottenuti manche per manche dagli utenti\n",
    "\n",
    "Non ci accontenteremo più solo dei messaggi di vittoria della singola manche. Vogliamo proprio fare una partita per capire chi vince fra utente e computer dopo N manche. Ora possiamo fare una vera e propria partita contro il computer e decidere quando finirla! "
   ]
  },
  {
   "cell_type": "code",
   "execution_count": null,
   "id": "ec5766f6",
   "metadata": {},
   "outputs": [],
   "source": []
  }
 ],
 "metadata": {
  "kernelspec": {
   "display_name": "Python 3 (ipykernel)",
   "language": "python",
   "name": "python3"
  },
  "language_info": {
   "codemirror_mode": {
    "name": "ipython",
    "version": 3
   },
   "file_extension": ".py",
   "mimetype": "text/x-python",
   "name": "python",
   "nbconvert_exporter": "python",
   "pygments_lexer": "ipython3",
   "version": "3.10.0"
  }
 },
 "nbformat": 4,
 "nbformat_minor": 5
}
